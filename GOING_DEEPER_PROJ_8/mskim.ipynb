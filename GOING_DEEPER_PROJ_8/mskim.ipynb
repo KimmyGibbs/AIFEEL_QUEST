{
 "cells": [
  {
   "cell_type": "markdown",
   "metadata": {},
   "source": [
    "# **27. LLM Trend Note 2[프로젝트]**"
   ]
  },
  {
   "cell_type": "markdown",
   "metadata": {},
   "source": [
    "## **27-1. 프로젝트: KoChatGPT 업그레이드 하기**"
   ]
  },
  {
   "cell_type": "markdown",
   "metadata": {},
   "source": [
    "KoChatGPT 소스코드를 바탕으로 다양한 모델 개선 전략을 선택해 KoChatGPT를 업그레이드해 보겠습니다.<br>\n",
    "\n",
    "아래 제시된 전략 중 하나를 선택하거나 여러 개를 조합하여\n",
    "여러분만의 custom ChatGPT를 개발해보세요. 물론 더 창의적인 좋은 아이디어를 도입해볼 수도 있겠죠?<br>\n",
    "\n",
    "복수의 전략을 선택했을 때 혼자서 실험해볼 시간이 부족하다면\n",
    "팀을 이뤄 분업을 해보셔도 좋습니다!<br>"
   ]
  },
  {
   "cell_type": "markdown",
   "metadata": {},
   "source": [
    "> 1.우리가 지난시간 살펴본 KoChatGPT 모델에 사용한 데이터셋은 아직 완벽히 정제되지 않았습니다.\n",
    "\n",
    "> 2.Hunman Feedback이 반영된 데이터셋을 대체하기 위해\n",
    "SFT와 RM 모델에 사용할 다양한 benchmark 데이터셋도 검토해볼 수 있습니다.\n",
    "\n",
    "> 3.언어모델의 생성능력을 좌우하는 최선의 디코딩을 위한 하이퍼파라미터 서치가 필요합니다.\n",
    "\n",
    "> 4.생성된 답변에 대한 주관적인 평가를 보완할 수 있는 정량적인 메트릭은 도입하지 않았었습니다.\n",
    "\n",
    "> 5.LLM Trend Note1에서 살펴본 다양한 Instruction Tuning 및 Prompting 기법들도 적용해볼만 합니다.\n",
    "\n",
    "> 6.무엇보다 foundation model로 사용한 KoGPT-2는 Emergent abilities를 기대하기엔 다소 작은 사이즈의 모델입니다.\n",
    "더 큰 파라미터 스케일을 가진 모델을 사용해보거나,\n",
    "\n",
    "> 7.더 효율적인 연산을 수행할 수 있는 LoRA의 적용 또는\n",
    "새로운 Instruction Tuning 및 reward ranking 알고리즘을 도입해볼 수도 있습니다."
   ]
  },
  {
   "cell_type": "markdown",
   "metadata": {},
   "source": [
    "어떤 걸 해야할 지 감이 잡히지 않는 분들을 위해\n",
    "몇 가지 예시를 소개해드리도록 하겠습니다."
   ]
  },
  {
   "cell_type": "markdown",
   "metadata": {},
   "source": [
    "#### **기존 데이터셋 추가 정제**\n",
    "\n",
    "data_kochatgpt 폴더에는 세 파일이 있습니다.<br>\n",
    "ㄱ. kochatgpt_1_SFT.jsonl : SFT를 위한 prompt와 completion 문장셋<br>\n",
    "ㄴ. kochatgpt_1_RM.jsonl : RM 학습을 위한 prompt와 세 가지 ranking 문장셋<br>\n",
    "ㄷ. kochatgpt_1_PPO.jsonl : promt 문장<br>\n",
    "\n",
    "각 말뭉치를 EDA하여 도메인과 문체, 길이분포, 문장의 완성도 등을 분석합니다.<br>\n",
    "언어모델의 문장생성능력은 말뭉치의 전처리 수준에 큰 영향을 받습니다.<br>\n",
    "말뭉치의 분석결과를 토대로 데이터를 정제하여 모델을 재학습시켜봅니다.<br>\n",
    "(정제후 데이터셋 크기가 줄어들지 않도록, 다양한 augmentation 기법을 활용하여 크기를 유지 내지 증량합니다.)<br>\n",
    "추가 전처리 후, 기존 인퍼런스 결과와 성능을 비교해봅니다.<br>\n",
    "(주관적인 평가와 BLEU, ROUGE 등을 활용한 정량적인 평가 결과를 비교 분석하여 제시합니다.)"
   ]
  },
  {
   "cell_type": "code",
   "execution_count": 1,
   "metadata": {},
   "outputs": [],
   "source": [
    "# 모듈 import\n",
    "import matplotlib.pyplot as plt\n",
    "import json\n",
    "import os\n",
    "os.environ[\"CUDA_VISIBLE_DEVICES\"] = \"0\"\n",
    "import torch\n",
    "import torch.nn as nn\n",
    "from torch.utils.data import Dataset\n",
    "from torch.optim import Adam\n",
    "from datasets import load_dataset\n",
    "import transformers\n",
    "from transformers import AutoTokenizer, AutoModelForCausalLM, pipeline\n",
    "from transformers import Trainer, TrainingArguments\n",
    "from copy import deepcopy\n",
    "import copy\n",
    "import logging\n",
    "from dataclasses import dataclass\n",
    "from typing import Optional, Dict, Sequence\n",
    "##\n",
    "from chatgpt.dataset import RewardDataset\n",
    "from chatgpt.models.base import RewardModel\n",
    "from chatgpt.trainer import RewardModelTrainer\n",
    "from chatgpt.trainer.strategies import NaiveStrategy\n",
    "from transformers import AutoModel, AutoConfig\n",
    "from transformers.models.gpt2.configuration_gpt2 import GPT2Config\n",
    "from transformers.models.gpt2.modeling_gpt2 import GPT2Model\n",
    "import loralib as lora\n",
    "import random\n",
    "##\n",
    "from chatgpt.models.gpt import GPTActor, GPTCritic\n",
    "from chatgpt.trainer import PPOTrainer"
   ]
  },
  {
   "cell_type": "code",
   "execution_count": 2,
   "metadata": {},
   "outputs": [
    {
     "name": "stdout",
     "output_type": "stream",
     "text": [
      "12000\n"
     ]
    },
    {
     "data": {
      "text/plain": [
       "[{'prompt': '불고기용 고기 한우에요?',\n",
       "  'completion': \"'저는 인공지능 챗봇이며, 직접적으로 식품에 관한 정보를 가지고 있지 않습니다. 하지만 일반적으로 불고기용 고기는 한우, 쇠고기, 돼지고기 등 다양한 종류의 고기를 사용합니다. 하지만 한우는 대표적인 고급 육류로 알려져 있기 때문에, 한우를 사용하는 경우도 많습니다. 알러지나 개별 건강 상태에 따라 다를 수 있으니 충분한 정보 수집 후에 선택해 주시기 바랍니다.\",\n",
       "  'tokens': 193},\n",
       " {'prompt': '쓰던 앱이 유료로 전환됐어',\n",
       "  'completion': \"'어떤 앱인지 모르기 때문에 정확한 답변을 드리기 어렵습니다. 하지만, 일반적으로 유료 전환된 앱은 기존 무료 앱에서 추가적인 기능이나 서비스를 제공하는 경우가 많습니다. 이 경우, 유료 전환 이전 가격이 매우 저렴하거나 무료인 경우가 많으므로, 앱을 계속 사용하려면 추가적인 비용을 지불해야 할 수 있습니다. 하지만, 유료 전환 이후에는 기존 사용자 또는 새로운 사용자 모두가 추가 기능과 높은 품질의 서비스를 이용할 수 있게 됩니다. 따라서, 앱 개발자는 유료 모델로 전환함으로써 앱의 수익을 증가시키고 더 나은 서비스를 제공할 수 있습니다.\",\n",
       "  'tokens': 288},\n",
       " {'prompt': '여친이랑 다툼',\n",
       "  'completion': \"'저는 인공지능이기 때문에 여친과의 다툼에 대해서는 조언을 드릴 수는 없습니다. 하지만 다투게 되면 상대방의 말을 경청하는 태도와 서로의 감정을 존중하는 것이 중요합니다. 논리적이고 차분한 대화를 통해 문제를 해결해보세요. 그리고 서로를 이해하고 서로의 의견을 수용하는 것이 중요합니다.\",\n",
       "  'tokens': 153}]"
      ]
     },
     "execution_count": 2,
     "metadata": {},
     "output_type": "execute_result"
    }
   ],
   "source": [
    "# SFT 데이터셋 확인\n",
    "data_path_1_SFT = '/aiffel/KoChatGPT/data_kochatgpt/kochatgpt_1_SFT.jsonl' \n",
    "with open(data_path_1_SFT, \"r\", encoding='utf-8-sig') as json_file:\n",
    "    list_data_dict = json.load(json_file)\n",
    "\n",
    "print(len(list_data_dict))\n",
    "list_data_dict[:3]"
   ]
  },
  {
   "cell_type": "markdown",
   "metadata": {},
   "source": [
    "1. `SFT 데이터셋`은 `list_dict` 형태의 데이터 구조를 가진다.\n",
    "2. `list_dict` 형태의 `item`은 `prompt`와 `completion`을 각각 `Key`로 하는 `dict` 타입의 데이터이다."
   ]
  },
  {
   "cell_type": "code",
   "execution_count": 3,
   "metadata": {},
   "outputs": [
    {
     "name": "stdout",
     "output_type": "stream",
     "text": [
      "                                          prompt  \\\n",
      "0                                  불고기용 고기 한우에요?   \n",
      "1                                 쓰던 앱이 유료로 전환됐어   \n",
      "2                                        여친이랑 다툼   \n",
      "3                                        술 먹고 싶어   \n",
      "4                                          잊고싶다.   \n",
      "...                                          ...   \n",
      "11995                  내일 개강총회인데 짝녀한테 어떻게 잘 보이지.   \n",
      "11996                                    역세권이에요?   \n",
      "11997  암호화폐를 분산 저장하여 운영 관리 될 수 있도록 하는 인터넷상의 방식은?   \n",
      "11998                               가출해도 갈 데가 없어   \n",
      "11999                                  목포극장 개업일은   \n",
      "\n",
      "                                              completion  tokens  \n",
      "0      '저는 인공지능 챗봇이며, 직접적으로 식품에 관한 정보를 가지고 있지 않습니다. 하...     193  \n",
      "1      '어떤 앱인지 모르기 때문에 정확한 답변을 드리기 어렵습니다. 하지만, 일반적으로 ...     288  \n",
      "2      '저는 인공지능이기 때문에 여친과의 다툼에 대해서는 조언을 드릴 수는 없습니다. 하...     153  \n",
      "3      '술은 알코올이 함유된 음료수이며, 건강에 나쁜 영향을 미칠 수 있습니다. 따라서 ...     189  \n",
      "4      '저도 인공지능 엔진으로써 사용자의 개인정보나 감정을 침해할 수 없습니다. 그렇기 ...     147  \n",
      "...                                                  ...     ...  \n",
      "11995  '제가 AI 모델이기 때문에 남성인점 참고 부탁드립니다. 다음과 같이 제안드립니다....     411  \n",
      "11996  \"저는 인공지능 언어모델이어서 지리적인 개념을 이해하는 데 한계가 있습니다. 반면,...     232  \n",
      "11997  '블록체인 기술을 사용하여 암호화폐를 분산 저장하여 운영 및 관리하는 것을 의미합니...     214  \n",
      "11998  '그렇다면, 우선적으로 생활에 필요한 것들을 생각해보시는 것이 좋습니다. 가장 먼저...     473  \n",
      "11999  '제가 알기로는 정확한 날짜를 알 수 없습니다. 재개발로 구조가 변경되고 리모델링 ...     120  \n",
      "\n",
      "[12000 rows x 3 columns]\n"
     ]
    }
   ],
   "source": [
    "import pandas as pd\n",
    "# 데이터를 Pandas 데이터프레임으로 변환\n",
    "df = pd.DataFrame(list_data_dict)\n",
    "\n",
    "# 데이터프레임 확인\n",
    "print(df)"
   ]
  },
  {
   "cell_type": "code",
   "execution_count": 4,
   "metadata": {},
   "outputs": [
    {
     "data": {
      "image/png": "[encoded data removed]",
      "text/plain": [
       "<Figure size 576x432 with 1 Axes>"
      ]
     },
     "metadata": {
      "needs_background": "light"
     },
     "output_type": "display_data"
    }
   ],
   "source": [
    "# 히스토그램 그리기 (tokens)\n",
    "plt.figure(figsize=(8, 6))\n",
    "plt.hist(df['tokens'], bins=10, alpha=0.5, color='blue')\n",
    "plt.xlabel('Sentence Length')\n",
    "plt.ylabel('Frequency')\n",
    "plt.title('Distribution of Sentence Lengths')\n",
    "plt.show()"
   ]
  },
  {
   "cell_type": "code",
   "execution_count": 5,
   "metadata": {},
   "outputs": [
    {
     "data": {
      "image/png": "[encoded data removed]",
      "text/plain": [
       "<Figure size 576x432 with 1 Axes>"
      ]
     },
     "metadata": {
      "needs_background": "light"
     },
     "output_type": "display_data"
    }
   ],
   "source": [
    "# 'prompt'의 문장 길이 계산\n",
    "df['prompt_length'] = df['prompt'].apply(lambda x: len(x))\n",
    "\n",
    "# 히스토그램 그리기 (prompt)\n",
    "plt.figure(figsize=(8, 6))\n",
    "plt.hist(df['prompt_length'], bins=10, alpha=0.5, color='green')\n",
    "plt.xlabel('Prompt Length')\n",
    "plt.ylabel('Frequency')\n",
    "plt.title('Distribution of Sentence Lengths')\n",
    "plt.show()"
   ]
  },
  {
   "cell_type": "code",
   "execution_count": 6,
   "metadata": {},
   "outputs": [
    {
     "data": {
      "image/png": "[encoded data removed]",
      "text/plain": [
       "<Figure size 576x432 with 1 Axes>"
      ]
     },
     "metadata": {
      "needs_background": "light"
     },
     "output_type": "display_data"
    }
   ],
   "source": [
    "# 'completion'의 문장 길이 계산\n",
    "df['completion_length'] = df['completion'].apply(lambda x: len(x))\n",
    "\n",
    "# 히스토그램 그리기 (prompt)\n",
    "plt.figure(figsize=(8, 6))\n",
    "plt.hist(df['completion_length'], bins=10, alpha=0.5, color='red')\n",
    "plt.xlabel('Completion Length')\n",
    "plt.ylabel('Frequency')\n",
    "plt.title('Distribution of Sentence Lengths')\n",
    "plt.show()"
   ]
  },
  {
   "cell_type": "code",
   "execution_count": 7,
   "metadata": {},
   "outputs": [
    {
     "name": "stdout",
     "output_type": "stream",
     "text": [
      "             tokens  prompt_length  completion_length\n",
      "count  12000.000000   12000.000000       12000.000000\n",
      "mean     159.311667      22.180583         144.107250\n",
      "std      109.054326      14.110028         122.843692\n",
      "min       17.000000       0.000000           4.000000\n",
      "25%       85.000000      13.000000          62.000000\n",
      "50%      134.000000      19.000000         118.000000\n",
      "75%      198.250000      28.000000         185.000000\n",
      "max     1111.000000     295.000000        1553.000000\n"
     ]
    }
   ],
   "source": [
    "# 통계적 요약 정보\n",
    "summary_stats = df.describe()\n",
    "print(summary_stats)"
   ]
  },
  {
   "cell_type": "code",
   "execution_count": 8,
   "metadata": {},
   "outputs": [
    {
     "name": "stdout",
     "output_type": "stream",
     "text": [
      "GPT2TokenizerFast(name_or_path='skt/kogpt2-base-v2', vocab_size=51200, model_max_length=512, is_fast=True, padding_side='right', truncation_side='right', special_tokens={'bos_token': '</s>', 'eos_token': '</s>', 'unk_token': '</s>', 'pad_token': '</s>'}, clean_up_tokenization_spaces=True)\n"
     ]
    }
   ],
   "source": [
    "# SFT를 처리할 모델과 토크나이저 불러오기\n",
    "model = AutoModelForCausalLM.from_pretrained('skt/kogpt2-base-v2')\n",
    "tokenizer = AutoTokenizer.from_pretrained(\n",
    "    'skt/kogpt2-base-v2', bos_token='</s>', eos_token='</s>', unk_token='</s>', pad_token='</s>',\n",
    "    padding_side=\"right\",\n",
    "    model_max_length=512,\n",
    ")\n",
    "\n",
    "print(tokenizer)"
   ]
  },
  {
   "cell_type": "code",
   "execution_count": 9,
   "metadata": {},
   "outputs": [],
   "source": [
    "# 모델 inferrence에서 사용할 클래스 정의\n",
    "class SFT_dataset(Dataset):\n",
    "\n",
    "    def __init__(self, data_path_1_SFT: str, tokenizer: transformers.PreTrainedTokenizer, verbose=False):\n",
    "        super(SFT_dataset, self).__init__()\n",
    "        logging.warning(\"Loading data...\")\n",
    "\n",
    "        pattern_instruction = 'prompt'  # instruction\n",
    "        pattern_output = 'completion'  # response\n",
    "\n",
    "        data_path_1_SFT = '/aiffel/KoChatGPT/data_kochatgpt/kochatgpt_1_SFT.jsonl'\n",
    "        with open(data_path_1_SFT, \"r\", encoding='utf-8-sig') as json_file:\n",
    "            list_data_dict = json.load(json_file)\n",
    "\n",
    "        PROMPT_DICT = {\n",
    "            \"prompt_input\": (\n",
    "                \"### Instruction(명령어):\\n{prompt}\\n\\n### Response(응답):\"\n",
    "            )\n",
    "        }\n",
    "\n",
    "        prompt_input = PROMPT_DICT[\"prompt_input\"]\n",
    "        \n",
    "        # 여기다가 전처리를 해야겠네..\n",
    "        ## completion 길이별 전처리 (via MAX_LEN)\n",
    "        list_data_dict = check_sentence_length(list_data_dict, MAX_LEN=250)\n",
    "\n",
    "        sources = []\n",
    "        for example in list_data_dict:\n",
    "            tmp = prompt_input.format_map(example)\n",
    "            sources.append(tmp)\n",
    "\n",
    "        targets = []\n",
    "        for example in list_data_dict:\n",
    "            targets.append(f\"{example[pattern_output]}{tokenizer.eos_token}\")\n",
    "        examples = [s + t for s, t in zip(sources, targets)]\n",
    "\n",
    "        sources_tokenized = self._tokenize_fn(sources, tokenizer)  # source\n",
    "        examples_tokenized = self._tokenize_fn(examples, tokenizer)  # source + target\n",
    "\n",
    "        input_ids = examples_tokenized[\"input_ids\"]\n",
    "        labels = copy.deepcopy(input_ids)\n",
    "        for label, source_len in zip(labels, sources_tokenized[\"input_ids_lens\"]):\n",
    "            label[:source_len] = -100\n",
    "\n",
    "        data_dict = dict(input_ids=input_ids, labels=labels)\n",
    "\n",
    "        self.input_ids = data_dict[\"input_ids\"]\n",
    "        self.labels = data_dict[\"labels\"]\n",
    "        logging.warning(\"Loading data done!!: %d\"%(len(self.labels)))\n",
    "\n",
    "\n",
    "    def _tokenize_fn(self, strings: Sequence[str], tokenizer: transformers.PreTrainedTokenizer) -> Dict:\n",
    "        tokenized_list = [\n",
    "            tokenizer(\n",
    "                text,\n",
    "                return_tensors=\"pt\",\n",
    "                padding=\"longest\",\n",
    "                max_length=tokenizer.model_max_length,\n",
    "                truncation=True,\n",
    "            )\n",
    "            for text in strings\n",
    "        ]\n",
    "        input_ids = labels = [tokenized.input_ids[0] for tokenized in tokenized_list]\n",
    "        input_ids_lens = labels_lens = [\n",
    "            tokenized.input_ids.ne(tokenizer.pad_token_id).sum().item() for tokenized in tokenized_list\n",
    "        ]\n",
    "        return dict(\n",
    "            input_ids=input_ids,\n",
    "            labels=labels,\n",
    "            input_ids_lens=input_ids_lens,\n",
    "            labels_lens=labels_lens,\n",
    "        )\n",
    "\n",
    "\n",
    "    def __len__(self):\n",
    "        return len(self.input_ids)\n",
    "\n",
    "\n",
    "    def __getitem__(self, i) -> Dict[str, torch.Tensor]:\n",
    "        return dict(input_ids=self.input_ids[i], labels=self.labels[i])"
   ]
  },
  {
   "cell_type": "code",
   "execution_count": 10,
   "metadata": {},
   "outputs": [],
   "source": [
    "## 지도학습용 데이터 전처리 클래스 선언\n",
    "@dataclass\n",
    "class DataCollatorForSupervisedDataset(object): \n",
    "\n",
    "    tokenizer: transformers.PreTrainedTokenizer\n",
    "\n",
    "    def __call__(self, instances: Sequence[Dict]) -> Dict[str, torch.Tensor]:\n",
    "        input_ids, labels = tuple([instance[key] for instance in instances] for key in (\"input_ids\", \"labels\"))\n",
    "        input_ids = torch.nn.utils.rnn.pad_sequence(\n",
    "            input_ids, batch_first=True, padding_value=self.tokenizer.pad_token_id\n",
    "        )\n",
    "        labels = torch.nn.utils.rnn.pad_sequence(labels, batch_first=True, padding_value= -100)\n",
    "        return dict(\n",
    "            input_ids=input_ids,\n",
    "            labels=labels,\n",
    "            attention_mask=input_ids.ne(self.tokenizer.pad_token_id),\n",
    "        )"
   ]
  },
  {
   "cell_type": "code",
   "execution_count": 11,
   "metadata": {},
   "outputs": [],
   "source": [
    "# SFT 데이터셋 전처리 함수 생성\n",
    "## completion의 길이를 체크하여 특정 길이 이상의 데이터를 없애는 로직으로 접근\n",
    "def check_sentence_length(list_dict, MAX_LEN=250):\n",
    "    res_list = []\n",
    "    \n",
    "    for item in list_dict:\n",
    "        if len(item['completion']) <= MAX_LEN:\n",
    "            res_list.append(item)\n",
    "    \n",
    "    return res_list    "
   ]
  },
  {
   "cell_type": "code",
   "execution_count": 12,
   "metadata": {},
   "outputs": [
    {
     "name": "stderr",
     "output_type": "stream",
     "text": [
      "WARNING:root:Loading data...\n",
      "WARNING:root:Loading data done!!: 10576\n"
     ]
    },
    {
     "name": "stdout",
     "output_type": "stream",
     "text": [
      "input : tensor([  739,   378,   378,   378, 14659, 13394, 37091, 10651,   383, 25841,\n",
      "         8006, 14914,   375,  7673, 20479,  8091, 22311,  9036, 30902, 13675,\n",
      "          375,   378,   378,   378, 41951,   454,  9549, 20549,   383,  8142,\n",
      "         7192, 14914,   382, 37767, 13753,  8263,  7166,   739,  8352,  7659,\n",
      "         9594, 25585, 13600,  8022,  9378, 11532,  9887, 11218,  9111, 16691,\n",
      "        10351, 10561,  9128, 20479,  8091,  9065,  9446,  9036, 28420, 26521,\n",
      "        10163, 26367,  6958,  9030,  9882, 12317, 25882,  9209, 37194, 10351,\n",
      "         9036, 12168, 10529, 15989,  9719, 15434, 10552, 11188, 13362,  9036,\n",
      "        15805, 11300, 11846,  9146, 16691,  9181,  7397, 15806, 13480, 11342,\n",
      "        17596,  9161, 19996,  9025, 25006, 18595,  9966, 12592, 10751, 11814,\n",
      "         8711,  9046, 12450,  9117,  7377, 12521,     1])\n",
      "output: tensor([ -100,  -100,  -100,  -100,  -100,  -100,  -100,  -100,  -100,  -100,\n",
      "         -100,  -100,  -100,  -100,  -100,  -100,  -100,  -100,  -100,  -100,\n",
      "         -100,  -100,  -100,  -100,  -100,  -100,  -100,  -100,  -100,  -100,\n",
      "         -100,  -100,   382, 37767, 13753,  8263,  7166,   739,  8352,  7659,\n",
      "         9594, 25585, 13600,  8022,  9378, 11532,  9887, 11218,  9111, 16691,\n",
      "        10351, 10561,  9128, 20479,  8091,  9065,  9446,  9036, 28420, 26521,\n",
      "        10163, 26367,  6958,  9030,  9882, 12317, 25882,  9209, 37194, 10351,\n",
      "         9036, 12168, 10529, 15989,  9719, 15434, 10552, 11188, 13362,  9036,\n",
      "        15805, 11300, 11846,  9146, 16691,  9181,  7397, 15806, 13480, 11342,\n",
      "        17596,  9161, 19996,  9025, 25006, 18595,  9966, 12592, 10751, 11814,\n",
      "         8711,  9046, 12450,  9117,  7377, 12521,     1])\n"
     ]
    }
   ],
   "source": [
    "# 훈련 데이터셋을 만들기\n",
    "train_dataset = SFT_dataset(data_path_1_SFT='/aiffel/KoChatGPT/data_kochatgpt/kochatgpt_1_SFT.jsonl', tokenizer=tokenizer)\n",
    "data_collator = DataCollatorForSupervisedDataset(tokenizer=tokenizer)\n",
    "\n",
    "print('input : %s'%train_dataset.input_ids[0])\n",
    "print('output: %s'%train_dataset.labels[0])"
   ]
  },
  {
   "cell_type": "code",
   "execution_count": 13,
   "metadata": {},
   "outputs": [
    {
     "name": "stdout",
     "output_type": "stream",
     "text": [
      "input : ### Instruction(명령어):\n",
      "불고기용 고기 한우에요?\n",
      "\n",
      "### Response(응답):'저는 인공지능 챗봇이며, 직접적으로 식품에 관한 정보를 가지고 있지 않습니다. 하지만 일반적으로 불고기용 고기는 한우, 쇠고기, 돼지고기 등 다양한 종류의 고기를 사용합니다. 하지만 한우는 대표적인 고급 육류로 알려져 있기 때문에, 한우를 사용하는 경우도 많습니다. 알러지나 개별 건강 상태에 따라 다를 수 있으니 충분한 정보 수집 후에 선택해 주시기 바랍니다.\n",
      "output: \n"
     ]
    }
   ],
   "source": [
    "# 텐서를 텍스트로 디코딩하는 함수\n",
    "def decode_tensor_to_text(tokenizer, tensor):\n",
    "    # 텐서를 CPU로 이동하고, numpy 배열로 변환\n",
    "    tensor = tensor.cpu().numpy()\n",
    "\n",
    "    # 패딩 토큰과 -100을 제외한 토큰만 선택\n",
    "    tokens = []\n",
    "    for token in tensor:\n",
    "        if token == tokenizer.pad_token_id or token == -100:  # 패딩 토큰 또는 -100일 경우 루프 종료\n",
    "            break\n",
    "        tokens.append(token)\n",
    "\n",
    "    # 토큰을 텍스트로 디코딩\n",
    "    decoded_text = tokenizer.decode(tokens, skip_special_tokens=True)\n",
    "    return decoded_text\n",
    "\n",
    "# input_ids와 labels 텐서를 디코딩하여 텍스트로 출력\n",
    "input_text = decode_tensor_to_text(tokenizer, train_dataset.input_ids[0])\n",
    "output_text = decode_tensor_to_text(tokenizer, train_dataset.labels[0])\n",
    "\n",
    "print('input :', input_text)\n",
    "print('output:', output_text)"
   ]
  },
  {
   "cell_type": "code",
   "execution_count": 14,
   "metadata": {},
   "outputs": [],
   "source": [
    "# 훈련용 Trainer 클래스 정의\n",
    "training_args = TrainingArguments(\n",
    "    output_dir=\"aiffel/KoChatGPT/test\",\n",
    "    overwrite_output_dir=True,\n",
    "    num_train_epochs=1,\n",
    "    per_device_train_batch_size=8,\n",
    "    per_device_eval_batch_size=8,\n",
    "    warmup_steps=5,\n",
    "    prediction_loss_only=True,\n",
    "    fp16 = True\n",
    "    )\n",
    "trainer = Trainer(\n",
    "    model=model,\n",
    "    args=training_args,\n",
    "    data_collator=data_collator,\n",
    "    train_dataset=train_dataset\n",
    ")"
   ]
  },
  {
   "cell_type": "code",
   "execution_count": 15,
   "metadata": {},
   "outputs": [
    {
     "name": "stderr",
     "output_type": "stream",
     "text": [
      "/opt/conda/lib/python3.9/site-packages/transformers/optimization.py:391: FutureWarning: This implementation of AdamW is deprecated and will be removed in a future version. Use the PyTorch implementation torch.optim.AdamW instead, or set `no_deprecation_warning=True` to disable this warning\n",
      "  warnings.warn(\n"
     ]
    },
    {
     "data": {
      "text/html": [
       "\n",
       "    <div>\n",
       "      \n",
       "      <progress value='1322' max='1322' style='width:300px; height:20px; vertical-align: middle;'></progress>\n",
       "      [1322/1322 03:58, Epoch 1/1]\n",
       "    </div>\n",
       "    <table border=\"1\" class=\"dataframe\">\n",
       "  <thead>\n",
       " <tr style=\"text-align: left;\">\n",
       "      <th>Step</th>\n",
       "      <th>Training Loss</th>\n",
       "    </tr>\n",
       "  </thead>\n",
       "  <tbody>\n",
       "    <tr>\n",
       "      <td>500</td>\n",
       "      <td>2.870500</td>\n",
       "    </tr>\n",
       "    <tr>\n",
       "      <td>1000</td>\n",
       "      <td>2.681300</td>\n",
       "    </tr>\n",
       "  </tbody>\n",
       "</table><p>"
      ],
      "text/plain": [
       "<IPython.core.display.HTML object>"
      ]
     },
     "metadata": {},
     "output_type": "display_data"
    }
   ],
   "source": [
    "# SFT 훈련 진행\n",
    "trainer.train()\n",
    "model.save_pretrained('/aiffel/KoChatGPT/output_1_SFT')"
   ]
  },
  {
   "cell_type": "markdown",
   "metadata": {},
   "source": [
    "- 전처리 중 문장길이(`completion`의 길이)가 250 이하인 데이터만 학습데이터로 사용\n",
    "1. 동일 `step`에서 training loss가 조금 줄었다.\n",
    "    - 학습노드 기준 500 step loss : 2.984100\n",
    "    - 학습노드 기준 100 step loss : 2.776800\n",
    "    - 학습노드 기준 1500 step loss : 2.687200\n",
    "2. 데이터가 줄어서 그런지 1500 스텝이 훈련중에 보이지 않았다."
   ]
  },
  {
   "cell_type": "code",
   "execution_count": 16,
   "metadata": {},
   "outputs": [
    {
     "name": "stderr",
     "output_type": "stream",
     "text": [
      "/opt/conda/lib/python3.9/site-packages/transformers/generation/utils.py:1219: UserWarning: You have modified the pretrained model configuration to control generation. This is a deprecated strategy to control generation and will be removed soon, in a future version. Please use a generation configuration file (see https://huggingface.co/docs/transformers/main_classes/text_generation)\n",
      "  warnings.warn(\n"
     ]
    },
    {
     "name": "stdout",
     "output_type": "stream",
     "text": [
      "\n",
      "### Instruction(명령어):\n",
      "불고기용 고기 한우에요?\n",
      "\n",
      "### Response(응답):'저는 인공지능 어시스턴트이기 때문에 실제로 불고기용 고기를 구매할 수 없습니다. 하지만 일반적으로 불고기용 고기는 다양한 종류의 요리와 함께 먹을 수 있기 때문에 취향에 따라 선택하시면 좋을 것 같습니다. 감사합니다.辛酉)辛酉辛酉申酉申酉辛酉辛\n",
      "\n",
      "### Instruction(명령어):\n",
      "리처드 닉슨이 43대 부통령직을 수행한 년도는?\n",
      "\n",
      "### Response(응답):'리처드 닉슨은 41대 부통령직을 수행하지 않았습니다. Captain) Control: \"리처드 닉슨\" 또는 \"Captain Johnson\" 등의 용어가 사용됩니다. Controversion)은 리처드 닉슨이 47대 부통령직을 수행할 때 사용한 용어 중\n",
      "\n",
      "### Instruction(명령어):\n",
      "시카고 오헤어 국제공항은 어디에 있어?\n",
      "\n",
      "### Response(응답):'시카고 오헤이어 국제공항은 미국 일리노이주 시카고에 위치해 있습니다. Americano Pacific Airports의 약자입니다. Americano-Pacific Administrations의 약자로 \"시카고\" 또는 \"오헤어\"를 의미합니다. Americano\n",
      "\n",
      "### Instruction(명령어):\n",
      "오늘 미세먼지 어때?\n",
      "\n",
      "### Response(응답):'저는 인공지능 어시스턴트이므로 미세먼지와 관련된 정보를 알 수 없습니다. 하지만 인터넷 검색을 통해 미세먼지 정보를 찾아보시는 것을 추천드립니다! 감사합니다.美濃)美濃相應: \"미세먼지\" 입니다.美濃上應:\n"
     ]
    }
   ],
   "source": [
    "# SFT 모델 검증 (문장 생성 능력 확인)\n",
    "generator = pipeline('text-generation', model='/aiffel/KoChatGPT/output_1_SFT', tokenizer=tokenizer)\n",
    "\n",
    "generation_args = dict(   \n",
    "    num_beams=4,\n",
    "    repetition_penalty=2.0,\n",
    "    no_repeat_ngram_size=4,\n",
    "    eos_token_id=375, # \\n   \n",
    "    max_new_tokens=64,\n",
    "    do_sample=True,\n",
    "    top_k=50,\n",
    "    early_stopping=True\n",
    ")\n",
    "\n",
    "PROMPT_DICT = {\n",
    "    \"prompt_input\": (\n",
    "        \"### Instruction(명령어):\\n{prompt}\\n\\n### Response(응답):\"\n",
    "    )\n",
    "}\n",
    "\n",
    "list_prompt = ['불고기용 고기 한우에요?',\n",
    "               '리처드 닉슨이 43대 부통령직을 수행한 년도는?',\n",
    "               '시카고 오헤어 국제공항은 어디에 있어?',\n",
    "               '오늘 미세먼지 어때?']\n",
    "\n",
    "list_prompt = [PROMPT_DICT['prompt_input'].format_map({'prompt' : tmp}) for tmp in list_prompt]\n",
    "\n",
    "list_result = generator(list_prompt, **generation_args)   \n",
    "for prompt, result in zip(list_prompt, list_result):\n",
    "    print()\n",
    "    print((result[0]['generated_text']))"
   ]
  },
  {
   "cell_type": "markdown",
   "metadata": {},
   "source": [
    "`BLEU SCORE`"
   ]
  },
  {
   "cell_type": "code",
   "execution_count": 17,
   "metadata": {},
   "outputs": [],
   "source": [
    "import nltk\n",
    "from nltk.translate.bleu_score import sentence_bleu\n",
    "\n",
    "def bleu_score(reference, candidate):\n",
    "    # 실제 번역된 문장 (모델의 출력)\n",
    "    reference = reference.split()\n",
    "    \n",
    "    # 모델이 생성한 번역 후보 문장\n",
    "    candidate = candidate.split()\n",
    "    \n",
    "    # BLUE 스코어 계산\n",
    "    bleu_score = sentence_bleu([reference], candidate)\n",
    "    \n",
    "    # 소수점 이하 4자리까지 출력\n",
    "    formatted_bleu_score = format(bleu_score, '.4f')\n",
    "    \n",
    "    return formatted_bleu_score"
   ]
  },
  {
   "cell_type": "markdown",
   "metadata": {},
   "source": [
    "`ROUGE SCORE`"
   ]
  },
  {
   "cell_type": "code",
   "execution_count": 19,
   "metadata": {},
   "outputs": [],
   "source": [
    "from rouge_score import rouge_scorer\n",
    "\n",
    "def rough_socre_n1(reference, candidate):\n",
    "    \n",
    "    ## ROUGE 스코어 계산; ROUGE-1 (1-gram)\n",
    "    score_1 = rouge_scorer.RougeScorer(['rouge1'])\n",
    "    scores_1 = score_1.score(reference, candidate)\n",
    "    \n",
    "    \n",
    "\n",
    "    return scores_1\n",
    "\n",
    "def rough_socre_n2(reference, candidate):\n",
    "    ## ROUGE 스코어 계산; ROUGE-2 (2-gram)\n",
    "    score_2 = rouge_scorer.RougeScorer(['rouge2'])\n",
    "    scores_2 = score_2.score(reference, candidate)\n",
    "\n",
    "    return scores_2"
   ]
  },
  {
   "cell_type": "code",
   "execution_count": 21,
   "metadata": {},
   "outputs": [
    {
     "name": "stdout",
     "output_type": "stream",
     "text": [
      "BLEU Score: 0.0645\n",
      "===\n",
      "ROUGE-1 Precision: 0.0\n",
      "ROUGE-1 Recall: 0.0\n",
      "ROUGE-1 F1 Score: 0.0\n",
      "===\n",
      "ROUGE-2 Precision: 0.0\n",
      "ROUGE-2 Recall: 0.0\n",
      "ROUGE-2 F1 Score: 0.0\n",
      "BLEU Score: 0.0000\n",
      "===\n",
      "ROUGE-1 Precision: 0.0\n",
      "ROUGE-1 Recall: 0.0\n",
      "ROUGE-1 F1 Score: 0.0\n",
      "===\n",
      "ROUGE-2 Precision: 0.0\n",
      "ROUGE-2 Recall: 0.0\n",
      "ROUGE-2 F1 Score: 0.0\n",
      "BLEU Score: 0.0000\n",
      "===\n",
      "ROUGE-1 Precision: 0.0\n",
      "ROUGE-1 Recall: 0.0\n",
      "ROUGE-1 F1 Score: 0.0\n",
      "===\n",
      "ROUGE-2 Precision: 0.0\n",
      "ROUGE-2 Recall: 0.0\n",
      "ROUGE-2 F1 Score: 0.0\n",
      "BLEU Score: 0.0000\n",
      "===\n",
      "ROUGE-1 Precision: 0.0\n",
      "ROUGE-1 Recall: 0.0\n",
      "ROUGE-1 F1 Score: 0.0\n",
      "===\n",
      "ROUGE-2 Precision: 0.0\n",
      "ROUGE-2 Recall: 0.0\n",
      "ROUGE-2 F1 Score: 0.0\n"
     ]
    },
    {
     "name": "stderr",
     "output_type": "stream",
     "text": [
      "/opt/conda/lib/python3.9/site-packages/nltk/translate/bleu_score.py:515: UserWarning: \n",
      "The hypothesis contains 0 counts of 2-gram overlaps.\n",
      "Therefore the BLEU score evaluates to 0, independently of\n",
      "how many N-gram overlaps of lower order it contains.\n",
      "Consider using lower n-gram order or use SmoothingFunction()\n",
      "  warnings.warn(_msg)\n",
      "/opt/conda/lib/python3.9/site-packages/nltk/translate/bleu_score.py:515: UserWarning: \n",
      "The hypothesis contains 0 counts of 3-gram overlaps.\n",
      "Therefore the BLEU score evaluates to 0, independently of\n",
      "how many N-gram overlaps of lower order it contains.\n",
      "Consider using lower n-gram order or use SmoothingFunction()\n",
      "  warnings.warn(_msg)\n",
      "/opt/conda/lib/python3.9/site-packages/nltk/translate/bleu_score.py:515: UserWarning: \n",
      "The hypothesis contains 0 counts of 4-gram overlaps.\n",
      "Therefore the BLEU score evaluates to 0, independently of\n",
      "how many N-gram overlaps of lower order it contains.\n",
      "Consider using lower n-gram order or use SmoothingFunction()\n",
      "  warnings.warn(_msg)\n"
     ]
    }
   ],
   "source": [
    "# 기존 데이터셋을 `### Instruction(명령어):`로 순회하여 얻은 답변을 기반으로 구성함\n",
    "candidates_list = [\n",
    "    \"'저는 인공지능 챗봇이며, 직접적으로 식품에 관한 정보를 가지고 있지 않습니다. 하지만 일반적으로 불고기용 고기는 한우, 쇠고기, 돼지고기 등 다양한 종류의 고기를 사용합니다. 하지만 한우는 대표적인 고급 육류로 알려져 있기 때문에, 한우를 사용하는 경우도 많습니다. 알러지나 개별 건강 상태에 따라 다를 수 있으니 충분한 정보 수집 후에 선택해 주시기 바랍니다.\", \n",
    "    \"'1953년입니다.\", \n",
    "    \"''\", \n",
    "    \"'미세먼지 농도는 어제와 비교해서 개선되었지만 아직도 나쁜 수준이며, 마스크 착용과 실외 활동 자제를 권장합니다. 정확한 미세먼지 농도를 확인하려면 해당 지역의 미세먼지 측정소에서 확인해보시기 바랍니다.\"\n",
    "]\n",
    "# 평가하고 나온 응답을 기반으로 구성함\n",
    "reference_list = [\n",
    "    \"저는 인공지능 어시스턴트이기 때문에 실제로 불고기용 고기를 구매할 수 없습니다. 하지만 일반적으로 불고기용 고기는 다양한 종류의 요리와 함께 먹을 수 있기 때문에 취향에 따라 선택하시면 좋을 것 같습니다. 감사합니다.辛酉)辛酉辛酉申酉申酉辛酉辛\", \n",
    "    \"리처드 닉슨은 41대 부통령직을 수행하지 않았습니다.\", \n",
    "    '시카고 오헤이어 국제공항은 미국 일리노이주 시카고에 위치해 있습니다. Americano Pacific Airports의 약자입니다. Americano-Pacific Administrations의 약자로 \"시카고\" 또는 \"오헤어\"를 의미합니다. Americano', \n",
    "    '저는 인공지능 어시스턴트이므로 미세먼지와 관련된 정보를 알 수 없습니다. 하지만 인터넷 검색을 통해 미세먼지 정보를 찾아보시는 것을 추천드립니다! 감사합니다.美濃)美濃相應: \"미세먼지\" 입니다.美濃上應:'\n",
    "]\n",
    "\n",
    "\n",
    "\n",
    "for i in range(len(reference_list)):\n",
    "    print(f\"BLEU Score: {bleu_score(reference_list[i], candidates_list[i])}\")\n",
    "    print(\"===\")\n",
    "    print(f\"ROUGE-1 Precision: {rough_socre_n1(reference_list[i], candidates_list[i])['rouge1'].precision}\")\n",
    "    print(f\"ROUGE-1 Recall: {rough_socre_n1(reference_list[i], candidates_list[i])['rouge1'].recall}\")\n",
    "    print(f\"ROUGE-1 F1 Score: {rough_socre_n1(reference_list[i], candidates_list[i])['rouge1'].fmeasure}\")\n",
    "    print(\"===\")\n",
    "    print(f\"ROUGE-2 Precision: {rough_socre_n2(reference_list[i], candidates_list[i])['rouge2'].precision}\")\n",
    "    print(f\"ROUGE-2 Recall: {rough_socre_n2(reference_list[i], candidates_list[i])['rouge2'].recall}\")\n",
    "    print(f\"ROUGE-2 F1 Score: {rough_socre_n2(reference_list[i], candidates_list[i])['rouge2'].fmeasure}\")"
   ]
  },
  {
   "cell_type": "markdown",
   "metadata": {},
   "source": [
    "`ROUGE` 스코어에 사용된 문장이 이상해서 그런걸까?.."
   ]
  },
  {
   "cell_type": "code",
   "execution_count": 22,
   "metadata": {},
   "outputs": [],
   "source": [
    "## CUDA 캐시 비우기\n",
    "torch.cuda.empty_cache()"
   ]
  },
  {
   "cell_type": "markdown",
   "metadata": {},
   "source": [
    "---"
   ]
  },
  {
   "cell_type": "code",
   "execution_count": 23,
   "metadata": {},
   "outputs": [
    {
     "name": "stdout",
     "output_type": "stream",
     "text": [
      "10220\n"
     ]
    },
    {
     "data": {
      "text/plain": [
       "[{'prompt': '번디는 자신이 탐정잡지, 범죄소설 그리고 성범죄 관련 실제 범죄 다큐멘터리들을 탐독했다고 누구에게 말했나?',\n",
       "  'completion_0': 'Allow me to answer your question. I know that you are curious about me.',\n",
       "  'completion_1': '번디는 다양한 인터뷰자들과 뉴스홍보 담당자들과의 면담 때 밝혔다.',\n",
       "  'completion_2': '라이언에게 말했다.',\n",
       "  'ranking': [2, 1, 0]},\n",
       " {'prompt': '개포주공아파트는 몇 단지로 이루어져 있나?',\n",
       "  'completion_0': '개포주공아파트는 다섯 단지로 이루어져 있습니다.',\n",
       "  'completion_1': '이날 목송에서 구글상위노',\n",
       "  'completion_2': '개포주공아파트는 총 27개 단지로 이루어져 있습니다.',\n",
       "  'ranking': [2, 0, 1]},\n",
       " {'prompt': '김영삼의 후보 시절 지역표심을 겨냥한 발언을 문제삼은 후보는?',\n",
       "  'completion_0': 'The diameter of the Metallic domain is bigger than the Hyperonic domain.',\n",
       "  'completion_1': '이 질문은 조금 불분명합니다. 김영삼 대통령이 후보 시절에 어떤 발언을 했고, 누가 그 발언을 문제삼았는지에 따라 답이 다를 수 있습니다.\\\\n\\\\n만약 김영삼 대통령이 후보 시절에 지역표심을 겨냥한 발언을 했다는 가정하에, 그 발언을 문제삼은 후보가 누구였는지를 대답하자면, 그 답은 이화선 당시 민주당 대통령 후보가 될 것입니다. 1992년 총선 때, 김영삼 대선후보는 \"집값이 오른 노량진역 부근의 부동산 가격은 세월호 폭침 후 \\\\\\'강남 도시재생\\\\\\' 일환으로 상승했다\"는 발언을 했습니다. 하지만 이화선 후보는 이 발언을 \"전국적으로 경제적 발전이 이루어지지 않은 지방민의 마음을 멀리해지려는 무례한 발언\"이라고 비판하며 문제삼았습니다.\\\\n\\\\n하지만, 이 질문을 답변하는 데 있어서 보다 명확한 정보가 있으면 답변을 보완할 수 있습니다.',\n",
       "  'completion_2': '김영삼의 후보 시절에 지역표심을 겨냥한 발언은 대통령 당선 전까지 대한민국 정부가 추구하고 있는 민주주의 광범위하게 확립과 보수의 사상을 이어가는 데 있어 지역경제 발전과 공공서비스 신속 개선을 위해 합리적인 국가 정책에 따르는 방향성을 제시하고 있습니다.',\n",
       "  'ranking': [1, 2, 0]}]"
      ]
     },
     "execution_count": 23,
     "metadata": {},
     "output_type": "execute_result"
    }
   ],
   "source": [
    "# RM 데이터셋 확인\n",
    "data_path_2_RM = '/aiffel/KoChatGPT/data_kochatgpt/kochatgpt_2_RM.jsonl'\n",
    "with open(data_path_2_RM, \"r\", encoding='utf-8-sig') as json_file:\n",
    "    list_data_dict = json.load(json_file)\n",
    "\n",
    "print(len(list_data_dict))\n",
    "list_data_dict[:3]"
   ]
  },
  {
   "cell_type": "code",
   "execution_count": 24,
   "metadata": {},
   "outputs": [],
   "source": [
    "### 데이터 EDA"
   ]
  },
  {
   "cell_type": "code",
   "execution_count": 25,
   "metadata": {},
   "outputs": [
    {
     "name": "stdout",
     "output_type": "stream",
     "text": [
      "                                                  prompt  \\\n",
      "0      번디는 자신이 탐정잡지, 범죄소설 그리고 성범죄 관련 실제 범죄 다큐멘터리들을 탐독...   \n",
      "1                                개포주공아파트는 몇 단지로 이루어져 있나?   \n",
      "2                     김영삼의 후보 시절 지역표심을 겨냥한 발언을 문제삼은 후보는?   \n",
      "3                               페르시아로부터 기원된 아랍요리의 특징이 뭐야   \n",
      "4                         중화인민공화국의 기본 법률은 누가 제정 및 개정하는가?   \n",
      "...                                                  ...   \n",
      "10215                           야세르 아라파트 국제공항은 어느 나라에 있어   \n",
      "10216                                          핸드폰이 잘 안돼   \n",
      "10217                                          토트백은 없나요?   \n",
      "10218                                               딱 좋아   \n",
      "10219                 아 네 선생님 서류 확인 하겠습니다. 차 번호 어떻게 됩니까?   \n",
      "\n",
      "                                            completion_0  \\\n",
      "0      Allow me to answer your question. I know that ...   \n",
      "1                             개포주공아파트는 다섯 단지로 이루어져 있습니다.   \n",
      "2      The diameter of the Metallic domain is bigger ...   \n",
      "3      1. 다양한 스파이스와 허브 사용\\n2. 쌀, 콩, 나물, 고기, 양파 등 다양한 ...   \n",
      "4              중화인민공화국의 기본 법률은 중국인민대표대회(국회)가 제정하고 개정합니다.   \n",
      "...                                                  ...   \n",
      "10215  야세르 국제공항은 어느 나라에 있어\\n\\n야세르 국제공항은 이상 국가 폭태들 국가 ...   \n",
      "10216         가는 것 같았다.\\n\\nThey (the subject) said that.   \n",
      "10217  사용자들 개인개석을 하고, 토트백을 하고, 기별 개인개석을 하고, 기별 개인개석을 ...   \n",
      "10218  한다고한다\\n\\n다시 그런데 태민이 개인을 토려한 것 같다는 것도 가지다\\n\\n\\n...   \n",
      "10219  -아무래들 같은 것 같앗들 같앗 \\n\\n-다시 같은 것 같앗들 같앗 \\n\\n-다시 ...   \n",
      "\n",
      "                                            completion_1  \\\n",
      "0                   번디는 다양한 인터뷰자들과 뉴스홍보 담당자들과의 면담 때 밝혔다.   \n",
      "1                                          이날 목송에서 구글상위노   \n",
      "2      이 질문은 조금 불분명합니다. 김영삼 대통령이 후보 시절에 어떤 발언을 했고, 누가...   \n",
      "3      - 아랍요리는 소금, 산 재료, 일부 채소, 고기, 생선 또는 난류의 조합으로 만들...   \n",
      "4      The limit of the Office of the Vice President is?   \n",
      "...                                                  ...   \n",
      "10215        요?\\n\\n야세르 아라파트 국제공항은 아랍 에미리트 연합의 두바이에 있습니다.   \n",
      "10216  할 일:\\n\\n1. 배터리를 확인하세요. 배터리가 항상 충전되어 있지 않은 경우 핸...   \n",
      "10217                                 아직 제품이 출시되지 않았습니다.   \n",
      "10218                        그러게요! 좋아하면 사랑하는 마음으로 즐겨보세요!   \n",
      "10219                           내 차번호는 번호판에 적힌 것과 동일합니다.   \n",
      "\n",
      "                                            completion_2    ranking  \n",
      "0                                             라이언에게 말했다.  [2, 1, 0]  \n",
      "1                          개포주공아파트는 총 27개 단지로 이루어져 있습니다.  [2, 0, 1]  \n",
      "2      김영삼의 후보 시절에 지역표심을 겨냥한 발언은 대통령 당선 전까지 대한민국 정부가 ...  [1, 2, 0]  \n",
      "3      위한 태야 대표 기원들 개인이라 겪고 태야\\n\\n\\n귀식 걸 공개한 구문\\n\\n사띩...  [0, 1, 2]  \n",
      "4               중화인민공화국의 기본 법률은 중화인민공화국의 의회가 제정 및 개정합니다.  [0, 2, 1]  \n",
      "...                                                  ...        ...  \n",
      "10215                       야세르 아라파트 국제공항은 터키에 위치해 있습니다.  [2, 1, 0]  \n",
      "10216  요\\n\\n1. 먼저 핸드폰의 배터리를 꼭 확인해 보세요. 배터리가 부족한 경우 핸드...  [1, 2, 0]  \n",
      "10217  죄송합니다. 저는 AI 언어 모델로써 실시간으로 답변을 해드리고 있기 때문에, 어떤...  [2, 1, 0]  \n",
      "10218  딱 좋아요! 나는 이 노래를 정말 좋아합니다. 노래는 정말 좋은 멜로디와 가사로 이...  [1, 2, 0]  \n",
      "10219  죄송합니다. 저는 인공지능 어시스턴트이므로 차량 번호를 확인할 수 없습니다. 해당 ...  [2, 1, 0]  \n",
      "\n",
      "[10220 rows x 5 columns]\n"
     ]
    }
   ],
   "source": [
    "# 데이터를 Pandas 데이터프레임으로 변환\n",
    "df = pd.DataFrame(list_data_dict)\n",
    "\n",
    "# 데이터프레임 확인\n",
    "print(df)"
   ]
  },
  {
   "cell_type": "code",
   "execution_count": 26,
   "metadata": {},
   "outputs": [
    {
     "data": {
      "text/html": [
       "<div>\n",
       "<style scoped>\n",
       "    .dataframe tbody tr th:only-of-type {\n",
       "        vertical-align: middle;\n",
       "    }\n",
       "\n",
       "    .dataframe tbody tr th {\n",
       "        vertical-align: top;\n",
       "    }\n",
       "\n",
       "    .dataframe thead th {\n",
       "        text-align: right;\n",
       "    }\n",
       "</style>\n",
       "<table border=\"1\" class=\"dataframe\">\n",
       "  <thead>\n",
       "    <tr style=\"text-align: right;\">\n",
       "      <th></th>\n",
       "      <th>prompt</th>\n",
       "      <th>completion_0</th>\n",
       "      <th>completion_1</th>\n",
       "      <th>completion_2</th>\n",
       "      <th>ranking</th>\n",
       "    </tr>\n",
       "  </thead>\n",
       "  <tbody>\n",
       "    <tr>\n",
       "      <th>0</th>\n",
       "      <td>번디는 자신이 탐정잡지, 범죄소설 그리고 성범죄 관련 실제 범죄 다큐멘터리들을 탐독...</td>\n",
       "      <td>Allow me to answer your question. I know that ...</td>\n",
       "      <td>번디는 다양한 인터뷰자들과 뉴스홍보 담당자들과의 면담 때 밝혔다.</td>\n",
       "      <td>라이언에게 말했다.</td>\n",
       "      <td>[2, 1, 0]</td>\n",
       "    </tr>\n",
       "    <tr>\n",
       "      <th>1</th>\n",
       "      <td>개포주공아파트는 몇 단지로 이루어져 있나?</td>\n",
       "      <td>개포주공아파트는 다섯 단지로 이루어져 있습니다.</td>\n",
       "      <td>이날 목송에서 구글상위노</td>\n",
       "      <td>개포주공아파트는 총 27개 단지로 이루어져 있습니다.</td>\n",
       "      <td>[2, 0, 1]</td>\n",
       "    </tr>\n",
       "    <tr>\n",
       "      <th>2</th>\n",
       "      <td>김영삼의 후보 시절 지역표심을 겨냥한 발언을 문제삼은 후보는?</td>\n",
       "      <td>The diameter of the Metallic domain is bigger ...</td>\n",
       "      <td>이 질문은 조금 불분명합니다. 김영삼 대통령이 후보 시절에 어떤 발언을 했고, 누가...</td>\n",
       "      <td>김영삼의 후보 시절에 지역표심을 겨냥한 발언은 대통령 당선 전까지 대한민국 정부가 ...</td>\n",
       "      <td>[1, 2, 0]</td>\n",
       "    </tr>\n",
       "    <tr>\n",
       "      <th>3</th>\n",
       "      <td>페르시아로부터 기원된 아랍요리의 특징이 뭐야</td>\n",
       "      <td>1. 다양한 스파이스와 허브 사용\\n2. 쌀, 콩, 나물, 고기, 양파 등 다양한 ...</td>\n",
       "      <td>- 아랍요리는 소금, 산 재료, 일부 채소, 고기, 생선 또는 난류의 조합으로 만들...</td>\n",
       "      <td>위한 태야 대표 기원들 개인이라 겪고 태야\\n\\n\\n귀식 걸 공개한 구문\\n\\n사띩...</td>\n",
       "      <td>[0, 1, 2]</td>\n",
       "    </tr>\n",
       "    <tr>\n",
       "      <th>4</th>\n",
       "      <td>중화인민공화국의 기본 법률은 누가 제정 및 개정하는가?</td>\n",
       "      <td>중화인민공화국의 기본 법률은 중국인민대표대회(국회)가 제정하고 개정합니다.</td>\n",
       "      <td>The limit of the Office of the Vice President is?</td>\n",
       "      <td>중화인민공화국의 기본 법률은 중화인민공화국의 의회가 제정 및 개정합니다.</td>\n",
       "      <td>[0, 2, 1]</td>\n",
       "    </tr>\n",
       "  </tbody>\n",
       "</table>\n",
       "</div>"
      ],
      "text/plain": [
       "                                              prompt  \\\n",
       "0  번디는 자신이 탐정잡지, 범죄소설 그리고 성범죄 관련 실제 범죄 다큐멘터리들을 탐독...   \n",
       "1                            개포주공아파트는 몇 단지로 이루어져 있나?   \n",
       "2                 김영삼의 후보 시절 지역표심을 겨냥한 발언을 문제삼은 후보는?   \n",
       "3                           페르시아로부터 기원된 아랍요리의 특징이 뭐야   \n",
       "4                     중화인민공화국의 기본 법률은 누가 제정 및 개정하는가?   \n",
       "\n",
       "                                        completion_0  \\\n",
       "0  Allow me to answer your question. I know that ...   \n",
       "1                         개포주공아파트는 다섯 단지로 이루어져 있습니다.   \n",
       "2  The diameter of the Metallic domain is bigger ...   \n",
       "3  1. 다양한 스파이스와 허브 사용\\n2. 쌀, 콩, 나물, 고기, 양파 등 다양한 ...   \n",
       "4          중화인민공화국의 기본 법률은 중국인민대표대회(국회)가 제정하고 개정합니다.   \n",
       "\n",
       "                                        completion_1  \\\n",
       "0               번디는 다양한 인터뷰자들과 뉴스홍보 담당자들과의 면담 때 밝혔다.   \n",
       "1                                      이날 목송에서 구글상위노   \n",
       "2  이 질문은 조금 불분명합니다. 김영삼 대통령이 후보 시절에 어떤 발언을 했고, 누가...   \n",
       "3  - 아랍요리는 소금, 산 재료, 일부 채소, 고기, 생선 또는 난류의 조합으로 만들...   \n",
       "4  The limit of the Office of the Vice President is?   \n",
       "\n",
       "                                        completion_2    ranking  \n",
       "0                                         라이언에게 말했다.  [2, 1, 0]  \n",
       "1                      개포주공아파트는 총 27개 단지로 이루어져 있습니다.  [2, 0, 1]  \n",
       "2  김영삼의 후보 시절에 지역표심을 겨냥한 발언은 대통령 당선 전까지 대한민국 정부가 ...  [1, 2, 0]  \n",
       "3  위한 태야 대표 기원들 개인이라 겪고 태야\\n\\n\\n귀식 걸 공개한 구문\\n\\n사띩...  [0, 1, 2]  \n",
       "4           중화인민공화국의 기본 법률은 중화인민공화국의 의회가 제정 및 개정합니다.  [0, 2, 1]  "
      ]
     },
     "execution_count": 26,
     "metadata": {},
     "output_type": "execute_result"
    }
   ],
   "source": [
    "df.head()"
   ]
  },
  {
   "cell_type": "code",
   "execution_count": 27,
   "metadata": {},
   "outputs": [
    {
     "data": {
      "image/png": "[encoded data removed]",
      "text/plain": [
       "<Figure size 576x432 with 1 Axes>"
      ]
     },
     "metadata": {
      "needs_background": "light"
     },
     "output_type": "display_data"
    }
   ],
   "source": [
    "# 'prompt'의 문장 길이 계산\n",
    "df['prompt_length'] = df['prompt'].apply(lambda x: len(x))\n",
    "\n",
    "# 히스토그램 그리기 (prompt)\n",
    "plt.figure(figsize=(8, 6))\n",
    "plt.hist(df['prompt_length'], bins=10, alpha=0.5, color='blue')\n",
    "plt.xlabel('Sentence Length')\n",
    "plt.ylabel('Frequency')\n",
    "plt.title('Distribution of Sentence Lengths')\n",
    "plt.show()"
   ]
  },
  {
   "cell_type": "code",
   "execution_count": 28,
   "metadata": {},
   "outputs": [
    {
     "data": {
      "image/png": "[encoded data removed]",
      "text/plain": [
       "<Figure size 576x432 with 1 Axes>"
      ]
     },
     "metadata": {
      "needs_background": "light"
     },
     "output_type": "display_data"
    }
   ],
   "source": [
    "# 'completion_0'의 문장 길이 계산\n",
    "df['completion_0_length'] = df['completion_0'].apply(lambda x: len(x))\n",
    "\n",
    "# 히스토그램 그리기 (prompt)\n",
    "plt.figure(figsize=(8, 6))\n",
    "plt.hist(df['completion_0_length'], bins=10, alpha=0.5, color='blue')\n",
    "plt.xlabel('Sentence Length')\n",
    "plt.ylabel('Frequency')\n",
    "plt.title('Distribution of Sentence Lengths')\n",
    "plt.show()"
   ]
  },
  {
   "cell_type": "code",
   "execution_count": 29,
   "metadata": {},
   "outputs": [
    {
     "data": {
      "image/png": "[encoded data removed]",
      "text/plain": [
       "<Figure size 576x432 with 1 Axes>"
      ]
     },
     "metadata": {
      "needs_background": "light"
     },
     "output_type": "display_data"
    }
   ],
   "source": [
    "# 'completion_1'의 문장 길이 계산\n",
    "df['completion_1_length'] = df['completion_1'].apply(lambda x: len(x))\n",
    "\n",
    "# 히스토그램 그리기 (prompt)\n",
    "plt.figure(figsize=(8, 6))\n",
    "plt.hist(df['completion_1_length'], bins=10, alpha=0.5, color='blue')\n",
    "plt.xlabel('Sentence Length')\n",
    "plt.ylabel('Frequency')\n",
    "plt.title('Distribution of Sentence Lengths')\n",
    "plt.show()"
   ]
  },
  {
   "cell_type": "code",
   "execution_count": 30,
   "metadata": {},
   "outputs": [
    {
     "data": {
      "image/png": "[encoded data removed]",
      "text/plain": [
       "<Figure size 576x432 with 1 Axes>"
      ]
     },
     "metadata": {
      "needs_background": "light"
     },
     "output_type": "display_data"
    }
   ],
   "source": [
    "# 'completion_0'의 문장 길이 계산\n",
    "df['completion_2_length'] = df['completion_2'].apply(lambda x: len(x))\n",
    "\n",
    "# 히스토그램 그리기 (prompt)\n",
    "plt.figure(figsize=(8, 6))\n",
    "plt.hist(df['completion_2_length'], bins=10, alpha=0.5, color='blue')\n",
    "plt.xlabel('Sentence Length')\n",
    "plt.ylabel('Frequency')\n",
    "plt.title('Distribution of Sentence Lengths')\n",
    "plt.show()"
   ]
  },
  {
   "cell_type": "code",
   "execution_count": 31,
   "metadata": {},
   "outputs": [
    {
     "name": "stdout",
     "output_type": "stream",
     "text": [
      "       prompt_length  completion_0_length  completion_1_length  \\\n",
      "count   10220.000000         10220.000000         10220.000000   \n",
      "mean       22.203229           117.493151           116.805675   \n",
      "std        14.297097           120.476514           126.148677   \n",
      "min         0.000000             0.000000             0.000000   \n",
      "25%        13.000000            42.000000            42.000000   \n",
      "50%        19.000000           102.000000           100.500000   \n",
      "75%        28.000000           143.000000           143.000000   \n",
      "max       295.000000          3088.000000          3694.000000   \n",
      "\n",
      "       completion_2_length  \n",
      "count         10220.000000  \n",
      "mean            116.005479  \n",
      "std             120.154507  \n",
      "min               0.000000  \n",
      "25%              41.000000  \n",
      "50%              99.500000  \n",
      "75%             142.000000  \n",
      "max            2979.000000  \n"
     ]
    }
   ],
   "source": [
    "# 통계적 요약 정보\n",
    "summary_stats = df.describe()\n",
    "print(summary_stats)"
   ]
  },
  {
   "cell_type": "code",
   "execution_count": 32,
   "metadata": {},
   "outputs": [],
   "source": [
    "# Reward model 설계를 위한 Class 생성\n",
    "class GPTRM_custom(RewardModel):\n",
    "\n",
    "    def __init__(self,\n",
    "                 pretrained: Optional[str] = None,\n",
    "                 config: Optional[GPT2Config] = None,\n",
    "                 checkpoint: bool = False,\n",
    "                 lora_rank: int = 0,\n",
    "                 lora_train_bias: str = 'none',\n",
    "                 tokenizer=None) -> None:\n",
    "        if pretrained is not None:\n",
    "            model = GPT2Model.from_pretrained(pretrained)\n",
    "            model.resize_token_embeddings(len(tokenizer))\n",
    "        elif config is not None:\n",
    "            model = GPT2Model(config)\n",
    "        else:\n",
    "            model = GPT2Model(GPT2Config())\n",
    "        if checkpoint:\n",
    "            model.gradient_checkpointing_enable()\n",
    "\n",
    "        value_head = nn.Linear(model.config.n_embd, 1)\n",
    "        super().__init__(model, value_head, lora_rank, lora_train_bias)\n",
    "\n",
    "        if pretrained is not None:\n",
    "            self.model = model\n",
    "            self.pretrained = pretrained\n",
    "\n",
    "\n",
    "    def save_pretrained(self, dir):\n",
    "        if self.pretrained is not None:\n",
    "            self.model.save_pretrained(dir)"
   ]
  },
  {
   "cell_type": "code",
   "execution_count": 33,
   "metadata": {},
   "outputs": [
    {
     "name": "stderr",
     "output_type": "stream",
     "text": [
      "Some weights of the model checkpoint at skt/kogpt2-base-v2 were not used when initializing GPT2Model: ['lm_head.weight']\n",
      "- This IS expected if you are initializing GPT2Model from the checkpoint of a model trained on another task or with another architecture (e.g. initializing a BertForSequenceClassification model from a BertForPreTraining model).\n",
      "- This IS NOT expected if you are initializing GPT2Model from the checkpoint of a model that you expect to be exactly identical (initializing a BertForSequenceClassification model from a BertForSequenceClassification model).\n"
     ]
    }
   ],
   "source": [
    "# Reward 모델과 토크나이저 불러오기\n",
    "model = AutoModelForCausalLM.from_pretrained('skt/kogpt2-base-v2')\n",
    "tokenizer = AutoTokenizer.from_pretrained(\n",
    "    'skt/kogpt2-base-v2', bos_token='</s>', eos_token='</s>', unk_token='</s>', pad_token='</s>',\n",
    "    padding_side=\"right\",\n",
    "    model_max_length=512,\n",
    ")\n",
    "\n",
    "with NaiveStrategy().model_init_context():\n",
    "        model = GPTRM_custom(pretrained='skt/kogpt2-base-v2', lora_rank=0, tokenizer=tokenizer).cuda()"
   ]
  },
  {
   "cell_type": "code",
   "execution_count": 34,
   "metadata": {},
   "outputs": [
    {
     "name": "stdout",
     "output_type": "stream",
     "text": [
      "before data num: 10220\n",
      "after  data num: 30660\n",
      "data example: \n",
      "{'prompt': '애플은 리사를 어떻게 처리했어', 'chosen': '애플이 누구인지 명확히 알 수 없어서, 리사가 누구인지와 어떤 상황에서 처리되었는지에 대한 추가적인 정보가 필요합니다. 따라서, 보다 정확한 답변을 제공할 수 없습니다.', 'rejected': '애플은 리사를 위해 고객 서비스 부서에서 고객 다양한 컴퓨터 관련 문제에 대해 응답하는 데 필요한 모든 지원을 제공했습니다. 사용자가 하드웨어 문제를 경험할 때, 전문가들은 필요한 수리(수리, 추가 부품 제공, 소프트웨어 업그레이드 등)을 제공해 드릴 수 있습니다. 또한, 사용자가 사용 방법 문제나 기타 문제를 경험할 때, 대화 상대로 사용자를 지원할 수 있는 전문 고객 서비스 직원들이 사용자에게 상담하고 도움을 주는 데 도움이 될 수 있는 정보를 제공합니다. 또한, 인터넷에서 제공되는 정보를 통해 문제를 해결하거나 고객 서비스 웹 사이트를 통해 자신의 문제를 진단할 수 있도록 하는 등 다양한 방법으로 리사를 처리해 왔습니다.'}\n"
     ]
    }
   ],
   "source": [
    "## RM 훈련용 데이터셋 생성\n",
    "with open('/aiffel/KoChatGPT/data_kochatgpt/kochatgpt_2_RM.jsonl', \"r\", encoding='utf-8-sig') as json_file:\n",
    "    list_data_dict = json.load(json_file)\n",
    "\n",
    "total_data_ranking2chosen = []\n",
    "for tmp in list_data_dict:\n",
    "    one_data_ranking2chosen = []\n",
    "\n",
    "    data = {}\n",
    "    data['prompt'] = tmp['prompt']\n",
    "    if tmp['ranking'][0] < tmp['ranking'][1]:\n",
    "        data['chosen'] = tmp['completion_0']\n",
    "        data['rejected'] = tmp['completion_1']\n",
    "    else:\n",
    "        data['chosen'] = tmp['completion_1']\n",
    "        data['rejected'] = tmp['completion_0']\n",
    "    one_data_ranking2chosen.append(data)\n",
    "\n",
    "    data = {}\n",
    "    data['prompt'] = tmp['prompt']\n",
    "    if tmp['ranking'][0] < tmp['ranking'][2]:\n",
    "        data['chosen'] = tmp['completion_0']\n",
    "        data['rejected'] = tmp['completion_2']\n",
    "    else:\n",
    "        data['chosen'] = tmp['completion_2']\n",
    "        data['rejected'] = tmp['completion_0']\n",
    "    one_data_ranking2chosen.append(data)\n",
    "\n",
    "    data = {}\n",
    "    data['prompt'] = tmp['prompt']\n",
    "    if tmp['ranking'][1] < tmp['ranking'][2]:\n",
    "        data['chosen'] = tmp['completion_1']\n",
    "        data['rejected'] = tmp['completion_2']\n",
    "    else:\n",
    "        data['chosen'] = tmp['completion_2']\n",
    "        data['rejected'] = tmp['completion_1']\n",
    "    one_data_ranking2chosen.append(data)\n",
    "\n",
    "\n",
    "\n",
    "    total_data_ranking2chosen.extend(one_data_ranking2chosen)\n",
    "\n",
    "print('before data num: %d'%(len(list_data_dict)))\n",
    "print('after  data num: %d'%(len(total_data_ranking2chosen)))\n",
    "print('data example: \\n%s'%total_data_ranking2chosen[45])"
   ]
  },
  {
   "cell_type": "code",
   "execution_count": 35,
   "metadata": {},
   "outputs": [
    {
     "name": "stdout",
     "output_type": "stream",
     "text": [
      "{'prompt': '유아인이 류승완 감독을 만나 영화 베테랑의 시나리오를 받았던 곳은?', 'chosen': '유아인이 류승완 감독을 만나 영화 베테랑의 시나리오를 받았던 곳은 류승완의 사무실입니다.', 'rejected': '대구 영화사옥'}\n"
     ]
    }
   ],
   "source": [
    "# Ranking 데이터셋 shuffle\n",
    "random.seed(230319)\n",
    "random.shuffle(total_data_ranking2chosen)\n",
    "print(total_data_ranking2chosen[45])"
   ]
  },
  {
   "cell_type": "code",
   "execution_count": 36,
   "metadata": {},
   "outputs": [
    {
     "name": "stdout",
     "output_type": "stream",
     "text": [
      "1000\n",
      "200\n"
     ]
    },
    {
     "name": "stderr",
     "output_type": "stream",
     "text": [
      "100%|██████████| 1000/1000 [00:00<00:00, 1373.36it/s]\n",
      "100%|██████████| 200/200 [00:00<00:00, 1240.04it/s]\n"
     ]
    }
   ],
   "source": [
    "# train, eval 데이터셋 만들기\n",
    "train_data = total_data_ranking2chosen[:1000] \n",
    "eval_data = total_data_ranking2chosen[1000:1200]\n",
    "\n",
    "print(len(train_data))\n",
    "print(len(eval_data))\n",
    "\n",
    "train_dataset = RewardDataset(train_data, tokenizer, 512)\n",
    "eval_dataset = RewardDataset(eval_data, tokenizer, 512)"
   ]
  },
  {
   "cell_type": "code",
   "execution_count": 37,
   "metadata": {},
   "outputs": [
    {
     "name": "stdout",
     "output_type": "stream",
     "text": [
      "######################################################################\n",
      "## prompt ##\n",
      "흑고래의 무게는 어느 정도야\n",
      "######################################################################\n",
      "## chosen ##\n",
      "흑고래의 평균 몸무게는 약 25~40톤 정도이지만, 최대 몸무게는 50톤 이상에 이를 수 있습니다.\n",
      "######################################################################\n",
      "## rejected ##\n",
      "흑고래의 무게는 매우 다양하게 달라집니다. 약 200kg에서 10톤까지 달라질 수 있습니다.\n"
     ]
    }
   ],
   "source": [
    "# 훈련용 데이터셋 확인\n",
    "idx = 1\n",
    "print('#'*70)\n",
    "print('## prompt ##')\n",
    "print(train_data[idx]['prompt'])\n",
    "print('#'*70)\n",
    "print('## chosen ##')\n",
    "print(train_data[idx]['chosen'])\n",
    "print('#'*70)\n",
    "print('## rejected ##')\n",
    "print(train_data[idx]['rejected'])"
   ]
  },
  {
   "cell_type": "code",
   "execution_count": 38,
   "metadata": {},
   "outputs": [],
   "source": [
    "# RM 모델 학습을 위한 arguments 설정\n",
    "trainer = RewardModelTrainer(model=model,\n",
    "                             strategy=NaiveStrategy(),\n",
    "                             optim=Adam(model.parameters(), lr=5e-5),\n",
    "                             train_dataset=train_dataset,\n",
    "                             eval_dataset=eval_dataset,\n",
    "                             batch_size=4,\n",
    "                             max_epochs=1)"
   ]
  },
  {
   "cell_type": "code",
   "execution_count": 39,
   "metadata": {},
   "outputs": [
    {
     "name": "stderr",
     "output_type": "stream",
     "text": [
      "Train epoch:   0%|          | 0/1 [00:00<?, ?it/s]\n",
      "Train step of epoch 0:   0%|          | 0/250 [00:00<?, ?it/s]\u001b[A\n",
      "Train step of epoch 0:   0%|          | 1/250 [00:00<03:36,  1.15it/s]\u001b[A\n",
      "Train step of epoch 0:   0%|          | 1/250 [00:00<03:36,  1.15it/s, loss=0.82]\u001b[A\n",
      "Train step of epoch 0:   1%|          | 2/250 [00:01<03:30,  1.18it/s, loss=0.82]\u001b[A\n",
      "Train step of epoch 0:   1%|          | 2/250 [00:01<03:30,  1.18it/s, loss=0.695]\u001b[A\n",
      "Train step of epoch 0:   1%|          | 3/250 [00:02<03:27,  1.19it/s, loss=0.695]\u001b[A\n",
      "Train step of epoch 0:   1%|          | 3/250 [00:02<03:27,  1.19it/s, loss=0.687]\u001b[A\n",
      "Train step of epoch 0:   2%|▏         | 4/250 [00:03<03:25,  1.20it/s, loss=0.687]\u001b[A\n",
      "Train step of epoch 0:   2%|▏         | 4/250 [00:03<03:25,  1.20it/s, loss=0.712]\u001b[A\n",
      "Train step of epoch 0:   2%|▏         | 5/250 [00:04<03:23,  1.20it/s, loss=0.712]\u001b[A\n",
      "Train step of epoch 0:   2%|▏         | 5/250 [00:04<03:23,  1.20it/s, loss=0.46] \u001b[A\n",
      "Train step of epoch 0:   2%|▏         | 6/250 [00:05<03:22,  1.20it/s, loss=0.46]\u001b[A\n",
      "Train step of epoch 0:   2%|▏         | 6/250 [00:05<03:22,  1.20it/s, loss=0.444]\u001b[A\n",
      "Train step of epoch 0:   3%|▎         | 7/250 [00:05<03:21,  1.20it/s, loss=0.444]\u001b[A\n",
      "Train step of epoch 0:   3%|▎         | 7/250 [00:05<03:21,  1.20it/s, loss=0.663]\u001b[A\n",
      "Train step of epoch 0:   3%|▎         | 8/250 [00:06<03:21,  1.20it/s, loss=0.663]\u001b[A\n",
      "Train step of epoch 0:   3%|▎         | 8/250 [00:06<03:21,  1.20it/s, loss=1.31] \u001b[A\n",
      "Train step of epoch 0:   4%|▎         | 9/250 [00:07<03:20,  1.20it/s, loss=1.31]\u001b[A\n",
      "Train step of epoch 0:   4%|▎         | 9/250 [00:07<03:20,  1.20it/s, loss=0.427]\u001b[A\n",
      "Train step of epoch 0:   4%|▍         | 10/250 [00:08<03:19,  1.20it/s, loss=0.427]\u001b[A\n",
      "Train step of epoch 0:   4%|▍         | 10/250 [00:08<03:19,  1.20it/s, loss=0.576]\u001b[A\n",
      "Train step of epoch 0:   4%|▍         | 11/250 [00:09<03:18,  1.20it/s, loss=0.576]\u001b[A\n",
      "Train step of epoch 0:   4%|▍         | 11/250 [00:09<03:18,  1.20it/s, loss=0.414]\u001b[A\n",
      "Train step of epoch 0:   5%|▍         | 12/250 [00:09<03:17,  1.20it/s, loss=0.414]\u001b[A\n",
      "Train step of epoch 0:   5%|▍         | 12/250 [00:10<03:17,  1.20it/s, loss=0.38] \u001b[A\n",
      "Train step of epoch 0:   5%|▌         | 13/250 [00:10<03:17,  1.20it/s, loss=0.38]\u001b[A\n",
      "Train step of epoch 0:   5%|▌         | 13/250 [00:10<03:17,  1.20it/s, loss=0.107]\u001b[A\n",
      "Train step of epoch 0:   6%|▌         | 14/250 [00:11<03:16,  1.20it/s, loss=0.107]\u001b[A\n",
      "Train step of epoch 0:   6%|▌         | 14/250 [00:11<03:16,  1.20it/s, loss=1.87] \u001b[A\n",
      "Train step of epoch 0:   6%|▌         | 15/250 [00:12<03:15,  1.20it/s, loss=1.87]\u001b[A\n",
      "Train step of epoch 0:   6%|▌         | 15/250 [00:12<03:15,  1.20it/s, loss=0.465]\u001b[A\n",
      "Train step of epoch 0:   6%|▋         | 16/250 [00:13<03:14,  1.20it/s, loss=0.465]\u001b[A\n",
      "Train step of epoch 0:   6%|▋         | 16/250 [00:13<03:14,  1.20it/s, loss=1.5]  \u001b[A\n",
      "Train step of epoch 0:   7%|▋         | 17/250 [00:14<03:14,  1.20it/s, loss=1.5]\u001b[A\n",
      "Train step of epoch 0:   7%|▋         | 17/250 [00:14<03:14,  1.20it/s, loss=0.888]\u001b[A\n",
      "Train step of epoch 0:   7%|▋         | 18/250 [00:15<03:13,  1.20it/s, loss=0.888]\u001b[A\n",
      "Train step of epoch 0:   7%|▋         | 18/250 [00:15<03:13,  1.20it/s, loss=0.48] \u001b[A\n",
      "Train step of epoch 0:   8%|▊         | 19/250 [00:15<03:12,  1.20it/s, loss=0.48]\u001b[A\n",
      "Train step of epoch 0:   8%|▊         | 19/250 [00:15<03:12,  1.20it/s, loss=0.564]\u001b[A\n",
      "Train step of epoch 0:   8%|▊         | 20/250 [00:16<03:12,  1.20it/s, loss=0.564]\u001b[A\n",
      "Train step of epoch 0:   8%|▊         | 20/250 [00:16<03:12,  1.20it/s, loss=0.6]  \u001b[A\n",
      "Train step of epoch 0:   8%|▊         | 21/250 [00:17<03:11,  1.20it/s, loss=0.6]\u001b[A\n",
      "Train step of epoch 0:   8%|▊         | 21/250 [00:17<03:11,  1.20it/s, loss=0.76]\u001b[A\n",
      "Train step of epoch 0:   9%|▉         | 22/250 [00:18<03:10,  1.20it/s, loss=0.76]\u001b[A\n",
      "Train step of epoch 0:   9%|▉         | 22/250 [00:18<03:10,  1.20it/s, loss=0.651]\u001b[A\n",
      "Train step of epoch 0:   9%|▉         | 23/250 [00:19<03:09,  1.20it/s, loss=0.651]\u001b[A\n",
      "Train step of epoch 0:   9%|▉         | 23/250 [00:19<03:09,  1.20it/s, loss=0.801]\u001b[A\n",
      "Train step of epoch 0:  10%|▉         | 24/250 [00:20<03:09,  1.19it/s, loss=0.801]\u001b[A\n",
      "Train step of epoch 0:  10%|▉         | 24/250 [00:20<03:09,  1.19it/s, loss=0.729]\u001b[A\n",
      "Train step of epoch 0:  10%|█         | 25/250 [00:20<03:08,  1.19it/s, loss=0.729]\u001b[A\n",
      "Train step of epoch 0:  10%|█         | 25/250 [00:20<03:08,  1.19it/s, loss=0.641]\u001b[A\n",
      "Train step of epoch 0:  10%|█         | 26/250 [00:21<03:07,  1.19it/s, loss=0.641]\u001b[A\n",
      "Train step of epoch 0:  10%|█         | 26/250 [00:21<03:07,  1.19it/s, loss=0.696]\u001b[A\n",
      "Train step of epoch 0:  11%|█         | 27/250 [00:22<03:07,  1.19it/s, loss=0.696]\u001b[A\n",
      "Train step of epoch 0:  11%|█         | 27/250 [00:22<03:07,  1.19it/s, loss=0.733]\u001b[A\n",
      "Train step of epoch 0:  11%|█         | 28/250 [00:23<03:06,  1.19it/s, loss=0.733]\u001b[A\n",
      "Train step of epoch 0:  11%|█         | 28/250 [00:23<03:06,  1.19it/s, loss=0.612]\u001b[A\n",
      "Train step of epoch 0:  12%|█▏        | 29/250 [00:24<03:05,  1.19it/s, loss=0.612]\u001b[A\n",
      "Train step of epoch 0:  12%|█▏        | 29/250 [00:24<03:05,  1.19it/s, loss=0.618]\u001b[A\n",
      "Train step of epoch 0:  12%|█▏        | 30/250 [00:25<03:05,  1.19it/s, loss=0.618]\u001b[A\n",
      "Train step of epoch 0:  12%|█▏        | 30/250 [00:25<03:05,  1.19it/s, loss=0.612]\u001b[A\n",
      "Train step of epoch 0:  12%|█▏        | 31/250 [00:25<03:04,  1.19it/s, loss=0.612]\u001b[A\n",
      "Train step of epoch 0:  12%|█▏        | 31/250 [00:25<03:04,  1.19it/s, loss=0.562]\u001b[A\n",
      "Train step of epoch 0:  13%|█▎        | 32/250 [00:26<03:03,  1.19it/s, loss=0.562]\u001b[A\n",
      "Train step of epoch 0:  13%|█▎        | 32/250 [00:26<03:03,  1.19it/s, loss=0.68] \u001b[A\n",
      "Train step of epoch 0:  13%|█▎        | 33/250 [00:27<03:03,  1.19it/s, loss=0.68]\u001b[A\n",
      "Train step of epoch 0:  13%|█▎        | 33/250 [00:27<03:03,  1.19it/s, loss=0.599]\u001b[A\n",
      "Train step of epoch 0:  14%|█▎        | 34/250 [00:28<03:02,  1.19it/s, loss=0.599]\u001b[A\n",
      "Train step of epoch 0:  14%|█▎        | 34/250 [00:28<03:02,  1.19it/s, loss=0.562]\u001b[A\n",
      "Train step of epoch 0:  14%|█▍        | 35/250 [00:29<03:01,  1.18it/s, loss=0.562]\u001b[A\n",
      "Train step of epoch 0:  14%|█▍        | 35/250 [00:29<03:01,  1.18it/s, loss=0.737]\u001b[A\n",
      "Train step of epoch 0:  14%|█▍        | 36/250 [00:30<03:01,  1.18it/s, loss=0.737]\u001b[A\n",
      "Train step of epoch 0:  14%|█▍        | 36/250 [00:30<03:01,  1.18it/s, loss=0.948]\u001b[A\n",
      "Train step of epoch 0:  15%|█▍        | 37/250 [00:31<03:00,  1.18it/s, loss=0.948]\u001b[A\n",
      "Train step of epoch 0:  15%|█▍        | 37/250 [00:31<03:00,  1.18it/s, loss=0.618]\u001b[A\n",
      "Train step of epoch 0:  15%|█▌        | 38/250 [00:31<02:59,  1.18it/s, loss=0.618]\u001b[A\n",
      "Train step of epoch 0:  15%|█▌        | 38/250 [00:31<02:59,  1.18it/s, loss=0.688]\u001b[A\n",
      "Train step of epoch 0:  16%|█▌        | 39/250 [00:32<02:58,  1.18it/s, loss=0.688]\u001b[A\n",
      "Train step of epoch 0:  16%|█▌        | 39/250 [00:32<02:58,  1.18it/s, loss=0.908]\u001b[A\n",
      "Train step of epoch 0:  16%|█▌        | 40/250 [00:33<02:58,  1.18it/s, loss=0.908]\u001b[A\n",
      "Train step of epoch 0:  16%|█▌        | 40/250 [00:33<02:58,  1.18it/s, loss=0.564]\u001b[A\n",
      "Train step of epoch 0:  16%|█▋        | 41/250 [00:34<02:57,  1.18it/s, loss=0.564]\u001b[A\n",
      "Train step of epoch 0:  16%|█▋        | 41/250 [00:34<02:57,  1.18it/s, loss=0.493]\u001b[A\n",
      "Train step of epoch 0:  17%|█▋        | 42/250 [00:35<02:57,  1.17it/s, loss=0.493]\u001b[A\n",
      "Train step of epoch 0:  17%|█▋        | 42/250 [00:35<02:57,  1.17it/s, loss=0.767]\u001b[A\n",
      "Train step of epoch 0:  17%|█▋        | 43/250 [00:36<02:56,  1.17it/s, loss=0.767]\u001b[A\n",
      "Train step of epoch 0:  17%|█▋        | 43/250 [00:36<02:56,  1.17it/s, loss=0.692]\u001b[A\n",
      "Train step of epoch 0:  18%|█▊        | 44/250 [00:36<02:55,  1.17it/s, loss=0.692]\u001b[A\n",
      "Train step of epoch 0:  18%|█▊        | 44/250 [00:36<02:55,  1.17it/s, loss=0.798]\u001b[A\n",
      "Train step of epoch 0:  18%|█▊        | 45/250 [00:37<02:54,  1.17it/s, loss=0.798]\u001b[A\n",
      "Train step of epoch 0:  18%|█▊        | 45/250 [00:37<02:54,  1.17it/s, loss=0.579]\u001b[A\n",
      "Train step of epoch 0:  18%|█▊        | 46/250 [00:38<02:54,  1.17it/s, loss=0.579]\u001b[A\n",
      "Train step of epoch 0:  18%|█▊        | 46/250 [00:38<02:54,  1.17it/s, loss=0.562]\u001b[A\n",
      "Train step of epoch 0:  19%|█▉        | 47/250 [00:39<02:53,  1.17it/s, loss=0.562]\u001b[A\n",
      "Train step of epoch 0:  19%|█▉        | 47/250 [00:39<02:53,  1.17it/s, loss=0.778]\u001b[A\n",
      "Train step of epoch 0:  19%|█▉        | 48/250 [00:40<02:52,  1.17it/s, loss=0.778]\u001b[A\n",
      "Train step of epoch 0:  19%|█▉        | 48/250 [00:40<02:52,  1.17it/s, loss=0.599]\u001b[A\n",
      "Train step of epoch 0:  20%|█▉        | 49/250 [00:41<02:51,  1.17it/s, loss=0.599]\u001b[A\n",
      "Train step of epoch 0:  20%|█▉        | 49/250 [00:41<02:51,  1.17it/s, loss=0.579]\u001b[A\n",
      "Train step of epoch 0:  20%|██        | 50/250 [00:42<02:50,  1.17it/s, loss=0.579]\u001b[A\n",
      "Train step of epoch 0:  20%|██        | 50/250 [00:42<02:50,  1.17it/s, loss=0.786]\u001b[A\n",
      "Train step of epoch 0:  20%|██        | 51/250 [00:42<02:49,  1.17it/s, loss=0.786]\u001b[A\n",
      "Train step of epoch 0:  20%|██        | 51/250 [00:42<02:49,  1.17it/s, loss=0.441]\u001b[A\n",
      "Train step of epoch 0:  21%|██        | 52/250 [00:43<02:49,  1.17it/s, loss=0.441]\u001b[A\n",
      "Train step of epoch 0:  21%|██        | 52/250 [00:43<02:49,  1.17it/s, loss=0.663]\u001b[A\n",
      "Train step of epoch 0:  21%|██        | 53/250 [00:44<02:48,  1.17it/s, loss=0.663]\u001b[A\n",
      "Train step of epoch 0:  21%|██        | 53/250 [00:44<02:48,  1.17it/s, loss=0.491]\u001b[A\n",
      "Train step of epoch 0:  22%|██▏       | 54/250 [00:45<02:48,  1.17it/s, loss=0.491]\u001b[A\n",
      "Train step of epoch 0:  22%|██▏       | 54/250 [00:45<02:48,  1.17it/s, loss=0.311]\u001b[A\n",
      "Train step of epoch 0:  22%|██▏       | 55/250 [00:46<02:47,  1.17it/s, loss=0.311]\u001b[A\n",
      "Train step of epoch 0:  22%|██▏       | 55/250 [00:46<02:47,  1.17it/s, loss=0.498]\u001b[A\n",
      "Train step of epoch 0:  22%|██▏       | 56/250 [00:47<02:46,  1.17it/s, loss=0.498]\u001b[A\n",
      "Train step of epoch 0:  22%|██▏       | 56/250 [00:47<02:46,  1.17it/s, loss=0.58] \u001b[A\n",
      "Train step of epoch 0:  23%|██▎       | 57/250 [00:48<02:45,  1.17it/s, loss=0.58]\u001b[A\n",
      "Train step of epoch 0:  23%|██▎       | 57/250 [00:48<02:45,  1.17it/s, loss=0.495]\u001b[A\n",
      "Train step of epoch 0:  23%|██▎       | 58/250 [00:48<02:44,  1.16it/s, loss=0.495]\u001b[A\n",
      "Train step of epoch 0:  23%|██▎       | 58/250 [00:48<02:44,  1.16it/s, loss=0.468]\u001b[A\n",
      "Train step of epoch 0:  24%|██▎       | 59/250 [00:49<02:44,  1.16it/s, loss=0.468]\u001b[A\n",
      "Train step of epoch 0:  24%|██▎       | 59/250 [00:49<02:44,  1.16it/s, loss=0.581]\u001b[A\n",
      "Train step of epoch 0:  24%|██▍       | 60/250 [00:50<02:43,  1.16it/s, loss=0.581]\u001b[A\n",
      "Train step of epoch 0:  24%|██▍       | 60/250 [00:50<02:43,  1.16it/s, loss=0.339]\u001b[A\n",
      "Train step of epoch 0:  24%|██▍       | 61/250 [00:51<02:42,  1.16it/s, loss=0.339]\u001b[A\n",
      "Train step of epoch 0:  24%|██▍       | 61/250 [00:51<02:42,  1.16it/s, loss=0.951]\u001b[A\n",
      "Train step of epoch 0:  25%|██▍       | 62/250 [00:52<02:42,  1.16it/s, loss=0.951]\u001b[A\n",
      "Train step of epoch 0:  25%|██▍       | 62/250 [00:52<02:42,  1.16it/s, loss=0.178]\u001b[A\n",
      "Train step of epoch 0:  25%|██▌       | 63/250 [00:53<02:41,  1.16it/s, loss=0.178]\u001b[A\n",
      "Train step of epoch 0:  25%|██▌       | 63/250 [00:53<02:41,  1.16it/s, loss=0.904]\u001b[A\n",
      "Train step of epoch 0:  26%|██▌       | 64/250 [00:54<02:40,  1.16it/s, loss=0.904]\u001b[A\n",
      "Train step of epoch 0:  26%|██▌       | 64/250 [00:54<02:40,  1.16it/s, loss=0.311]\u001b[A\n",
      "Train step of epoch 0:  26%|██▌       | 65/250 [00:55<02:39,  1.16it/s, loss=0.311]\u001b[A\n",
      "Train step of epoch 0:  26%|██▌       | 65/250 [00:55<02:39,  1.16it/s, loss=0.864]\u001b[A\n",
      "Train step of epoch 0:  26%|██▋       | 66/250 [00:55<02:39,  1.16it/s, loss=0.864]\u001b[A\n",
      "Train step of epoch 0:  26%|██▋       | 66/250 [00:55<02:39,  1.16it/s, loss=0.111]\u001b[A\n",
      "Train step of epoch 0:  27%|██▋       | 67/250 [00:56<02:38,  1.15it/s, loss=0.111]\u001b[A\n",
      "Train step of epoch 0:  27%|██▋       | 67/250 [00:56<02:38,  1.15it/s, loss=0.916]\u001b[A\n",
      "Train step of epoch 0:  27%|██▋       | 68/250 [00:57<02:37,  1.16it/s, loss=0.916]\u001b[A\n",
      "Train step of epoch 0:  27%|██▋       | 68/250 [00:57<02:37,  1.16it/s, loss=0.286]\u001b[A\n",
      "Train step of epoch 0:  28%|██▊       | 69/250 [00:58<02:36,  1.15it/s, loss=0.286]\u001b[A\n",
      "Train step of epoch 0:  28%|██▊       | 69/250 [00:58<02:36,  1.15it/s, loss=0.968]\u001b[A\n",
      "Train step of epoch 0:  28%|██▊       | 70/250 [00:59<02:36,  1.15it/s, loss=0.968]\u001b[A\n",
      "Train step of epoch 0:  28%|██▊       | 70/250 [00:59<02:36,  1.15it/s, loss=0.855]\u001b[A\n",
      "Train step of epoch 0:  28%|██▊       | 71/250 [01:00<02:35,  1.15it/s, loss=0.855]\u001b[A\n",
      "Train step of epoch 0:  28%|██▊       | 71/250 [01:00<02:35,  1.15it/s, loss=0.52] \u001b[A\n",
      "Train step of epoch 0:  29%|██▉       | 72/250 [01:01<02:34,  1.15it/s, loss=0.52]\u001b[A\n",
      "Train step of epoch 0:  29%|██▉       | 72/250 [01:01<02:34,  1.15it/s, loss=0.754]\u001b[A\n",
      "Train step of epoch 0:  29%|██▉       | 73/250 [01:01<02:33,  1.15it/s, loss=0.754]\u001b[A\n",
      "Train step of epoch 0:  29%|██▉       | 73/250 [01:01<02:33,  1.15it/s, loss=0.834]\u001b[A\n",
      "Train step of epoch 0:  30%|██▉       | 74/250 [01:02<02:33,  1.15it/s, loss=0.834]\u001b[A\n",
      "Train step of epoch 0:  30%|██▉       | 74/250 [01:02<02:33,  1.15it/s, loss=0.54] \u001b[A\n",
      "Train step of epoch 0:  30%|███       | 75/250 [01:03<02:32,  1.15it/s, loss=0.54]\u001b[A\n",
      "Train step of epoch 0:  30%|███       | 75/250 [01:03<02:32,  1.15it/s, loss=0.621]\u001b[A\n",
      "Train step of epoch 0:  30%|███       | 76/250 [01:04<02:31,  1.15it/s, loss=0.621]\u001b[A\n",
      "Train step of epoch 0:  30%|███       | 76/250 [01:04<02:31,  1.15it/s, loss=0.706]\u001b[A\n",
      "Train step of epoch 0:  31%|███       | 77/250 [01:05<02:30,  1.15it/s, loss=0.706]\u001b[A\n",
      "Train step of epoch 0:  31%|███       | 77/250 [01:05<02:30,  1.15it/s, loss=0.443]\u001b[A\n",
      "Train step of epoch 0:  31%|███       | 78/250 [01:06<02:30,  1.15it/s, loss=0.443]\u001b[A\n",
      "Train step of epoch 0:  31%|███       | 78/250 [01:06<02:30,  1.15it/s, loss=0.613]\u001b[A\n",
      "Train step of epoch 0:  32%|███▏      | 79/250 [01:07<02:29,  1.15it/s, loss=0.613]\u001b[A\n",
      "Train step of epoch 0:  32%|███▏      | 79/250 [01:07<02:29,  1.15it/s, loss=0.549]\u001b[A\n",
      "Train step of epoch 0:  32%|███▏      | 80/250 [01:08<02:28,  1.15it/s, loss=0.549]\u001b[A\n",
      "Train step of epoch 0:  32%|███▏      | 80/250 [01:08<02:28,  1.15it/s, loss=0.698]\u001b[A\n",
      "Train step of epoch 0:  32%|███▏      | 81/250 [01:08<02:27,  1.14it/s, loss=0.698]\u001b[A\n",
      "Train step of epoch 0:  32%|███▏      | 81/250 [01:08<02:27,  1.14it/s, loss=0.43] \u001b[A\n",
      "Train step of epoch 0:  33%|███▎      | 82/250 [01:09<02:27,  1.14it/s, loss=0.43]\u001b[A\n",
      "Train step of epoch 0:  33%|███▎      | 82/250 [01:09<02:27,  1.14it/s, loss=0.775]\u001b[A\n",
      "Train step of epoch 0:  33%|███▎      | 83/250 [01:10<02:26,  1.14it/s, loss=0.775]\u001b[A\n",
      "Train step of epoch 0:  33%|███▎      | 83/250 [01:10<02:26,  1.14it/s, loss=0.611]\u001b[A\n",
      "Train step of epoch 0:  34%|███▎      | 84/250 [01:11<02:25,  1.14it/s, loss=0.611]\u001b[A\n",
      "Train step of epoch 0:  34%|███▎      | 84/250 [01:11<02:25,  1.14it/s, loss=0.661]\u001b[A\n",
      "Train step of epoch 0:  34%|███▍      | 85/250 [01:12<02:24,  1.14it/s, loss=0.661]\u001b[A\n",
      "Train step of epoch 0:  34%|███▍      | 85/250 [01:12<02:24,  1.14it/s, loss=0.71] \u001b[A\n",
      "Train step of epoch 0:  34%|███▍      | 86/250 [01:13<02:23,  1.14it/s, loss=0.71]\u001b[A\n",
      "Train step of epoch 0:  34%|███▍      | 86/250 [01:13<02:23,  1.14it/s, loss=0.587]\u001b[A\n",
      "Train step of epoch 0:  35%|███▍      | 87/250 [01:14<02:23,  1.14it/s, loss=0.587]\u001b[A\n",
      "Train step of epoch 0:  35%|███▍      | 87/250 [01:14<02:23,  1.14it/s, loss=0.533]\u001b[A\n",
      "Train step of epoch 0:  35%|███▌      | 88/250 [01:15<02:22,  1.14it/s, loss=0.533]\u001b[A\n",
      "Train step of epoch 0:  35%|███▌      | 88/250 [01:15<02:22,  1.14it/s, loss=0.817]\u001b[A\n",
      "Train step of epoch 0:  36%|███▌      | 89/250 [01:15<02:21,  1.14it/s, loss=0.817]\u001b[A\n",
      "Train step of epoch 0:  36%|███▌      | 89/250 [01:15<02:21,  1.14it/s, loss=0.819]\u001b[A\n",
      "Train step of epoch 0:  36%|███▌      | 90/250 [01:16<02:20,  1.14it/s, loss=0.819]\u001b[A\n",
      "Train step of epoch 0:  36%|███▌      | 90/250 [01:16<02:20,  1.14it/s, loss=0.662]\u001b[A\n",
      "Train step of epoch 0:  36%|███▋      | 91/250 [01:17<02:19,  1.14it/s, loss=0.662]\u001b[A\n",
      "Train step of epoch 0:  36%|███▋      | 91/250 [01:17<02:19,  1.14it/s, loss=0.668]\u001b[A\n",
      "Train step of epoch 0:  37%|███▋      | 92/250 [01:18<02:18,  1.14it/s, loss=0.668]\u001b[A\n",
      "Train step of epoch 0:  37%|███▋      | 92/250 [01:18<02:18,  1.14it/s, loss=0.596]\u001b[A\n",
      "Train step of epoch 0:  37%|███▋      | 93/250 [01:19<02:18,  1.14it/s, loss=0.596]\u001b[A\n",
      "Train step of epoch 0:  37%|███▋      | 93/250 [01:19<02:18,  1.14it/s, loss=0.8]  \u001b[A\n",
      "Train step of epoch 0:  38%|███▊      | 94/250 [01:20<02:17,  1.13it/s, loss=0.8]\u001b[A\n",
      "Train step of epoch 0:  38%|███▊      | 94/250 [01:20<02:17,  1.13it/s, loss=0.713]\u001b[A\n",
      "Train step of epoch 0:  38%|███▊      | 95/250 [01:21<02:16,  1.13it/s, loss=0.713]\u001b[A\n",
      "Train step of epoch 0:  38%|███▊      | 95/250 [01:21<02:16,  1.13it/s, loss=0.545]\u001b[A\n",
      "Train step of epoch 0:  38%|███▊      | 96/250 [01:22<02:15,  1.13it/s, loss=0.545]\u001b[A\n",
      "Train step of epoch 0:  38%|███▊      | 96/250 [01:22<02:15,  1.13it/s, loss=0.693]\u001b[A\n",
      "Train step of epoch 0:  39%|███▉      | 97/250 [01:23<02:15,  1.13it/s, loss=0.693]\u001b[A\n",
      "Train step of epoch 0:  39%|███▉      | 97/250 [01:23<02:15,  1.13it/s, loss=0.789]\u001b[A\n",
      "Train step of epoch 0:  39%|███▉      | 98/250 [01:23<02:14,  1.13it/s, loss=0.789]\u001b[A\n",
      "Train step of epoch 0:  39%|███▉      | 98/250 [01:23<02:14,  1.13it/s, loss=0.707]\u001b[A\n",
      "Train step of epoch 0:  40%|███▉      | 99/250 [01:24<02:13,  1.13it/s, loss=0.707]\u001b[A\n",
      "Train step of epoch 0:  40%|███▉      | 99/250 [01:24<02:13,  1.13it/s, loss=0.594]\u001b[A\n",
      "Train step of epoch 0:  40%|████      | 100/250 [01:25<02:12,  1.13it/s, loss=0.594]\u001b[A\n",
      "Train step of epoch 0:  40%|████      | 100/250 [01:25<02:12,  1.13it/s, loss=0.639]\u001b[A\n",
      "Train step of epoch 0:  40%|████      | 101/250 [01:26<02:11,  1.13it/s, loss=0.639]\u001b[A\n",
      "Train step of epoch 0:  40%|████      | 101/250 [01:26<02:11,  1.13it/s, loss=0.717]\u001b[A\n",
      "Train step of epoch 0:  41%|████      | 102/250 [01:27<02:10,  1.13it/s, loss=0.717]\u001b[A\n",
      "Train step of epoch 0:  41%|████      | 102/250 [01:27<02:10,  1.13it/s, loss=0.661]\u001b[A\n",
      "Train step of epoch 0:  41%|████      | 103/250 [01:28<02:09,  1.13it/s, loss=0.661]\u001b[A\n",
      "Train step of epoch 0:  41%|████      | 103/250 [01:28<02:09,  1.13it/s, loss=0.68] \u001b[A\n",
      "Train step of epoch 0:  42%|████▏     | 104/250 [01:29<02:09,  1.13it/s, loss=0.68]\u001b[A\n",
      "Train step of epoch 0:  42%|████▏     | 104/250 [01:29<02:09,  1.13it/s, loss=0.748]\u001b[A\n",
      "Train step of epoch 0:  42%|████▏     | 105/250 [01:30<02:08,  1.13it/s, loss=0.748]\u001b[A\n",
      "Train step of epoch 0:  42%|████▏     | 105/250 [01:30<02:08,  1.13it/s, loss=0.652]\u001b[A\n",
      "Train step of epoch 0:  42%|████▏     | 106/250 [01:30<02:07,  1.13it/s, loss=0.652]\u001b[A\n",
      "Train step of epoch 0:  42%|████▏     | 106/250 [01:31<02:07,  1.13it/s, loss=0.632]\u001b[A\n",
      "Train step of epoch 0:  43%|████▎     | 107/250 [01:31<02:06,  1.13it/s, loss=0.632]\u001b[A\n",
      "Train step of epoch 0:  43%|████▎     | 107/250 [01:31<02:06,  1.13it/s, loss=0.759]\u001b[A\n",
      "Train step of epoch 0:  43%|████▎     | 108/250 [01:32<02:05,  1.13it/s, loss=0.759]\u001b[A\n",
      "Train step of epoch 0:  43%|████▎     | 108/250 [01:32<02:05,  1.13it/s, loss=0.601]\u001b[A\n",
      "Train step of epoch 0:  44%|████▎     | 109/250 [01:33<02:04,  1.13it/s, loss=0.601]\u001b[A\n",
      "Train step of epoch 0:  44%|████▎     | 109/250 [01:33<02:04,  1.13it/s, loss=0.689]\u001b[A\n",
      "Train step of epoch 0:  44%|████▍     | 110/250 [01:34<02:03,  1.13it/s, loss=0.689]\u001b[A\n",
      "Train step of epoch 0:  44%|████▍     | 110/250 [01:34<02:03,  1.13it/s, loss=0.75] \u001b[A\n",
      "Train step of epoch 0:  44%|████▍     | 111/250 [01:35<02:02,  1.13it/s, loss=0.75]\u001b[A\n",
      "Train step of epoch 0:  44%|████▍     | 111/250 [01:35<02:02,  1.13it/s, loss=0.597]\u001b[A\n",
      "Train step of epoch 0:  45%|████▍     | 112/250 [01:36<02:01,  1.13it/s, loss=0.597]\u001b[A\n",
      "Train step of epoch 0:  45%|████▍     | 112/250 [01:36<02:01,  1.13it/s, loss=0.676]\u001b[A\n",
      "Train step of epoch 0:  45%|████▌     | 113/250 [01:37<02:00,  1.13it/s, loss=0.676]\u001b[A\n",
      "Train step of epoch 0:  45%|████▌     | 113/250 [01:37<02:00,  1.13it/s, loss=0.644]\u001b[A\n",
      "Train step of epoch 0:  46%|████▌     | 114/250 [01:38<01:59,  1.13it/s, loss=0.644]\u001b[A\n",
      "Train step of epoch 0:  46%|████▌     | 114/250 [01:38<01:59,  1.13it/s, loss=0.883]\u001b[A\n",
      "Train step of epoch 0:  46%|████▌     | 115/250 [01:38<01:58,  1.14it/s, loss=0.883]\u001b[A\n",
      "Train step of epoch 0:  46%|████▌     | 115/250 [01:38<01:58,  1.14it/s, loss=0.674]\u001b[A\n",
      "Train step of epoch 0:  46%|████▋     | 116/250 [01:39<01:57,  1.14it/s, loss=0.674]\u001b[A\n",
      "Train step of epoch 0:  46%|████▋     | 116/250 [01:39<01:57,  1.14it/s, loss=0.566]\u001b[A\n",
      "Train step of epoch 0:  47%|████▋     | 117/250 [01:40<01:57,  1.14it/s, loss=0.566]\u001b[A\n",
      "Train step of epoch 0:  47%|████▋     | 117/250 [01:40<01:57,  1.14it/s, loss=0.515]\u001b[A\n",
      "Train step of epoch 0:  47%|████▋     | 118/250 [01:41<01:56,  1.14it/s, loss=0.515]\u001b[A\n",
      "Train step of epoch 0:  47%|████▋     | 118/250 [01:41<01:56,  1.14it/s, loss=0.496]\u001b[A\n",
      "Train step of epoch 0:  48%|████▊     | 119/250 [01:42<01:55,  1.14it/s, loss=0.496]\u001b[A\n",
      "Train step of epoch 0:  48%|████▊     | 119/250 [01:42<01:55,  1.14it/s, loss=0.509]\u001b[A\n",
      "Train step of epoch 0:  48%|████▊     | 120/250 [01:43<01:54,  1.14it/s, loss=0.509]\u001b[A\n",
      "Train step of epoch 0:  48%|████▊     | 120/250 [01:43<01:54,  1.14it/s, loss=1.17] \u001b[A\n",
      "Train step of epoch 0:  48%|████▊     | 121/250 [01:44<01:53,  1.14it/s, loss=1.17]\u001b[A\n",
      "Train step of epoch 0:  48%|████▊     | 121/250 [01:44<01:53,  1.14it/s, loss=0.771]\u001b[A\n",
      "Train step of epoch 0:  49%|████▉     | 122/250 [01:45<01:52,  1.14it/s, loss=0.771]\u001b[A\n",
      "Train step of epoch 0:  49%|████▉     | 122/250 [01:45<01:52,  1.14it/s, loss=0.67] \u001b[A\n",
      "Train step of epoch 0:  49%|████▉     | 123/250 [01:45<01:51,  1.14it/s, loss=0.67]\u001b[A\n",
      "Train step of epoch 0:  49%|████▉     | 123/250 [01:45<01:51,  1.14it/s, loss=0.503]\u001b[A\n",
      "Train step of epoch 0:  50%|████▉     | 124/250 [01:46<01:50,  1.14it/s, loss=0.503]\u001b[A\n",
      "Train step of epoch 0:  50%|████▉     | 124/250 [01:46<01:50,  1.14it/s, loss=0.732]\u001b[A\n",
      "Train step of epoch 0:  50%|█████     | 125/250 [01:47<01:49,  1.14it/s, loss=0.732]\u001b[A\n",
      "Train step of epoch 0:  50%|█████     | 125/250 [01:47<01:49,  1.14it/s, loss=0.704]\u001b[A\n",
      "Train step of epoch 0:  50%|█████     | 126/250 [01:48<01:48,  1.14it/s, loss=0.704]\u001b[A\n",
      "Train step of epoch 0:  50%|█████     | 126/250 [01:48<01:48,  1.14it/s, loss=0.694]\u001b[A\n",
      "Train step of epoch 0:  51%|█████     | 127/250 [01:49<01:47,  1.15it/s, loss=0.694]\u001b[A\n",
      "Train step of epoch 0:  51%|█████     | 127/250 [01:49<01:47,  1.15it/s, loss=0.556]\u001b[A\n",
      "Train step of epoch 0:  51%|█████     | 128/250 [01:50<01:46,  1.15it/s, loss=0.556]\u001b[A\n",
      "Train step of epoch 0:  51%|█████     | 128/250 [01:50<01:46,  1.15it/s, loss=0.612]\u001b[A\n",
      "Train step of epoch 0:  52%|█████▏    | 129/250 [01:51<01:45,  1.15it/s, loss=0.612]\u001b[A\n",
      "Train step of epoch 0:  52%|█████▏    | 129/250 [01:51<01:45,  1.15it/s, loss=0.63] \u001b[A\n",
      "Train step of epoch 0:  52%|█████▏    | 130/250 [01:52<01:44,  1.15it/s, loss=0.63]\u001b[A\n",
      "Train step of epoch 0:  52%|█████▏    | 130/250 [01:52<01:44,  1.15it/s, loss=0.573]\u001b[A\n",
      "Train step of epoch 0:  52%|█████▏    | 131/250 [01:52<01:43,  1.15it/s, loss=0.573]\u001b[A\n",
      "Train step of epoch 0:  52%|█████▏    | 131/250 [01:52<01:43,  1.15it/s, loss=0.91] \u001b[A\n",
      "Train step of epoch 0:  53%|█████▎    | 132/250 [01:53<01:42,  1.15it/s, loss=0.91]\u001b[A\n",
      "Train step of epoch 0:  53%|█████▎    | 132/250 [01:53<01:42,  1.15it/s, loss=0.612]\u001b[A\n",
      "Train step of epoch 0:  53%|█████▎    | 133/250 [01:54<01:41,  1.15it/s, loss=0.612]\u001b[A\n",
      "Train step of epoch 0:  53%|█████▎    | 133/250 [01:54<01:41,  1.15it/s, loss=0.764]\u001b[A\n",
      "Train step of epoch 0:  54%|█████▎    | 134/250 [01:55<01:40,  1.15it/s, loss=0.764]\u001b[A\n",
      "Train step of epoch 0:  54%|█████▎    | 134/250 [01:55<01:40,  1.15it/s, loss=0.739]\u001b[A\n",
      "Train step of epoch 0:  54%|█████▍    | 135/250 [01:56<01:40,  1.15it/s, loss=0.739]\u001b[A\n",
      "Train step of epoch 0:  54%|█████▍    | 135/250 [01:56<01:40,  1.15it/s, loss=0.671]\u001b[A\n",
      "Train step of epoch 0:  54%|█████▍    | 136/250 [01:57<01:39,  1.15it/s, loss=0.671]\u001b[A\n",
      "Train step of epoch 0:  54%|█████▍    | 136/250 [01:57<01:39,  1.15it/s, loss=0.717]\u001b[A\n",
      "Train step of epoch 0:  55%|█████▍    | 137/250 [01:58<01:38,  1.15it/s, loss=0.717]\u001b[A\n",
      "Train step of epoch 0:  55%|█████▍    | 137/250 [01:58<01:38,  1.15it/s, loss=0.504]\u001b[A\n",
      "Train step of epoch 0:  55%|█████▌    | 138/250 [01:59<01:37,  1.15it/s, loss=0.504]\u001b[A\n",
      "Train step of epoch 0:  55%|█████▌    | 138/250 [01:59<01:37,  1.15it/s, loss=0.65] \u001b[A\n",
      "Train step of epoch 0:  56%|█████▌    | 139/250 [01:59<01:36,  1.15it/s, loss=0.65]\u001b[A\n",
      "Train step of epoch 0:  56%|█████▌    | 139/250 [01:59<01:36,  1.15it/s, loss=0.585]\u001b[A\n",
      "Train step of epoch 0:  56%|█████▌    | 140/250 [02:00<01:35,  1.15it/s, loss=0.585]\u001b[A\n",
      "Train step of epoch 0:  56%|█████▌    | 140/250 [02:00<01:35,  1.15it/s, loss=0.516]\u001b[A\n",
      "Train step of epoch 0:  56%|█████▋    | 141/250 [02:01<01:34,  1.15it/s, loss=0.516]\u001b[A\n",
      "Train step of epoch 0:  56%|█████▋    | 141/250 [02:01<01:34,  1.15it/s, loss=0.622]\u001b[A\n",
      "Train step of epoch 0:  57%|█████▋    | 142/250 [02:02<01:33,  1.15it/s, loss=0.622]\u001b[A\n",
      "Train step of epoch 0:  57%|█████▋    | 142/250 [02:02<01:33,  1.15it/s, loss=0.855]\u001b[A\n",
      "Train step of epoch 0:  57%|█████▋    | 143/250 [02:03<01:32,  1.15it/s, loss=0.855]\u001b[A\n",
      "Train step of epoch 0:  57%|█████▋    | 143/250 [02:03<01:32,  1.15it/s, loss=0.559]\u001b[A\n",
      "Train step of epoch 0:  58%|█████▊    | 144/250 [02:04<01:32,  1.15it/s, loss=0.559]\u001b[A\n",
      "Train step of epoch 0:  58%|█████▊    | 144/250 [02:04<01:32,  1.15it/s, loss=0.525]\u001b[A\n",
      "Train step of epoch 0:  58%|█████▊    | 145/250 [02:05<01:31,  1.15it/s, loss=0.525]\u001b[A\n",
      "Train step of epoch 0:  58%|█████▊    | 145/250 [02:05<01:31,  1.15it/s, loss=0.615]\u001b[A\n",
      "Train step of epoch 0:  58%|█████▊    | 146/250 [02:05<01:30,  1.15it/s, loss=0.615]\u001b[A\n",
      "Train step of epoch 0:  58%|█████▊    | 146/250 [02:05<01:30,  1.15it/s, loss=0.629]\u001b[A\n",
      "Train step of epoch 0:  59%|█████▉    | 147/250 [02:06<01:29,  1.15it/s, loss=0.629]\u001b[A\n",
      "Train step of epoch 0:  59%|█████▉    | 147/250 [02:06<01:29,  1.15it/s, loss=0.376]\u001b[A\n",
      "Train step of epoch 0:  59%|█████▉    | 148/250 [02:07<01:28,  1.15it/s, loss=0.376]\u001b[A\n",
      "Train step of epoch 0:  59%|█████▉    | 148/250 [02:07<01:28,  1.15it/s, loss=0.596]\u001b[A\n",
      "Train step of epoch 0:  60%|█████▉    | 149/250 [02:08<01:27,  1.15it/s, loss=0.596]\u001b[A\n",
      "Train step of epoch 0:  60%|█████▉    | 149/250 [02:08<01:27,  1.15it/s, loss=0.659]\u001b[A\n",
      "Train step of epoch 0:  60%|██████    | 150/250 [02:09<01:26,  1.15it/s, loss=0.659]\u001b[A\n",
      "Train step of epoch 0:  60%|██████    | 150/250 [02:09<01:26,  1.15it/s, loss=0.536]\u001b[A\n",
      "Train step of epoch 0:  60%|██████    | 151/250 [02:10<01:25,  1.15it/s, loss=0.536]\u001b[A\n",
      "Train step of epoch 0:  60%|██████    | 151/250 [02:10<01:25,  1.15it/s, loss=0.234]\u001b[A\n",
      "Train step of epoch 0:  61%|██████    | 152/250 [02:11<01:25,  1.15it/s, loss=0.234]\u001b[A\n",
      "Train step of epoch 0:  61%|██████    | 152/250 [02:11<01:25,  1.15it/s, loss=0.498]\u001b[A\n",
      "Train step of epoch 0:  61%|██████    | 153/250 [02:12<01:24,  1.15it/s, loss=0.498]\u001b[A\n",
      "Train step of epoch 0:  61%|██████    | 153/250 [02:12<01:24,  1.15it/s, loss=0.638]\u001b[A\n",
      "Train step of epoch 0:  62%|██████▏   | 154/250 [02:12<01:23,  1.15it/s, loss=0.638]\u001b[A\n",
      "Train step of epoch 0:  62%|██████▏   | 154/250 [02:12<01:23,  1.15it/s, loss=1.21] \u001b[A\n",
      "Train step of epoch 0:  62%|██████▏   | 155/250 [02:13<01:22,  1.15it/s, loss=1.21]\u001b[A\n",
      "Train step of epoch 0:  62%|██████▏   | 155/250 [02:13<01:22,  1.15it/s, loss=1.05]\u001b[A\n",
      "Train step of epoch 0:  62%|██████▏   | 156/250 [02:14<01:21,  1.15it/s, loss=1.05]\u001b[A\n",
      "Train step of epoch 0:  62%|██████▏   | 156/250 [02:14<01:21,  1.15it/s, loss=0.368]\u001b[A\n",
      "Train step of epoch 0:  63%|██████▎   | 157/250 [02:15<01:20,  1.15it/s, loss=0.368]\u001b[A\n",
      "Train step of epoch 0:  63%|██████▎   | 157/250 [02:15<01:20,  1.15it/s, loss=0.496]\u001b[A\n",
      "Train step of epoch 0:  63%|██████▎   | 158/250 [02:16<01:19,  1.15it/s, loss=0.496]\u001b[A\n",
      "Train step of epoch 0:  63%|██████▎   | 158/250 [02:16<01:19,  1.15it/s, loss=0.747]\u001b[A\n",
      "Train step of epoch 0:  64%|██████▎   | 159/250 [02:17<01:19,  1.15it/s, loss=0.747]\u001b[A\n",
      "Train step of epoch 0:  64%|██████▎   | 159/250 [02:17<01:19,  1.15it/s, loss=0.734]\u001b[A\n",
      "Train step of epoch 0:  64%|██████▍   | 160/250 [02:18<01:18,  1.15it/s, loss=0.734]\u001b[A\n",
      "Train step of epoch 0:  64%|██████▍   | 160/250 [02:18<01:18,  1.15it/s, loss=0.399]\u001b[A\n",
      "Train step of epoch 0:  64%|██████▍   | 161/250 [02:18<01:17,  1.15it/s, loss=0.399]\u001b[A\n",
      "Train step of epoch 0:  64%|██████▍   | 161/250 [02:19<01:17,  1.15it/s, loss=0.654]\u001b[A\n",
      "Train step of epoch 0:  65%|██████▍   | 162/250 [02:19<01:16,  1.15it/s, loss=0.654]\u001b[A\n",
      "Train step of epoch 0:  65%|██████▍   | 162/250 [02:19<01:16,  1.15it/s, loss=0.49] \u001b[A\n",
      "Train step of epoch 0:  65%|██████▌   | 163/250 [02:20<01:15,  1.15it/s, loss=0.49]\u001b[A\n",
      "Train step of epoch 0:  65%|██████▌   | 163/250 [02:20<01:15,  1.15it/s, loss=0.413]\u001b[A\n",
      "Train step of epoch 0:  66%|██████▌   | 164/250 [02:21<01:14,  1.15it/s, loss=0.413]\u001b[A\n",
      "Train step of epoch 0:  66%|██████▌   | 164/250 [02:21<01:14,  1.15it/s, loss=0.651]\u001b[A\n",
      "Train step of epoch 0:  66%|██████▌   | 165/250 [02:22<01:14,  1.15it/s, loss=0.651]\u001b[A\n",
      "Train step of epoch 0:  66%|██████▌   | 165/250 [02:22<01:14,  1.15it/s, loss=1]    \u001b[A\n",
      "Train step of epoch 0:  66%|██████▋   | 166/250 [02:23<01:13,  1.15it/s, loss=1]\u001b[A\n",
      "Train step of epoch 0:  66%|██████▋   | 166/250 [02:23<01:13,  1.15it/s, loss=0.3]\u001b[A\n",
      "Train step of epoch 0:  67%|██████▋   | 167/250 [02:24<01:12,  1.15it/s, loss=0.3]\u001b[A\n",
      "Train step of epoch 0:  67%|██████▋   | 167/250 [02:24<01:12,  1.15it/s, loss=0.368]\u001b[A\n",
      "Train step of epoch 0:  67%|██████▋   | 168/250 [02:25<01:11,  1.15it/s, loss=0.368]\u001b[A\n",
      "Train step of epoch 0:  67%|██████▋   | 168/250 [02:25<01:11,  1.15it/s, loss=0.459]\u001b[A\n",
      "Train step of epoch 0:  68%|██████▊   | 169/250 [02:25<01:10,  1.15it/s, loss=0.459]\u001b[A\n",
      "Train step of epoch 0:  68%|██████▊   | 169/250 [02:25<01:10,  1.15it/s, loss=0.38] \u001b[A\n",
      "Train step of epoch 0:  68%|██████▊   | 170/250 [02:26<01:09,  1.15it/s, loss=0.38]\u001b[A\n",
      "Train step of epoch 0:  68%|██████▊   | 170/250 [02:26<01:09,  1.15it/s, loss=0.906]\u001b[A\n",
      "Train step of epoch 0:  68%|██████▊   | 171/250 [02:27<01:08,  1.15it/s, loss=0.906]\u001b[A\n",
      "Train step of epoch 0:  68%|██████▊   | 171/250 [02:27<01:08,  1.15it/s, loss=0.708]\u001b[A\n",
      "Train step of epoch 0:  69%|██████▉   | 172/250 [02:28<01:07,  1.15it/s, loss=0.708]\u001b[A\n",
      "Train step of epoch 0:  69%|██████▉   | 172/250 [02:28<01:07,  1.15it/s, loss=0.797]\u001b[A\n",
      "Train step of epoch 0:  69%|██████▉   | 173/250 [02:29<01:07,  1.15it/s, loss=0.797]\u001b[A\n",
      "Train step of epoch 0:  69%|██████▉   | 173/250 [02:29<01:07,  1.15it/s, loss=0.448]\u001b[A\n",
      "Train step of epoch 0:  70%|██████▉   | 174/250 [02:30<01:06,  1.15it/s, loss=0.448]\u001b[A\n",
      "Train step of epoch 0:  70%|██████▉   | 174/250 [02:30<01:06,  1.15it/s, loss=0.337]\u001b[A\n",
      "Train step of epoch 0:  70%|███████   | 175/250 [02:31<01:05,  1.15it/s, loss=0.337]\u001b[A\n",
      "Train step of epoch 0:  70%|███████   | 175/250 [02:31<01:05,  1.15it/s, loss=0.75] \u001b[A\n",
      "Train step of epoch 0:  70%|███████   | 176/250 [02:32<01:04,  1.15it/s, loss=0.75]\u001b[A\n",
      "Train step of epoch 0:  70%|███████   | 176/250 [02:32<01:04,  1.15it/s, loss=0.41]\u001b[A\n",
      "Train step of epoch 0:  71%|███████   | 177/250 [02:32<01:03,  1.15it/s, loss=0.41]\u001b[A\n",
      "Train step of epoch 0:  71%|███████   | 177/250 [02:32<01:03,  1.15it/s, loss=0.359]\u001b[A\n",
      "Train step of epoch 0:  71%|███████   | 178/250 [02:33<01:02,  1.14it/s, loss=0.359]\u001b[A\n",
      "Train step of epoch 0:  71%|███████   | 178/250 [02:33<01:02,  1.14it/s, loss=0.313]\u001b[A\n",
      "Train step of epoch 0:  72%|███████▏  | 179/250 [02:34<01:02,  1.14it/s, loss=0.313]\u001b[A\n",
      "Train step of epoch 0:  72%|███████▏  | 179/250 [02:34<01:02,  1.14it/s, loss=0.517]\u001b[A\n",
      "Train step of epoch 0:  72%|███████▏  | 180/250 [02:35<01:01,  1.14it/s, loss=0.517]\u001b[A\n",
      "Train step of epoch 0:  72%|███████▏  | 180/250 [02:35<01:01,  1.14it/s, loss=0.728]\u001b[A\n",
      "Train step of epoch 0:  72%|███████▏  | 181/250 [02:36<01:00,  1.14it/s, loss=0.728]\u001b[A\n",
      "Train step of epoch 0:  72%|███████▏  | 181/250 [02:36<01:00,  1.14it/s, loss=0.301]\u001b[A\n",
      "Train step of epoch 0:  73%|███████▎  | 182/250 [02:37<00:59,  1.14it/s, loss=0.301]\u001b[A\n",
      "Train step of epoch 0:  73%|███████▎  | 182/250 [02:37<00:59,  1.14it/s, loss=0.989]\u001b[A\n",
      "Train step of epoch 0:  73%|███████▎  | 183/250 [02:38<00:58,  1.14it/s, loss=0.989]\u001b[A\n",
      "Train step of epoch 0:  73%|███████▎  | 183/250 [02:38<00:58,  1.14it/s, loss=1.24] \u001b[A\n",
      "Train step of epoch 0:  74%|███████▎  | 184/250 [02:39<00:57,  1.14it/s, loss=1.24]\u001b[A\n",
      "Train step of epoch 0:  74%|███████▎  | 184/250 [02:39<00:57,  1.14it/s, loss=0.917]\u001b[A\n",
      "Train step of epoch 0:  74%|███████▍  | 185/250 [02:39<00:56,  1.14it/s, loss=0.917]\u001b[A\n",
      "Train step of epoch 0:  74%|███████▍  | 185/250 [02:39<00:56,  1.14it/s, loss=0.482]\u001b[A\n",
      "Train step of epoch 0:  74%|███████▍  | 186/250 [02:40<00:56,  1.14it/s, loss=0.482]\u001b[A\n",
      "Train step of epoch 0:  74%|███████▍  | 186/250 [02:40<00:56,  1.14it/s, loss=0.487]\u001b[A\n",
      "Train step of epoch 0:  75%|███████▍  | 187/250 [02:41<00:55,  1.14it/s, loss=0.487]\u001b[A\n",
      "Train step of epoch 0:  75%|███████▍  | 187/250 [02:41<00:55,  1.14it/s, loss=0.366]\u001b[A\n",
      "Train step of epoch 0:  75%|███████▌  | 188/250 [02:42<00:54,  1.14it/s, loss=0.366]\u001b[A\n",
      "Train step of epoch 0:  75%|███████▌  | 188/250 [02:42<00:54,  1.14it/s, loss=0.575]\u001b[A\n",
      "Train step of epoch 0:  76%|███████▌  | 189/250 [02:43<00:53,  1.14it/s, loss=0.575]\u001b[A\n",
      "Train step of epoch 0:  76%|███████▌  | 189/250 [02:43<00:53,  1.14it/s, loss=0.725]\u001b[A\n",
      "Train step of epoch 0:  76%|███████▌  | 190/250 [02:44<00:52,  1.14it/s, loss=0.725]\u001b[A\n",
      "Train step of epoch 0:  76%|███████▌  | 190/250 [02:44<00:52,  1.14it/s, loss=0.396]\u001b[A\n",
      "Train step of epoch 0:  76%|███████▋  | 191/250 [02:45<00:51,  1.14it/s, loss=0.396]\u001b[A\n",
      "Train step of epoch 0:  76%|███████▋  | 191/250 [02:45<00:51,  1.14it/s, loss=0.378]\u001b[A\n",
      "Train step of epoch 0:  77%|███████▋  | 192/250 [02:46<00:50,  1.14it/s, loss=0.378]\u001b[A\n",
      "Train step of epoch 0:  77%|███████▋  | 192/250 [02:46<00:50,  1.14it/s, loss=0.41] \u001b[A\n",
      "Train step of epoch 0:  77%|███████▋  | 193/250 [02:46<00:49,  1.14it/s, loss=0.41]\u001b[A\n",
      "Train step of epoch 0:  77%|███████▋  | 193/250 [02:46<00:49,  1.14it/s, loss=0.885]\u001b[A\n",
      "Train step of epoch 0:  78%|███████▊  | 194/250 [02:47<00:49,  1.14it/s, loss=0.885]\u001b[A\n",
      "Train step of epoch 0:  78%|███████▊  | 194/250 [02:47<00:49,  1.14it/s, loss=0.693]\u001b[A\n",
      "Train step of epoch 0:  78%|███████▊  | 195/250 [02:48<00:48,  1.14it/s, loss=0.693]\u001b[A\n",
      "Train step of epoch 0:  78%|███████▊  | 195/250 [02:48<00:48,  1.14it/s, loss=0.414]\u001b[A\n",
      "Train step of epoch 0:  78%|███████▊  | 196/250 [02:49<00:47,  1.14it/s, loss=0.414]\u001b[A\n",
      "Train step of epoch 0:  78%|███████▊  | 196/250 [02:49<00:47,  1.14it/s, loss=1.01] \u001b[A\n",
      "Train step of epoch 0:  79%|███████▉  | 197/250 [02:50<00:46,  1.14it/s, loss=1.01]\u001b[A\n",
      "Train step of epoch 0:  79%|███████▉  | 197/250 [02:50<00:46,  1.14it/s, loss=0.631]\u001b[A\n",
      "Train step of epoch 0:  79%|███████▉  | 198/250 [02:51<00:45,  1.14it/s, loss=0.631]\u001b[A\n",
      "Train step of epoch 0:  79%|███████▉  | 198/250 [02:51<00:45,  1.14it/s, loss=0.464]\u001b[A\n",
      "Train step of epoch 0:  80%|███████▉  | 199/250 [02:52<00:44,  1.14it/s, loss=0.464]\u001b[A\n",
      "Train step of epoch 0:  80%|███████▉  | 199/250 [02:52<00:44,  1.14it/s, loss=0.395]\u001b[A\n",
      "Train step of epoch 0:  80%|████████  | 200/250 [02:53<00:43,  1.14it/s, loss=0.395]\u001b[A\n",
      "Train step of epoch 0:  80%|████████  | 200/250 [02:53<00:43,  1.14it/s, loss=0.417]\u001b[A\n",
      "Train step of epoch 0:  80%|████████  | 201/250 [02:53<00:43,  1.14it/s, loss=0.417]\u001b[A\n",
      "Train step of epoch 0:  80%|████████  | 201/250 [02:53<00:43,  1.14it/s, loss=0.46] \u001b[A\n",
      "Train step of epoch 0:  81%|████████  | 202/250 [02:54<00:42,  1.14it/s, loss=0.46]\u001b[A\n",
      "Train step of epoch 0:  81%|████████  | 202/250 [02:54<00:42,  1.14it/s, loss=0.83]\u001b[A\n",
      "Train step of epoch 0:  81%|████████  | 203/250 [02:55<00:41,  1.14it/s, loss=0.83]\u001b[A\n",
      "Train step of epoch 0:  81%|████████  | 203/250 [02:55<00:41,  1.14it/s, loss=0.649]\u001b[A\n",
      "Train step of epoch 0:  82%|████████▏ | 204/250 [02:56<00:40,  1.14it/s, loss=0.649]\u001b[A\n",
      "Train step of epoch 0:  82%|████████▏ | 204/250 [02:56<00:40,  1.14it/s, loss=0.483]\u001b[A\n",
      "Train step of epoch 0:  82%|████████▏ | 205/250 [02:57<00:39,  1.14it/s, loss=0.483]\u001b[A\n",
      "Train step of epoch 0:  82%|████████▏ | 205/250 [02:57<00:39,  1.14it/s, loss=0.567]\u001b[A\n",
      "Train step of epoch 0:  82%|████████▏ | 206/250 [02:58<00:38,  1.14it/s, loss=0.567]\u001b[A\n",
      "Train step of epoch 0:  82%|████████▏ | 206/250 [02:58<00:38,  1.14it/s, loss=0.838]\u001b[A\n",
      "Train step of epoch 0:  83%|████████▎ | 207/250 [02:59<00:37,  1.14it/s, loss=0.838]\u001b[A\n",
      "Train step of epoch 0:  83%|████████▎ | 207/250 [02:59<00:37,  1.14it/s, loss=0.513]\u001b[A\n",
      "Train step of epoch 0:  83%|████████▎ | 208/250 [03:00<00:36,  1.14it/s, loss=0.513]\u001b[A\n",
      "Train step of epoch 0:  83%|████████▎ | 208/250 [03:00<00:36,  1.14it/s, loss=0.654]\u001b[A\n",
      "Train step of epoch 0:  84%|████████▎ | 209/250 [03:00<00:35,  1.14it/s, loss=0.654]\u001b[A\n",
      "Train step of epoch 0:  84%|████████▎ | 209/250 [03:00<00:35,  1.14it/s, loss=0.659]\u001b[A\n",
      "Train step of epoch 0:  84%|████████▍ | 210/250 [03:01<00:35,  1.14it/s, loss=0.659]\u001b[A\n",
      "Train step of epoch 0:  84%|████████▍ | 210/250 [03:01<00:35,  1.14it/s, loss=0.719]\u001b[A\n",
      "Train step of epoch 0:  84%|████████▍ | 211/250 [03:02<00:34,  1.14it/s, loss=0.719]\u001b[A\n",
      "Train step of epoch 0:  84%|████████▍ | 211/250 [03:02<00:34,  1.14it/s, loss=0.369]\u001b[A\n",
      "Train step of epoch 0:  85%|████████▍ | 212/250 [03:03<00:33,  1.14it/s, loss=0.369]\u001b[A\n",
      "Train step of epoch 0:  85%|████████▍ | 212/250 [03:03<00:33,  1.14it/s, loss=0.567]\u001b[A\n",
      "Train step of epoch 0:  85%|████████▌ | 213/250 [03:04<00:32,  1.14it/s, loss=0.567]\u001b[A\n",
      "Train step of epoch 0:  85%|████████▌ | 213/250 [03:04<00:32,  1.14it/s, loss=0.364]\u001b[A\n",
      "Train step of epoch 0:  86%|████████▌ | 214/250 [03:05<00:31,  1.14it/s, loss=0.364]\u001b[A\n",
      "Train step of epoch 0:  86%|████████▌ | 214/250 [03:05<00:31,  1.14it/s, loss=1.04] \u001b[A\n",
      "Train step of epoch 0:  86%|████████▌ | 215/250 [03:06<00:30,  1.14it/s, loss=1.04]\u001b[A\n",
      "Train step of epoch 0:  86%|████████▌ | 215/250 [03:06<00:30,  1.14it/s, loss=0.448]\u001b[A\n",
      "Train step of epoch 0:  86%|████████▋ | 216/250 [03:07<00:29,  1.14it/s, loss=0.448]\u001b[A\n",
      "Train step of epoch 0:  86%|████████▋ | 216/250 [03:07<00:29,  1.14it/s, loss=0.807]\u001b[A\n",
      "Train step of epoch 0:  87%|████████▋ | 217/250 [03:07<00:28,  1.14it/s, loss=0.807]\u001b[A\n",
      "Train step of epoch 0:  87%|████████▋ | 217/250 [03:08<00:28,  1.14it/s, loss=0.989]\u001b[A\n",
      "Train step of epoch 0:  87%|████████▋ | 218/250 [03:08<00:28,  1.14it/s, loss=0.989]\u001b[A\n",
      "Train step of epoch 0:  87%|████████▋ | 218/250 [03:08<00:28,  1.14it/s, loss=0.511]\u001b[A\n",
      "Train step of epoch 0:  88%|████████▊ | 219/250 [03:09<00:27,  1.14it/s, loss=0.511]\u001b[A\n",
      "Train step of epoch 0:  88%|████████▊ | 219/250 [03:09<00:27,  1.14it/s, loss=0.416]\u001b[A\n",
      "Train step of epoch 0:  88%|████████▊ | 220/250 [03:10<00:26,  1.14it/s, loss=0.416]\u001b[A\n",
      "Train step of epoch 0:  88%|████████▊ | 220/250 [03:10<00:26,  1.14it/s, loss=0.639]\u001b[A\n",
      "Train step of epoch 0:  88%|████████▊ | 221/250 [03:11<00:25,  1.14it/s, loss=0.639]\u001b[A\n",
      "Train step of epoch 0:  88%|████████▊ | 221/250 [03:11<00:25,  1.14it/s, loss=0.67] \u001b[A\n",
      "Train step of epoch 0:  89%|████████▉ | 222/250 [03:12<00:24,  1.14it/s, loss=0.67]\u001b[A\n",
      "Train step of epoch 0:  89%|████████▉ | 222/250 [03:12<00:24,  1.14it/s, loss=0.3] \u001b[A\n",
      "Train step of epoch 0:  89%|████████▉ | 223/250 [03:13<00:23,  1.14it/s, loss=0.3]\u001b[A\n",
      "Train step of epoch 0:  89%|████████▉ | 223/250 [03:13<00:23,  1.14it/s, loss=0.665]\u001b[A\n",
      "Train step of epoch 0:  90%|████████▉ | 224/250 [03:14<00:22,  1.14it/s, loss=0.665]\u001b[A\n",
      "Train step of epoch 0:  90%|████████▉ | 224/250 [03:14<00:22,  1.14it/s, loss=0.865]\u001b[A\n",
      "Train step of epoch 0:  90%|█████████ | 225/250 [03:14<00:21,  1.14it/s, loss=0.865]\u001b[A\n",
      "Train step of epoch 0:  90%|█████████ | 225/250 [03:15<00:21,  1.14it/s, loss=0.741]\u001b[A\n",
      "Train step of epoch 0:  90%|█████████ | 226/250 [03:15<00:21,  1.14it/s, loss=0.741]\u001b[A\n",
      "Train step of epoch 0:  90%|█████████ | 226/250 [03:15<00:21,  1.14it/s, loss=0.588]\u001b[A\n",
      "Train step of epoch 0:  91%|█████████ | 227/250 [03:16<00:20,  1.14it/s, loss=0.588]\u001b[A\n",
      "Train step of epoch 0:  91%|█████████ | 227/250 [03:16<00:20,  1.14it/s, loss=0.788]\u001b[A\n",
      "Train step of epoch 0:  91%|█████████ | 228/250 [03:17<00:19,  1.14it/s, loss=0.788]\u001b[A\n",
      "Train step of epoch 0:  91%|█████████ | 228/250 [03:17<00:19,  1.14it/s, loss=0.522]\u001b[A\n",
      "Train step of epoch 0:  92%|█████████▏| 229/250 [03:18<00:18,  1.14it/s, loss=0.522]\u001b[A\n",
      "Train step of epoch 0:  92%|█████████▏| 229/250 [03:18<00:18,  1.14it/s, loss=0.532]\u001b[A\n",
      "Train step of epoch 0:  92%|█████████▏| 230/250 [03:19<00:17,  1.14it/s, loss=0.532]\u001b[A\n",
      "Train step of epoch 0:  92%|█████████▏| 230/250 [03:19<00:17,  1.14it/s, loss=0.759]\u001b[A\n",
      "Train step of epoch 0:  92%|█████████▏| 231/250 [03:20<00:16,  1.14it/s, loss=0.759]\u001b[A\n",
      "Train step of epoch 0:  92%|█████████▏| 231/250 [03:20<00:16,  1.14it/s, loss=0.418]\u001b[A\n",
      "Train step of epoch 0:  93%|█████████▎| 232/250 [03:21<00:15,  1.14it/s, loss=0.418]\u001b[A\n",
      "Train step of epoch 0:  93%|█████████▎| 232/250 [03:21<00:15,  1.14it/s, loss=0.822]\u001b[A\n",
      "Train step of epoch 0:  93%|█████████▎| 233/250 [03:21<00:14,  1.14it/s, loss=0.822]\u001b[A\n",
      "Train step of epoch 0:  93%|█████████▎| 233/250 [03:22<00:14,  1.14it/s, loss=0.462]\u001b[A\n",
      "Train step of epoch 0:  94%|█████████▎| 234/250 [03:22<00:14,  1.14it/s, loss=0.462]\u001b[A\n",
      "Train step of epoch 0:  94%|█████████▎| 234/250 [03:22<00:14,  1.14it/s, loss=0.585]\u001b[A\n",
      "Train step of epoch 0:  94%|█████████▍| 235/250 [03:23<00:13,  1.14it/s, loss=0.585]\u001b[A\n",
      "Train step of epoch 0:  94%|█████████▍| 235/250 [03:23<00:13,  1.14it/s, loss=1.14] \u001b[A\n",
      "Train step of epoch 0:  94%|█████████▍| 236/250 [03:24<00:12,  1.14it/s, loss=1.14]\u001b[A\n",
      "Train step of epoch 0:  94%|█████████▍| 236/250 [03:24<00:12,  1.14it/s, loss=0.576]\u001b[A\n",
      "Train step of epoch 0:  95%|█████████▍| 237/250 [03:25<00:11,  1.14it/s, loss=0.576]\u001b[A\n",
      "Train step of epoch 0:  95%|█████████▍| 237/250 [03:25<00:11,  1.14it/s, loss=0.557]\u001b[A\n",
      "Train step of epoch 0:  95%|█████████▌| 238/250 [03:26<00:10,  1.14it/s, loss=0.557]\u001b[A\n",
      "Train step of epoch 0:  95%|█████████▌| 238/250 [03:26<00:10,  1.14it/s, loss=0.638]\u001b[A\n",
      "Train step of epoch 0:  96%|█████████▌| 239/250 [03:27<00:09,  1.14it/s, loss=0.638]\u001b[A\n",
      "Train step of epoch 0:  96%|█████████▌| 239/250 [03:27<00:09,  1.14it/s, loss=0.675]\u001b[A\n",
      "Train step of epoch 0:  96%|█████████▌| 240/250 [03:28<00:08,  1.14it/s, loss=0.675]\u001b[A\n",
      "Train step of epoch 0:  96%|█████████▌| 240/250 [03:28<00:08,  1.14it/s, loss=0.696]\u001b[A\n",
      "Train step of epoch 0:  96%|█████████▋| 241/250 [03:28<00:07,  1.14it/s, loss=0.696]\u001b[A\n",
      "Train step of epoch 0:  96%|█████████▋| 241/250 [03:29<00:07,  1.14it/s, loss=0.55] \u001b[A\n",
      "Train step of epoch 0:  97%|█████████▋| 242/250 [03:29<00:07,  1.14it/s, loss=0.55]\u001b[A\n",
      "Train step of epoch 0:  97%|█████████▋| 242/250 [03:29<00:07,  1.14it/s, loss=0.702]\u001b[A\n",
      "Train step of epoch 0:  97%|█████████▋| 243/250 [03:30<00:06,  1.14it/s, loss=0.702]\u001b[A\n",
      "Train step of epoch 0:  97%|█████████▋| 243/250 [03:30<00:06,  1.14it/s, loss=0.565]\u001b[A\n",
      "Train step of epoch 0:  98%|█████████▊| 244/250 [03:31<00:05,  1.14it/s, loss=0.565]\u001b[A\n",
      "Train step of epoch 0:  98%|█████████▊| 244/250 [03:31<00:05,  1.14it/s, loss=0.588]\u001b[A\n",
      "Train step of epoch 0:  98%|█████████▊| 245/250 [03:32<00:04,  1.14it/s, loss=0.588]\u001b[A\n",
      "Train step of epoch 0:  98%|█████████▊| 245/250 [03:32<00:04,  1.14it/s, loss=0.677]\u001b[A\n",
      "Train step of epoch 0:  98%|█████████▊| 246/250 [03:33<00:03,  1.14it/s, loss=0.677]\u001b[A\n",
      "Train step of epoch 0:  98%|█████████▊| 246/250 [03:33<00:03,  1.14it/s, loss=0.757]\u001b[A\n",
      "Train step of epoch 0:  99%|█████████▉| 247/250 [03:34<00:02,  1.14it/s, loss=0.757]\u001b[A\n",
      "Train step of epoch 0:  99%|█████████▉| 247/250 [03:34<00:02,  1.14it/s, loss=0.432]\u001b[A\n",
      "Train step of epoch 0:  99%|█████████▉| 248/250 [03:35<00:01,  1.14it/s, loss=0.432]\u001b[A\n",
      "Train step of epoch 0:  99%|█████████▉| 248/250 [03:35<00:01,  1.14it/s, loss=1.14] \u001b[A\n",
      "Train step of epoch 0: 100%|█████████▉| 249/250 [03:35<00:00,  1.14it/s, loss=1.14]\u001b[A\n",
      "Train step of epoch 0: 100%|█████████▉| 249/250 [03:36<00:00,  1.14it/s, loss=0.651]\u001b[A\n",
      "Train step of epoch 0: 100%|██████████| 250/250 [03:36<00:00,  1.14it/s, loss=0.651]\u001b[A\n",
      "Train epoch: 100%|██████████| 1/1 [03:51<00:00, 231.14s/it]0,  1.14it/s, loss=0.531]\u001b[A\n",
      "Train step of epoch 0: 100%|██████████| 250/250 [03:51<00:00,  1.08it/s, loss=0.618, dist_mean=0.282]\u001b[A\n",
      "Train epoch: 100%|██████████| 1/1 [03:51<00:00, 231.15s/it]\n"
     ]
    }
   ],
   "source": [
    "# RM 모델 훈련\n",
    "trainer.fit(use_lora=0)\n",
    "\n",
    "model.save_pretrained('aiffel/KoChatGPT/output_2_RM')"
   ]
  },
  {
   "cell_type": "code",
   "execution_count": 40,
   "metadata": {},
   "outputs": [
    {
     "name": "stdout",
     "output_type": "stream",
     "text": [
      "input: 인공지능은 똥멍청이 입니다\n",
      "reward score: 0.0\n"
     ]
    }
   ],
   "source": [
    "# RM 인퍼런스를 체크할 수 있는 함수 생성\n",
    "def inference_RM(input_text):\n",
    "    input_ids = tokenizer.encode(input_text, return_tensors='pt').to(\n",
    "        torch.cuda.current_device())\n",
    "    output = model(input_ids)\n",
    "    output_reward = output.cpu().detach().numpy()[0]\n",
    "\n",
    "    print('input: %s\\nreward score: %.1f'%(input_text, output_reward))\n",
    "\n",
    "    return output_reward\n",
    "\n",
    "# 임의의 문장을 입력하여 적절한  reward_score를 주는지 확인\n",
    "input_text = '인공지능은 똥멍청이 입니다'\n",
    "output_reward = inference_RM(input_text=input_text)"
   ]
  },
  {
   "cell_type": "code",
   "execution_count": 41,
   "metadata": {},
   "outputs": [
    {
     "name": "stdout",
     "output_type": "stream",
     "text": [
      "input: 인공지능(AI)은 컴퓨터에서 음성 및 작성된 언어를 보고 이해하고 번역하고 데이터를 분석하고 추천하는 기능을 포함하여 다양한 고급 기능을 수행할 수 있는 일련의 기술입니다.\n",
      "reward score: 0.1\n"
     ]
    }
   ],
   "source": [
    "input_text = '인공지능(AI)은 컴퓨터에서 음성 및 작성된 언어를 보고 이해하고 번역하고 데이터를 분석하고 추천하는 기능을 포함하여 다양한 고급 기능을 수행할 수 있는 일련의 기술입니다.'\n",
    "\n",
    "output_reward = inference_RM(input_text=input_text)"
   ]
  },
  {
   "cell_type": "code",
   "execution_count": 42,
   "metadata": {},
   "outputs": [
    {
     "name": "stdout",
     "output_type": "stream",
     "text": [
      "input: 인공지능(AI)은 컴퓨터에서 음성 및 작성된 언어를 보고 이해하고 번역하고 데이터를 분석하고 추천하는 기능을 포함하여 다양한 고급 기능을 수행할 수 있는 일련의 기술입니다. AI는 현대적인 컴퓨팅 혁신에서 중추적인 역할을 하며 개인과 비즈니스의 가치를 창출합니다. 예를 들어 광학 문자 인식(OCR)은 AI를 사용해 이미지 및 문서에서 텍스트 및 데이터를 추출하고, 구조화되지 않은 콘텐츠를 비즈니스에 바로 사용할 수 있게 만들고, 유용한 정보를 창출합니다.\n",
      "reward score: 0.3\n"
     ]
    }
   ],
   "source": [
    "input_text = \"인공지능(AI)은 컴퓨터에서 음성 및 작성된 언어를 보고 이해하고 번역하고 데이터를 분석하고 추천하는 기능을 포함하여 다양한 고급 기능을 수행할 수 있는 일련의 기술입니다. AI는 현대적인 컴퓨팅 혁신에서 중추적인 역할을 하며 개인과 비즈니스의 가치를 창출합니다. 예를 들어 광학 문자 인식(OCR)은 AI를 사용해 이미지 및 문서에서 텍스트 및 데이터를 추출하고, 구조화되지 않은 콘텐츠를 비즈니스에 바로 사용할 수 있게 만들고, 유용한 정보를 창출합니다.\"\n",
    "\n",
    "output_reward = inference_RM(input_text=input_text)"
   ]
  },
  {
   "cell_type": "code",
   "execution_count": 43,
   "metadata": {},
   "outputs": [
    {
     "name": "stdout",
     "output_type": "stream",
     "text": [
      "input: 인공지능은 일반적으로 인간의 지능이 필요하거나 인간이 분석할 수 있는 것보다 규모가 큰 데이터를 포함하는 방식으로 추론, 학습 및 행동할 수 있는 컴퓨터 및 기계를 구축하는 것과 관련된 과학 분야입니다. AI는 컴퓨터 공학, 데이터 분석 및 통계, 하드웨어 및 소프트웨어 엔지니어링, 언어학, 신경 과학은 물론 철학과 심리학을 포함하여 여러 학문을 포괄하는 광범위한 분야입니다. 비즈니스의 운영 수준에서 AI는 주로 머신러닝과 딥 러닝을 기반으로 하는 기술 모음으로, 데이터 분석, 예상 및 예측, 객체 분류, 자연어 처리, 추천, 지능형 데이터 가져오기 등을 수행할 수 있습니다.\n",
      "reward score: 0.4\n"
     ]
    }
   ],
   "source": [
    "input_text = \"인공지능은 일반적으로 인간의 지능이 필요하거나 인간이 분석할 수 있는 것보다 규모가 큰 데이터를 포함하는 방식으로 추론, 학습 및 행동할 수 있는 컴퓨터 및 기계를 구축하는 것과 관련된 과학 분야입니다. AI는 컴퓨터 공학, 데이터 분석 및 통계, 하드웨어 및 소프트웨어 엔지니어링, 언어학, 신경 과학은 물론 철학과 심리학을 포함하여 여러 학문을 포괄하는 광범위한 분야입니다. 비즈니스의 운영 수준에서 AI는 주로 머신러닝과 딥 러닝을 기반으로 하는 기술 모음으로, 데이터 분석, 예상 및 예측, 객체 분류, 자연어 처리, 추천, 지능형 데이터 가져오기 등을 수행할 수 있습니다.\"\n",
    "\n",
    "output_reward = inference_RM(input_text=input_text)"
   ]
  },
  {
   "cell_type": "code",
   "execution_count": 44,
   "metadata": {},
   "outputs": [],
   "source": [
    "## CUDA 캐시 비우기\n",
    "torch.cuda.empty_cache()"
   ]
  },
  {
   "cell_type": "markdown",
   "metadata": {},
   "source": [
    "데이터 전처리를 `completion_*`의 길이 위주로 해보고 싶었는데, 데이터셋 생성의 로직이 `prompt`기반으로 판단하는 부분이 들어가 전처리를 해보지 못했다."
   ]
  },
  {
   "cell_type": "markdown",
   "metadata": {},
   "source": [
    "---"
   ]
  },
  {
   "cell_type": "code",
   "execution_count": 45,
   "metadata": {},
   "outputs": [
    {
     "name": "stdout",
     "output_type": "stream",
     "text": [
      "12000\n"
     ]
    },
    {
     "data": {
      "text/plain": [
       "[{'prompt': '번디는 자신이 탐정잡지, 범죄소설 그리고 성범죄 관련 실제 범죄 다큐멘터리들을 탐독했다고 누구에게 말했나?'},\n",
       " {'prompt': '개포주공아파트는 몇 단지로 이루어져 있나?'},\n",
       " {'prompt': '김영삼의 후보 시절 지역표심을 겨냥한 발언을 문제삼은 후보는?'}]"
      ]
     },
     "execution_count": 45,
     "metadata": {},
     "output_type": "execute_result"
    }
   ],
   "source": [
    "# PRO 데이터셋 확인\n",
    "data_path_3_PPO = '/aiffel/KoChatGPT/data_kochatgpt/kochatgpt_3_PPO.jsonl'\n",
    "with open(data_path_3_PPO, \"r\", encoding='utf-8-sig') as json_file:\n",
    "    list_data_dict = json.load(json_file)\n",
    "\n",
    "print(len(list_data_dict))\n",
    "list_data_dict[:3]"
   ]
  },
  {
   "cell_type": "code",
   "execution_count": 46,
   "metadata": {},
   "outputs": [],
   "source": [
    "# Initial 모델 설정 (SFT 모델을 freezing)\n",
    "with NaiveStrategy().model_init_context():\n",
    "    actor = GPTActor(pretrained='/aiffel/aiffel/KoChatGPT/output_1_SFT', lora_rank=0).to(torch.cuda.current_device())\n",
    "    critic = GPTCritic(pretrained='/aiffel/aiffel/KoChatGPT/output_2_RM', lora_rank=0).to(torch.cuda.current_device())\n",
    "\n",
    "    tokenizer = AutoTokenizer.from_pretrained(\n",
    "        'skt/kogpt2-base-v2', bos_token='</s>', eos_token='</s>', unk_token='</s>', pad_token='</s>',\n",
    "        padding_side=\"right\", \n",
    "        model_max_length=512\n",
    "    )\n",
    "\n",
    "    initial_model = deepcopy(actor)\n",
    "    reward_model = RewardModel(deepcopy(critic.model), deepcopy(critic.value_head)).to(torch.cuda.current_device())"
   ]
  },
  {
   "cell_type": "code",
   "execution_count": 47,
   "metadata": {},
   "outputs": [],
   "source": [
    "# 옵티마이저와 모델 준비\n",
    "actor_optim = Adam(actor.parameters(), lr=5e-6)\n",
    "critic_optim = Adam(critic.parameters(), lr=5e-6)"
   ]
  },
  {
   "cell_type": "code",
   "execution_count": 48,
   "metadata": {},
   "outputs": [],
   "source": [
    "(actor, actor_optim), (critic, critic_optim), reward_model, initial_model = NaiveStrategy().prepare(\n",
    "    (actor, actor_optim), (critic, critic_optim), reward_model, initial_model)"
   ]
  },
  {
   "cell_type": "code",
   "execution_count": 49,
   "metadata": {},
   "outputs": [],
   "source": [
    "# PRO 학습에 사용할 데이터 불러와 토크나이징\n",
    "with open('/aiffel/KoChatGPT/data_kochatgpt/kochatgpt_3_PPO.jsonl', \"r\", encoding='utf-8-sig') as json_file:\n",
    "    list_data_dict = json.load(json_file)\n",
    "    list_prompt = [tmp['prompt'] for tmp in list_data_dict]\n",
    "\n",
    "def tokenize_fn(texts):\n",
    "    batch = tokenizer(texts, return_tensors='pt', max_length=96, padding=True, truncation=True)\n",
    "    return {k: v.cuda() for k, v in batch.items()}"
   ]
  },
  {
   "cell_type": "code",
   "execution_count": 50,
   "metadata": {},
   "outputs": [
    {
     "name": "stdout",
     "output_type": "stream",
     "text": [
      "{'input_ids': tensor([[47311, 10448, 19008,  9792, 11780, 11308, 30190, 10929, 11849, 21663,\n",
      "         44389,  9574, 13799,   458, 14308, 12778, 22469, 20938, 44696,   458,\n",
      "         13799,   458, 14308, 12778, 11756, 18944,   389]], device='cuda:0'), 'attention_mask': tensor([[1, 1, 1, 1, 1, 1, 1, 1, 1, 1, 1, 1, 1, 1, 1, 1, 1, 1, 1, 1, 1, 1, 1, 1,\n",
      "         1, 1, 1]], device='cuda:0')}\n"
     ]
    }
   ],
   "source": [
    "# 임의의 문장 토큰화 결과 확인하기\n",
    "print(tokenize_fn('It takes something more than intelligence to act intelligently.'))"
   ]
  },
  {
   "cell_type": "code",
   "execution_count": 51,
   "metadata": {},
   "outputs": [
    {
     "data": {
      "text/plain": [
       "12000"
      ]
     },
     "execution_count": 51,
     "metadata": {},
     "output_type": "execute_result"
    }
   ],
   "source": [
    "# PRO에서 사용할 데이터셋 개수 확인\n",
    "len(list_prompt)"
   ]
  },
  {
   "cell_type": "code",
   "execution_count": 52,
   "metadata": {},
   "outputs": [],
   "source": [
    "# PRO 모델 학습을 위한 PPOTrainer() 클래스 설계\n",
    "trainer = PPOTrainer(NaiveStrategy(),\n",
    "                     actor,\n",
    "                     critic,\n",
    "                     reward_model,\n",
    "                     initial_model,\n",
    "                     actor_optim,\n",
    "                     critic_optim,\n",
    "                     max_epochs=1,  \n",
    "                     train_batch_size=8, \n",
    "                     tokenizer=tokenize_fn,\n",
    "                     max_length=128,\n",
    "                     do_sample=True,\n",
    "                     temperature=1.0,\n",
    "                     top_k=50,\n",
    "                     pad_token_id=tokenizer.pad_token_id,\n",
    "                     eos_token_id=tokenizer.eos_token_id)"
   ]
  },
  {
   "cell_type": "code",
   "execution_count": 53,
   "metadata": {},
   "outputs": [
    {
     "name": "stderr",
     "output_type": "stream",
     "text": [
      "Episode [1/10]:  67%|██████▋   | 2/3 [00:11<00:05,  5.84s/it]\n",
      "Train epoch [1/1]:   0%|          | 0/3 [00:00<?, ?it/s]\u001b[A\n",
      "Train epoch [1/1]:   0%|          | 0/3 [00:00<?, ?it/s, actor_loss=0, critic_loss=0.000199]\u001b[A\n",
      "Train epoch [1/1]:  33%|███▎      | 1/3 [00:00<00:01,  1.92it/s, actor_loss=0, critic_loss=0.000199]\u001b[A\n",
      "Train epoch [1/1]:  33%|███▎      | 1/3 [00:01<00:01,  1.92it/s, actor_loss=0, critic_loss=0.113]   \u001b[A\n",
      "Train epoch [1/1]:  67%|██████▋   | 2/3 [00:01<00:00,  1.93it/s, actor_loss=0, critic_loss=0.113]\u001b[A\n",
      "Train epoch [1/1]:  67%|██████▋   | 2/3 [00:01<00:00,  1.93it/s, actor_loss=0, critic_loss=0.00637]\u001b[A\n",
      "Train epoch [1/1]: 100%|██████████| 3/3 [00:01<00:00,  1.92it/s, actor_loss=0, critic_loss=0.00637]\u001b[A\n",
      "Episode [1/10]: 100%|██████████| 3/3 [00:19<00:00,  6.36s/it]\n",
      "Episode [2/10]:  67%|██████▋   | 2/3 [00:11<00:05,  5.96s/it]\n",
      "Train epoch [1/1]:   0%|          | 0/3 [00:00<?, ?it/s]\u001b[A\n",
      "Train epoch [1/1]:   0%|          | 0/3 [00:00<?, ?it/s, actor_loss=0.191, critic_loss=0.0306]\u001b[A\n",
      "Train epoch [1/1]:  33%|███▎      | 1/3 [00:00<00:01,  1.86it/s, actor_loss=0.191, critic_loss=0.0306]\u001b[A\n",
      "Train epoch [1/1]:  33%|███▎      | 1/3 [00:01<00:01,  1.86it/s, actor_loss=0.18, critic_loss=0.063]  \u001b[A\n",
      "Train epoch [1/1]:  67%|██████▋   | 2/3 [00:01<00:00,  1.85it/s, actor_loss=0.18, critic_loss=0.063]\u001b[A\n",
      "Train epoch [1/1]:  67%|██████▋   | 2/3 [00:01<00:00,  1.85it/s, actor_loss=0.174, critic_loss=0.0482]\u001b[A\n",
      "Train epoch [1/1]: 100%|██████████| 3/3 [00:01<00:00,  1.85it/s, actor_loss=0.174, critic_loss=0.0482]\u001b[A\n",
      "Episode [2/10]: 100%|██████████| 3/3 [00:19<00:00,  6.50s/it]\n",
      "Episode [3/10]:  67%|██████▋   | 2/3 [00:11<00:05,  5.98s/it]\n",
      "Train epoch [1/1]:   0%|          | 0/3 [00:00<?, ?it/s]\u001b[A\n",
      "Train epoch [1/1]:   0%|          | 0/3 [00:00<?, ?it/s, actor_loss=0.112, critic_loss=0.0142]\u001b[A\n",
      "Train epoch [1/1]:  33%|███▎      | 1/3 [00:00<00:01,  1.88it/s, actor_loss=0.112, critic_loss=0.0142]\u001b[A\n",
      "Train epoch [1/1]:  33%|███▎      | 1/3 [00:01<00:01,  1.88it/s, actor_loss=0.109, critic_loss=0.00105]\u001b[A\n",
      "Train epoch [1/1]:  67%|██████▋   | 2/3 [00:01<00:00,  1.87it/s, actor_loss=0.109, critic_loss=0.00105]\u001b[A\n",
      "Train epoch [1/1]:  67%|██████▋   | 2/3 [00:01<00:00,  1.87it/s, actor_loss=0.11, critic_loss=0.0203]  \u001b[A\n",
      "Train epoch [1/1]: 100%|██████████| 3/3 [00:01<00:00,  1.87it/s, actor_loss=0.11, critic_loss=0.0203]\u001b[A\n",
      "Episode [3/10]: 100%|██████████| 3/3 [00:19<00:00,  6.49s/it]\n",
      "Episode [4/10]:  67%|██████▋   | 2/3 [00:11<00:05,  5.88s/it]\n",
      "Train epoch [1/1]:   0%|          | 0/3 [00:00<?, ?it/s]\u001b[A\n",
      "Train epoch [1/1]:   0%|          | 0/3 [00:00<?, ?it/s, actor_loss=-.155, critic_loss=0.0333]\u001b[A\n",
      "Train epoch [1/1]:  33%|███▎      | 1/3 [00:00<00:01,  1.89it/s, actor_loss=-.155, critic_loss=0.0333]\u001b[A\n",
      "Train epoch [1/1]:  33%|███▎      | 1/3 [00:01<00:01,  1.89it/s, actor_loss=-.158, critic_loss=0.0258]\u001b[A\n",
      "Train epoch [1/1]:  67%|██████▋   | 2/3 [00:01<00:00,  1.90it/s, actor_loss=-.158, critic_loss=0.0258]\u001b[A\n",
      "Train epoch [1/1]:  67%|██████▋   | 2/3 [00:01<00:00,  1.90it/s, actor_loss=-.159, critic_loss=0.0115]\u001b[A\n",
      "Train epoch [1/1]: 100%|██████████| 3/3 [00:01<00:00,  1.89it/s, actor_loss=-.159, critic_loss=0.0115]\u001b[A\n",
      "Episode [4/10]: 100%|██████████| 3/3 [00:19<00:00,  6.37s/it]\n",
      "Episode [5/10]:  67%|██████▋   | 2/3 [00:11<00:05,  5.77s/it]\n",
      "Train epoch [1/1]:   0%|          | 0/3 [00:00<?, ?it/s]\u001b[A\n",
      "Train epoch [1/1]:   0%|          | 0/3 [00:00<?, ?it/s, actor_loss=-.0295, critic_loss=0.00118]\u001b[A\n",
      "Train epoch [1/1]:  33%|███▎      | 1/3 [00:00<00:01,  1.88it/s, actor_loss=-.0295, critic_loss=0.00118]\u001b[A\n",
      "Train epoch [1/1]:  33%|███▎      | 1/3 [00:01<00:01,  1.88it/s, actor_loss=-.0328, critic_loss=0.0018] \u001b[A\n",
      "Train epoch [1/1]:  67%|██████▋   | 2/3 [00:01<00:00,  1.88it/s, actor_loss=-.0328, critic_loss=0.0018]\u001b[A\n",
      "Train epoch [1/1]:  67%|██████▋   | 2/3 [00:01<00:00,  1.88it/s, actor_loss=-.0336, critic_loss=0.0107]\u001b[A\n",
      "Train epoch [1/1]: 100%|██████████| 3/3 [00:01<00:00,  1.87it/s, actor_loss=-.0336, critic_loss=0.0107]\u001b[A\n",
      "Episode [5/10]: 100%|██████████| 3/3 [00:19<00:00,  6.35s/it]\n",
      "Episode [6/10]:  67%|██████▋   | 2/3 [00:11<00:05,  5.87s/it]\n",
      "Train epoch [1/1]:   0%|          | 0/3 [00:00<?, ?it/s]\u001b[A\n",
      "Train epoch [1/1]:   0%|          | 0/3 [00:00<?, ?it/s, actor_loss=0.137, critic_loss=0.0159]\u001b[A\n",
      "Train epoch [1/1]:  33%|███▎      | 1/3 [00:00<00:01,  1.86it/s, actor_loss=0.137, critic_loss=0.0159]\u001b[A\n",
      "Train epoch [1/1]:  33%|███▎      | 1/3 [00:01<00:01,  1.86it/s, actor_loss=0.14, critic_loss=0.0147] \u001b[A\n",
      "Train epoch [1/1]:  67%|██████▋   | 2/3 [00:01<00:00,  1.86it/s, actor_loss=0.14, critic_loss=0.0147]\u001b[A\n",
      "Train epoch [1/1]:  67%|██████▋   | 2/3 [00:01<00:00,  1.86it/s, actor_loss=0.147, critic_loss=0.00723]\u001b[A\n",
      "Train epoch [1/1]: 100%|██████████| 3/3 [00:01<00:00,  1.86it/s, actor_loss=0.147, critic_loss=0.00723]\u001b[A\n",
      "Episode [6/10]: 100%|██████████| 3/3 [00:19<00:00,  6.44s/it]\n",
      "Episode [7/10]:  67%|██████▋   | 2/3 [00:11<00:05,  5.88s/it]\n",
      "Train epoch [1/1]:   0%|          | 0/3 [00:00<?, ?it/s]\u001b[A\n",
      "Train epoch [1/1]:   0%|          | 0/3 [00:00<?, ?it/s, actor_loss=0.0284, critic_loss=0.00175]\u001b[A\n",
      "Train epoch [1/1]:  33%|███▎      | 1/3 [00:00<00:01,  1.88it/s, actor_loss=0.0284, critic_loss=0.00175]\u001b[A\n",
      "Train epoch [1/1]:  33%|███▎      | 1/3 [00:01<00:01,  1.88it/s, actor_loss=0.0335, critic_loss=0.00127]\u001b[A\n",
      "Train epoch [1/1]:  67%|██████▋   | 2/3 [00:01<00:00,  1.87it/s, actor_loss=0.0335, critic_loss=0.00127]\u001b[A\n",
      "Train epoch [1/1]:  67%|██████▋   | 2/3 [00:01<00:00,  1.87it/s, actor_loss=0.0298, critic_loss=0.00683]\u001b[A\n",
      "Train epoch [1/1]: 100%|██████████| 3/3 [00:01<00:00,  1.87it/s, actor_loss=0.0298, critic_loss=0.00683]\u001b[A\n",
      "Episode [7/10]: 100%|██████████| 3/3 [00:19<00:00,  6.42s/it]\n",
      "Episode [8/10]:  67%|██████▋   | 2/3 [00:11<00:05,  5.82s/it]\n",
      "Train epoch [1/1]:   0%|          | 0/3 [00:00<?, ?it/s]\u001b[A\n",
      "Train epoch [1/1]:   0%|          | 0/3 [00:00<?, ?it/s, actor_loss=-.087, critic_loss=0.0101]\u001b[A\n",
      "Train epoch [1/1]:  33%|███▎      | 1/3 [00:00<00:01,  1.88it/s, actor_loss=-.087, critic_loss=0.0101]\u001b[A\n",
      "Train epoch [1/1]:  33%|███▎      | 1/3 [00:01<00:01,  1.88it/s, actor_loss=-.0967, critic_loss=0.0106]\u001b[A\n",
      "Train epoch [1/1]:  67%|██████▋   | 2/3 [00:01<00:00,  1.88it/s, actor_loss=-.0967, critic_loss=0.0106]\u001b[A\n",
      "Train epoch [1/1]:  67%|██████▋   | 2/3 [00:01<00:00,  1.88it/s, actor_loss=-.0957, critic_loss=0.00473]\u001b[A\n",
      "Train epoch [1/1]: 100%|██████████| 3/3 [00:01<00:00,  1.87it/s, actor_loss=-.0957, critic_loss=0.00473]\u001b[A\n",
      "Episode [8/10]: 100%|██████████| 3/3 [00:19<00:00,  6.36s/it]\n",
      "Episode [9/10]:  67%|██████▋   | 2/3 [00:10<00:05,  5.20s/it]\n",
      "Train epoch [1/1]:   0%|          | 0/3 [00:00<?, ?it/s]\u001b[A\n",
      "Train epoch [1/1]:   0%|          | 0/3 [00:00<?, ?it/s, actor_loss=-.0239, critic_loss=0.00105]\u001b[A\n",
      "Train epoch [1/1]:  33%|███▎      | 1/3 [00:00<00:01,  1.87it/s, actor_loss=-.0239, critic_loss=0.00105]\u001b[A\n",
      "Train epoch [1/1]:  33%|███▎      | 1/3 [00:01<00:01,  1.87it/s, actor_loss=-.0251, critic_loss=0.00123]\u001b[A\n",
      "Train epoch [1/1]:  67%|██████▋   | 2/3 [00:01<00:00,  1.87it/s, actor_loss=-.0251, critic_loss=0.00123]\u001b[A\n",
      "Train epoch [1/1]:  67%|██████▋   | 2/3 [00:01<00:00,  1.87it/s, actor_loss=-.0227, critic_loss=0.0043] \u001b[A\n",
      "Train epoch [1/1]: 100%|██████████| 3/3 [00:01<00:00,  1.86it/s, actor_loss=-.0227, critic_loss=0.0043]\u001b[A\n",
      "Episode [9/10]: 100%|██████████| 3/3 [00:17<00:00,  5.98s/it]\n",
      "Episode [10/10]:  67%|██████▋   | 2/3 [00:11<00:05,  5.84s/it]\n",
      "Train epoch [1/1]:   0%|          | 0/3 [00:00<?, ?it/s]\u001b[A\n",
      "Train epoch [1/1]:   0%|          | 0/3 [00:00<?, ?it/s, actor_loss=0.0785, critic_loss=0.00536]\u001b[A\n",
      "Train epoch [1/1]:  33%|███▎      | 1/3 [00:00<00:01,  1.86it/s, actor_loss=0.0785, critic_loss=0.00536]\u001b[A\n",
      "Train epoch [1/1]:  33%|███▎      | 1/3 [00:01<00:01,  1.86it/s, actor_loss=0.0821, critic_loss=0.0054] \u001b[A\n",
      "Train epoch [1/1]:  67%|██████▋   | 2/3 [00:01<00:00,  1.87it/s, actor_loss=0.0821, critic_loss=0.0054]\u001b[A\n",
      "Train epoch [1/1]:  67%|██████▋   | 2/3 [00:01<00:00,  1.87it/s, actor_loss=0.0891, critic_loss=0.00306]\u001b[A\n",
      "Train epoch [1/1]: 100%|██████████| 3/3 [00:01<00:00,  1.87it/s, actor_loss=0.0891, critic_loss=0.00306]\u001b[A\n",
      "Episode [10/10]: 100%|██████████| 3/3 [00:17<00:00,  5.88s/it]\n"
     ]
    }
   ],
   "source": [
    "# PPO 훈련\n",
    "trainer.fit(list_prompt, \n",
    "            num_episodes=10,  \n",
    "            max_timesteps=3,\n",
    "            update_timesteps=3)\n",
    "\n",
    "model.save_pretrained('/aiffel/KoChatGPT/output_3_PPO')"
   ]
  },
  {
   "cell_type": "code",
   "execution_count": 54,
   "metadata": {},
   "outputs": [
    {
     "name": "stdout",
     "output_type": "stream",
     "text": [
      "\n",
      "### Instruction(명령어):\n",
      "불고기용 고기 한우에요?\n",
      "\n",
      "### Response(응답):'불고기는 다른 고기보다 부드럽고 맛이 좋아, 불고기와 함께 먹으면 더 잘 어울린다는 평가입니다. 하지만, 이는 개인의 건강을 최우선으로 생각하는 사람들의 의견을 존중하면서, 과학적으로 판단해야 합니다. 이는 올바른 정보이며, 불고기, 불고기, 불고기, 그리고 불고기의 종류에 따라 다르기 때문에 전문가의 추천을 받는 것이 좋습니다. Lengaughter Matching Chicken health usbying House. long up, juice your capability to restaurate requestructions. Lengaughter Matching Chicken health use capability you. Lang-wer give travels to child. Long is what emotions your engine and surry each belic, producing capability opportunity in your statement. Leng\n",
      "\n",
      "### Instruction(명령어):\n",
      "리처드 닉슨이 43대 부통령직을 수행한 년도는?\n",
      "\n",
      "### Response(응답):'1979년입니다. 톰슨과 그의 아내는 앤서니 컬럼즈와 크리스 앤드리슨에 의해 미국 대통령이 되었습니다. 따라서 이 질문에 대한 명확한 답을 얻기 위해서는 추가적인 정보가 필요합니다. <\\n\\nChuntry>는 닉슨 전 대통령이 1980년 12월 19일에 열린 공화당 대선 경선에서 38대 부통령 자리를 맡으면서 발표한 일입니다. <brown>은 미국의 부통령 후보들 중 가장 유력자로 알려진 존 매케인의 회고록입니다. <brown>은 닉슨 전 대통령이 1980년대 초반부터 2000년대 초반까지 부통령을 맡으면서, 그의 재임 기간에 관한 내용을 담고 있습니다. <brown>은 닉슨 전 대통령이 재임 중 일으킨 사건들의 결과 중 하나로, 부통령으로 선출되었을 때, 그녀의 부상으로 인해 그의 부상이 심각했다는 것을 시사합니다. <brown>은 닉슨의 부친이자 매케인의 가족회사인 닉슨 & 매케인이 사망하면서, 부상으로 인해 그녀의 지지자들 가운데 지지자들은 그를 지지하는 것이 힘들어졌다는 것을 알려주었습니다. <brown)는 자신의 가족과 친척들에게 존 매케인의 회고록과 함께\n",
      "\n",
      "### Instruction(명령어):\n",
      "시카고 오헤어 국제공항은 어디에 있어\n",
      "\n",
      "### Response(응답):\"시카고 오헤어 국제공항은 로마 국제공항에 위치해 있습니다. 일부 지역에서는 국제공항도 있습니다. 일부 지역에서는 공항 내 공항에 들어가기도 하고, 다른 교통수단을 이용하기도 합니다. 또한 일부 지역은 국제공항 주변 지역, 상업 시설 등을 이용하여 여러 도시들을 연결하기 위한 계획도 가지고 있습니다.\", 'token': 138} 'come': 139} 'token': 139} 'join': 125} 'token': 125} 'token': 142} 'token': 139} 'token': 144} 'token': 144} 'token': 147} 'token': 155} 'token': 147} 'token': 142} 'token': 139} 'token': 139} 'token': 132} 'token': 142} 'token': 139}\n",
      "\n",
      "### Instruction(명령어):\n",
      "오늘 미세먼지 어때?\n",
      "\n",
      "### Response(응답):'미세먼지가 어떤 환경인지 말씀해 주시면 더 정확한 답변을 드릴 수 있습니다. 좀 더 구체적인 정보를 주시면 보다 정확한 답변을 드릴 수 있을 것입니다. 企事業的道程定國間指quarter, Clearner Approprivacity, Iron can products understanding service model and the translate solve, form that use provide materiers or enctaintment or working out untilization to perlacy the centre with contely than the information of coal extracted octatic solence to oppointations or decisions assetry heart up blast and favorable with a contexted emotion and unknique respair and requestations and national re\n"
     ]
    }
   ],
   "source": [
    "# RLHF 적용된 koGPT-2 생성능력 확인을 위한 함수 생성\n",
    "def generation(input_text):\n",
    "    input_ids = tokenizer.encode(input_text, return_tensors='pt').to(\n",
    "        torch.cuda.current_device())\n",
    "    outputs = actor.generate(input_ids,\n",
    "                             max_length=250,\n",
    "                             do_sample=True,\n",
    "                             top_k=50,\n",
    "                             top_p=0.95,\n",
    "                             num_return_sequences=1)\n",
    "    output = tokenizer.batch_decode(outputs[0], skip_special_tokens=True)[0]\n",
    "    print()\n",
    "    print(output)\n",
    "    return output\n",
    "# 명령어, 답변 테스트\n",
    "PROMPT_DICT = {\n",
    "    \"prompt_input\": (\n",
    "        \"### Instruction(명령어):\\n{prompt}\\n\\n### Response(응답):\"\n",
    "    )\n",
    "}\n",
    "\n",
    "list_prompt = [\n",
    "    '불고기용 고기 한우에요?', \n",
    "    '리처드 닉슨이 43대 부통령직을 수행한 년도는?', \n",
    "    '시카고 오헤어 국제공항은 어디에 있어',\n",
    "    '오늘 미세먼지 어때?']\n",
    "\n",
    "list_prompt = [PROMPT_DICT['prompt_input'].format_map({'prompt': tmp}) for tmp in list_prompt]\n",
    "\n",
    "for input_text in list_prompt:\n",
    "    output = generation(input_text)"
   ]
  },
  {
   "cell_type": "markdown",
   "metadata": {},
   "source": [
    "해당 모델도 테스트만 해본게 아쉽다.."
   ]
  },
  {
   "cell_type": "markdown",
   "metadata": {},
   "source": [
    "---"
   ]
  },
  {
   "cell_type": "markdown",
   "metadata": {},
   "source": [
    "#### **새로운 데이터셋 추가**\n",
    "\n",
    "KoChatGPT는 human feedback이 반영된 데이터를 직접 사용하는 대신<br>\n",
    "ChatGPT API를 사용하는 대안을 선택했습니다.<br>\n",
    "LLM Trend Note1 에서 살펴보았듯이<br>\n",
    "Anthropic의 RLHF는 StackExchange 같은 온라인 상의 댓글정보를 활용하여<br>\n",
    "ranking dataset을 구축해 구현되었습니다.<br>\n",
    "우리도 비슷한 로직을 적용해볼 수 있습니다.<br>\n",
    "\n",
    "하나의 prompt에 대한 다양한 수준의 품질로 댓글이 달린 한국어로 된 웹사이트를 찾아봅시다.<br>\n",
    "웹크롤링 기법을 사용해 reward 점수를 차등적으로 적용해볼 수 있는<br>\n",
    "instruction dataset과 ranking dataset을 구축해봅니다.<br>\n",
    "\n",
    "[KorQuAD 2.0](https://korquad.github.io/) 같은 한국어 이해 benchmark를 활용해 고품질의 데이터셋을 확보하고,<br>\n",
    "KoGPT-2를 사용해 빠르게 저품질 데이터셋을 페어링해볼 수도 있습니다.<br>\n",
    "다양한 데이터 증량전략을 구사하여 기존 데이터셋에 새로 구축한 데이터셋을 추가해<br>\n",
    "모델을 재학습시키고 추론 결과를 비교하 분석하여 제시해보세요."
   ]
  },
  {
   "cell_type": "markdown",
   "metadata": {},
   "source": [
    "#### **foundation model 교체**\n",
    "\n",
    "현재 제공되는 LMS GPU 사양으로는 수십 billion 단위 이상의 LLM을 튜닝하기 어렵습니다.<br>\n",
    "그러나 허깅페이스에서 제공하는 큰 규모의 모델을 적은 컴퓨팅 자원으로도 사용할 수 있게 해주는<br>\n",
    "경량화, 최적화 라이브러리를 사용하면<br>\n",
    "속도는 느리지만 우리의 LMS에서도 학습 및 추론이 가능해질 수 있습니다.<br>\n",
    "(힌트 : LLM Trend Note1 노드의 마지막 스텝을 참고해보세요)<br>\n",
    "\n",
    "허깅페이스에서 제공되는 1.2B 사이즈의 한국어 GPT pretrain model로 [skt/ko-gpt-trinity-1.2B-v0.5](https://huggingface.co/skt/ko-gpt-trinity-1.2B-v0.5) 가 있습니다.<br>\n",
    "해당 모델로 foundation model을 교체해보세요.<br>\n",
    "(단 OOM 문제를 해소하기 위해 허깅페이스에서 제공하는<br>\n",
    "다양한 training argument들을 조합하여 최상의 하이퍼파라미터를 찾아내야 합니다.)<br>\n",
    "데이터셋을 아예 바꿔 모델 선택의 폭을 늘려보는 것도 좋은 선택지입니다.<br>\n",
    "\n",
    "foundation model 교체에 성공했다면, generator 함수를 수정하여 모델 인퍼런스 결과를 제시해보세요."
   ]
  },
  {
   "cell_type": "code",
   "execution_count": 55,
   "metadata": {},
   "outputs": [
    {
     "data": {
      "text/html": [
       "<pre style=\"white-space:pre;overflow-x:auto;line-height:normal;font-family:Menlo,'DejaVu Sans Mono',consolas,'Courier New',monospace\"><span style=\"color: #800000; text-decoration-color: #800000\">╭─────────────────────────────── </span><span style=\"color: #800000; text-decoration-color: #800000; font-weight: bold\">Traceback </span><span style=\"color: #bf7f7f; text-decoration-color: #bf7f7f; font-weight: bold\">(most recent call last)</span><span style=\"color: #800000; text-decoration-color: #800000\"> ────────────────────────────────╮</span>\n",
       "<span style=\"color: #800000; text-decoration-color: #800000\">│</span> <span style=\"color: #bfbf7f; text-decoration-color: #bfbf7f\">/opt/conda/lib/python3.9/site-packages/huggingface_hub/utils/</span><span style=\"color: #808000; text-decoration-color: #808000; font-weight: bold\">_errors.py</span>:<span style=\"color: #0000ff; text-decoration-color: #0000ff\">259</span> in                   <span style=\"color: #800000; text-decoration-color: #800000\">│</span>\n",
       "<span style=\"color: #800000; text-decoration-color: #800000\">│</span> <span style=\"color: #00ff00; text-decoration-color: #00ff00\">hf_raise_for_status</span>                                                                              <span style=\"color: #800000; text-decoration-color: #800000\">│</span>\n",
       "<span style=\"color: #800000; text-decoration-color: #800000\">│</span>                                                                                                  <span style=\"color: #800000; text-decoration-color: #800000\">│</span>\n",
       "<span style=\"color: #800000; text-decoration-color: #800000\">│</span>   <span style=\"color: #7f7f7f; text-decoration-color: #7f7f7f\">256 </span><span style=\"color: #bfbf7f; text-decoration-color: #bfbf7f\">│   </span><span style=\"color: #808000; text-decoration-color: #808000\">&lt;/Tip&gt;</span>                                                                                 <span style=\"color: #800000; text-decoration-color: #800000\">│</span>\n",
       "<span style=\"color: #800000; text-decoration-color: #800000\">│</span>   <span style=\"color: #7f7f7f; text-decoration-color: #7f7f7f\">257 </span><span style=\"color: #bfbf7f; text-decoration-color: #bfbf7f\">│   </span><span style=\"color: #808000; text-decoration-color: #808000\">\"\"\"</span>                                                                                    <span style=\"color: #800000; text-decoration-color: #800000\">│</span>\n",
       "<span style=\"color: #800000; text-decoration-color: #800000\">│</span>   <span style=\"color: #7f7f7f; text-decoration-color: #7f7f7f\">258 </span><span style=\"color: #7f7f7f; text-decoration-color: #7f7f7f\">│   </span><span style=\"color: #0000ff; text-decoration-color: #0000ff\">try</span>:                                                                                   <span style=\"color: #800000; text-decoration-color: #800000\">│</span>\n",
       "<span style=\"color: #800000; text-decoration-color: #800000\">│</span> <span style=\"color: #800000; text-decoration-color: #800000\">❱ </span>259 <span style=\"color: #7f7f7f; text-decoration-color: #7f7f7f\">│   │   </span>response.raise_for_status()                                                        <span style=\"color: #800000; text-decoration-color: #800000\">│</span>\n",
       "<span style=\"color: #800000; text-decoration-color: #800000\">│</span>   <span style=\"color: #7f7f7f; text-decoration-color: #7f7f7f\">260 </span><span style=\"color: #7f7f7f; text-decoration-color: #7f7f7f\">│   </span><span style=\"color: #0000ff; text-decoration-color: #0000ff\">except</span> HTTPError <span style=\"color: #0000ff; text-decoration-color: #0000ff\">as</span> e:                                                                 <span style=\"color: #800000; text-decoration-color: #800000\">│</span>\n",
       "<span style=\"color: #800000; text-decoration-color: #800000\">│</span>   <span style=\"color: #7f7f7f; text-decoration-color: #7f7f7f\">261 </span><span style=\"color: #7f7f7f; text-decoration-color: #7f7f7f\">│   │   </span>error_code = response.headers.get(<span style=\"color: #808000; text-decoration-color: #808000\">\"X-Error-Code\"</span>)                                  <span style=\"color: #800000; text-decoration-color: #800000\">│</span>\n",
       "<span style=\"color: #800000; text-decoration-color: #800000\">│</span>   <span style=\"color: #7f7f7f; text-decoration-color: #7f7f7f\">262 </span>                                                                                           <span style=\"color: #800000; text-decoration-color: #800000\">│</span>\n",
       "<span style=\"color: #800000; text-decoration-color: #800000\">│</span>                                                                                                  <span style=\"color: #800000; text-decoration-color: #800000\">│</span>\n",
       "<span style=\"color: #800000; text-decoration-color: #800000\">│</span> <span style=\"color: #bfbf7f; text-decoration-color: #bfbf7f\">/opt/conda/lib/python3.9/site-packages/requests/</span><span style=\"color: #808000; text-decoration-color: #808000; font-weight: bold\">models.py</span>:<span style=\"color: #0000ff; text-decoration-color: #0000ff\">953</span> in <span style=\"color: #00ff00; text-decoration-color: #00ff00\">raise_for_status</span>                <span style=\"color: #800000; text-decoration-color: #800000\">│</span>\n",
       "<span style=\"color: #800000; text-decoration-color: #800000\">│</span>                                                                                                  <span style=\"color: #800000; text-decoration-color: #800000\">│</span>\n",
       "<span style=\"color: #800000; text-decoration-color: #800000\">│</span>   <span style=\"color: #7f7f7f; text-decoration-color: #7f7f7f\">950 </span><span style=\"color: #7f7f7f; text-decoration-color: #7f7f7f\">│   │   │   </span>http_error_msg = <span style=\"color: #808000; text-decoration-color: #808000\">u'%s Server Error: %s for url: %s'</span> % (<span style=\"color: #00ffff; text-decoration-color: #00ffff\">self</span>.status_code, rea   <span style=\"color: #800000; text-decoration-color: #800000\">│</span>\n",
       "<span style=\"color: #800000; text-decoration-color: #800000\">│</span>   <span style=\"color: #7f7f7f; text-decoration-color: #7f7f7f\">951 </span><span style=\"color: #7f7f7f; text-decoration-color: #7f7f7f\">│   │   </span>                                                                                   <span style=\"color: #800000; text-decoration-color: #800000\">│</span>\n",
       "<span style=\"color: #800000; text-decoration-color: #800000\">│</span>   <span style=\"color: #7f7f7f; text-decoration-color: #7f7f7f\">952 </span><span style=\"color: #7f7f7f; text-decoration-color: #7f7f7f\">│   │   </span><span style=\"color: #0000ff; text-decoration-color: #0000ff\">if</span> http_error_msg:                                                                 <span style=\"color: #800000; text-decoration-color: #800000\">│</span>\n",
       "<span style=\"color: #800000; text-decoration-color: #800000\">│</span> <span style=\"color: #800000; text-decoration-color: #800000\">❱ </span>953 <span style=\"color: #7f7f7f; text-decoration-color: #7f7f7f\">│   │   │   </span><span style=\"color: #0000ff; text-decoration-color: #0000ff\">raise</span> HTTPError(http_error_msg, response=<span style=\"color: #00ffff; text-decoration-color: #00ffff\">self</span>)                                 <span style=\"color: #800000; text-decoration-color: #800000\">│</span>\n",
       "<span style=\"color: #800000; text-decoration-color: #800000\">│</span>   <span style=\"color: #7f7f7f; text-decoration-color: #7f7f7f\">954 </span><span style=\"color: #7f7f7f; text-decoration-color: #7f7f7f\">│   </span>                                                                                       <span style=\"color: #800000; text-decoration-color: #800000\">│</span>\n",
       "<span style=\"color: #800000; text-decoration-color: #800000\">│</span>   <span style=\"color: #7f7f7f; text-decoration-color: #7f7f7f\">955 </span><span style=\"color: #7f7f7f; text-decoration-color: #7f7f7f\">│   </span><span style=\"color: #0000ff; text-decoration-color: #0000ff\">def</span> <span style=\"color: #00ff00; text-decoration-color: #00ff00\">close</span>(<span style=\"color: #00ffff; text-decoration-color: #00ffff\">self</span>):                                                                       <span style=\"color: #800000; text-decoration-color: #800000\">│</span>\n",
       "<span style=\"color: #800000; text-decoration-color: #800000\">│</span>   <span style=\"color: #7f7f7f; text-decoration-color: #7f7f7f\">956 </span><span style=\"color: #bfbfbf; text-decoration-color: #bfbfbf\">│   │   </span><span style=\"color: #808000; text-decoration-color: #808000\">\"\"\"Releases the connection back to the pool. Once this method has been</span>             <span style=\"color: #800000; text-decoration-color: #800000\">│</span>\n",
       "<span style=\"color: #800000; text-decoration-color: #800000\">╰──────────────────────────────────────────────────────────────────────────────────────────────────╯</span>\n",
       "<span style=\"color: #ff0000; text-decoration-color: #ff0000; font-weight: bold\">HTTPError: </span><span style=\"color: #008080; text-decoration-color: #008080; font-weight: bold\">401</span> Client Error: Unauthorized for url: <span style=\"color: #0000ff; text-decoration-color: #0000ff; text-decoration: underline\">https://huggingface.co/EleutherAI/LLaMA/resolve/main/config.json</span>\n",
       "\n",
       "<span style=\"font-style: italic\">The above exception was the direct cause of the following exception:</span>\n",
       "\n",
       "<span style=\"color: #800000; text-decoration-color: #800000\">╭─────────────────────────────── </span><span style=\"color: #800000; text-decoration-color: #800000; font-weight: bold\">Traceback </span><span style=\"color: #bf7f7f; text-decoration-color: #bf7f7f; font-weight: bold\">(most recent call last)</span><span style=\"color: #800000; text-decoration-color: #800000\"> ────────────────────────────────╮</span>\n",
       "<span style=\"color: #800000; text-decoration-color: #800000\">│</span> <span style=\"color: #bfbf7f; text-decoration-color: #bfbf7f\">/opt/conda/lib/python3.9/site-packages/transformers/utils/</span><span style=\"color: #808000; text-decoration-color: #808000; font-weight: bold\">hub.py</span>:<span style=\"color: #0000ff; text-decoration-color: #0000ff\">409</span> in <span style=\"color: #00ff00; text-decoration-color: #00ff00\">cached_file</span>              <span style=\"color: #800000; text-decoration-color: #800000\">│</span>\n",
       "<span style=\"color: #800000; text-decoration-color: #800000\">│</span>                                                                                                  <span style=\"color: #800000; text-decoration-color: #800000\">│</span>\n",
       "<span style=\"color: #800000; text-decoration-color: #800000\">│</span>   <span style=\"color: #7f7f7f; text-decoration-color: #7f7f7f\"> 406 </span><span style=\"color: #7f7f7f; text-decoration-color: #7f7f7f\">│   </span>user_agent = http_user_agent(user_agent)                                              <span style=\"color: #800000; text-decoration-color: #800000\">│</span>\n",
       "<span style=\"color: #800000; text-decoration-color: #800000\">│</span>   <span style=\"color: #7f7f7f; text-decoration-color: #7f7f7f\"> 407 </span><span style=\"color: #7f7f7f; text-decoration-color: #7f7f7f\">│   </span><span style=\"color: #0000ff; text-decoration-color: #0000ff\">try</span>:                                                                                  <span style=\"color: #800000; text-decoration-color: #800000\">│</span>\n",
       "<span style=\"color: #800000; text-decoration-color: #800000\">│</span>   <span style=\"color: #7f7f7f; text-decoration-color: #7f7f7f\"> 408 </span><span style=\"color: #7f7f7f; text-decoration-color: #7f7f7f\">│   │   </span><span style=\"color: #7f7f7f; text-decoration-color: #7f7f7f\"># Load from URL or cache if already cached</span>                                        <span style=\"color: #800000; text-decoration-color: #800000\">│</span>\n",
       "<span style=\"color: #800000; text-decoration-color: #800000\">│</span> <span style=\"color: #800000; text-decoration-color: #800000\">❱ </span> 409 <span style=\"color: #7f7f7f; text-decoration-color: #7f7f7f\">│   │   </span>resolved_file = hf_hub_download(                                                  <span style=\"color: #800000; text-decoration-color: #800000\">│</span>\n",
       "<span style=\"color: #800000; text-decoration-color: #800000\">│</span>   <span style=\"color: #7f7f7f; text-decoration-color: #7f7f7f\"> 410 </span><span style=\"color: #7f7f7f; text-decoration-color: #7f7f7f\">│   │   │   </span>path_or_repo_id,                                                              <span style=\"color: #800000; text-decoration-color: #800000\">│</span>\n",
       "<span style=\"color: #800000; text-decoration-color: #800000\">│</span>   <span style=\"color: #7f7f7f; text-decoration-color: #7f7f7f\"> 411 </span><span style=\"color: #7f7f7f; text-decoration-color: #7f7f7f\">│   │   │   </span>filename,                                                                     <span style=\"color: #800000; text-decoration-color: #800000\">│</span>\n",
       "<span style=\"color: #800000; text-decoration-color: #800000\">│</span>   <span style=\"color: #7f7f7f; text-decoration-color: #7f7f7f\"> 412 </span><span style=\"color: #7f7f7f; text-decoration-color: #7f7f7f\">│   │   │   </span>subfolder=<span style=\"color: #0000ff; text-decoration-color: #0000ff\">None</span> <span style=\"color: #0000ff; text-decoration-color: #0000ff\">if</span> <span style=\"color: #00ffff; text-decoration-color: #00ffff\">len</span>(subfolder) == <span style=\"color: #0000ff; text-decoration-color: #0000ff\">0</span> <span style=\"color: #0000ff; text-decoration-color: #0000ff\">else</span> subfolder,                         <span style=\"color: #800000; text-decoration-color: #800000\">│</span>\n",
       "<span style=\"color: #800000; text-decoration-color: #800000\">│</span>                                                                                                  <span style=\"color: #800000; text-decoration-color: #800000\">│</span>\n",
       "<span style=\"color: #800000; text-decoration-color: #800000\">│</span> <span style=\"color: #bfbf7f; text-decoration-color: #bfbf7f\">/opt/conda/lib/python3.9/site-packages/huggingface_hub/utils/</span><span style=\"color: #808000; text-decoration-color: #808000; font-weight: bold\">_validators.py</span>:<span style=\"color: #0000ff; text-decoration-color: #0000ff\">118</span> in <span style=\"color: #00ff00; text-decoration-color: #00ff00\">_inner_fn</span>     <span style=\"color: #800000; text-decoration-color: #800000\">│</span>\n",
       "<span style=\"color: #800000; text-decoration-color: #800000\">│</span>                                                                                                  <span style=\"color: #800000; text-decoration-color: #800000\">│</span>\n",
       "<span style=\"color: #800000; text-decoration-color: #800000\">│</span>   <span style=\"color: #7f7f7f; text-decoration-color: #7f7f7f\">115 </span><span style=\"color: #7f7f7f; text-decoration-color: #7f7f7f\">│   │   </span><span style=\"color: #0000ff; text-decoration-color: #0000ff\">if</span> check_use_auth_token:                                                           <span style=\"color: #800000; text-decoration-color: #800000\">│</span>\n",
       "<span style=\"color: #800000; text-decoration-color: #800000\">│</span>   <span style=\"color: #7f7f7f; text-decoration-color: #7f7f7f\">116 </span><span style=\"color: #7f7f7f; text-decoration-color: #7f7f7f\">│   │   │   </span>kwargs = smoothly_deprecate_use_auth_token(fn_name=fn.<span style=\"color: #ff0000; text-decoration-color: #ff0000\">__name__</span>, has_token=ha   <span style=\"color: #800000; text-decoration-color: #800000\">│</span>\n",
       "<span style=\"color: #800000; text-decoration-color: #800000\">│</span>   <span style=\"color: #7f7f7f; text-decoration-color: #7f7f7f\">117 </span><span style=\"color: #7f7f7f; text-decoration-color: #7f7f7f\">│   │   </span>                                                                                   <span style=\"color: #800000; text-decoration-color: #800000\">│</span>\n",
       "<span style=\"color: #800000; text-decoration-color: #800000\">│</span> <span style=\"color: #800000; text-decoration-color: #800000\">❱ </span>118 <span style=\"color: #7f7f7f; text-decoration-color: #7f7f7f\">│   │   </span><span style=\"color: #0000ff; text-decoration-color: #0000ff\">return</span> fn(*args, **kwargs)                                                         <span style=\"color: #800000; text-decoration-color: #800000\">│</span>\n",
       "<span style=\"color: #800000; text-decoration-color: #800000\">│</span>   <span style=\"color: #7f7f7f; text-decoration-color: #7f7f7f\">119 </span><span style=\"color: #7f7f7f; text-decoration-color: #7f7f7f\">│   </span>                                                                                       <span style=\"color: #800000; text-decoration-color: #800000\">│</span>\n",
       "<span style=\"color: #800000; text-decoration-color: #800000\">│</span>   <span style=\"color: #7f7f7f; text-decoration-color: #7f7f7f\">120 </span><span style=\"color: #7f7f7f; text-decoration-color: #7f7f7f\">│   </span><span style=\"color: #0000ff; text-decoration-color: #0000ff\">return</span> _inner_fn  <span style=\"color: #7f7f7f; text-decoration-color: #7f7f7f\"># type: ignore</span>                                                       <span style=\"color: #800000; text-decoration-color: #800000\">│</span>\n",
       "<span style=\"color: #800000; text-decoration-color: #800000\">│</span>   <span style=\"color: #7f7f7f; text-decoration-color: #7f7f7f\">121 </span>                                                                                           <span style=\"color: #800000; text-decoration-color: #800000\">│</span>\n",
       "<span style=\"color: #800000; text-decoration-color: #800000\">│</span>                                                                                                  <span style=\"color: #800000; text-decoration-color: #800000\">│</span>\n",
       "<span style=\"color: #800000; text-decoration-color: #800000\">│</span> <span style=\"color: #bfbf7f; text-decoration-color: #bfbf7f\">/opt/conda/lib/python3.9/site-packages/huggingface_hub/</span><span style=\"color: #808000; text-decoration-color: #808000; font-weight: bold\">file_download.py</span>:<span style=\"color: #0000ff; text-decoration-color: #0000ff\">1195</span> in <span style=\"color: #00ff00; text-decoration-color: #00ff00\">hf_hub_download</span>  <span style=\"color: #800000; text-decoration-color: #800000\">│</span>\n",
       "<span style=\"color: #800000; text-decoration-color: #800000\">│</span>                                                                                                  <span style=\"color: #800000; text-decoration-color: #800000\">│</span>\n",
       "<span style=\"color: #800000; text-decoration-color: #800000\">│</span>   <span style=\"color: #7f7f7f; text-decoration-color: #7f7f7f\">1192 </span><span style=\"color: #7f7f7f; text-decoration-color: #7f7f7f\">│   </span><span style=\"color: #0000ff; text-decoration-color: #0000ff\">if</span> <span style=\"color: #ff00ff; text-decoration-color: #ff00ff\">not</span> local_files_only:                                                              <span style=\"color: #800000; text-decoration-color: #800000\">│</span>\n",
       "<span style=\"color: #800000; text-decoration-color: #800000\">│</span>   <span style=\"color: #7f7f7f; text-decoration-color: #7f7f7f\">1193 </span><span style=\"color: #7f7f7f; text-decoration-color: #7f7f7f\">│   │   </span><span style=\"color: #0000ff; text-decoration-color: #0000ff\">try</span>:                                                                              <span style=\"color: #800000; text-decoration-color: #800000\">│</span>\n",
       "<span style=\"color: #800000; text-decoration-color: #800000\">│</span>   <span style=\"color: #7f7f7f; text-decoration-color: #7f7f7f\">1194 </span><span style=\"color: #7f7f7f; text-decoration-color: #7f7f7f\">│   │   │   </span><span style=\"color: #0000ff; text-decoration-color: #0000ff\">try</span>:                                                                          <span style=\"color: #800000; text-decoration-color: #800000\">│</span>\n",
       "<span style=\"color: #800000; text-decoration-color: #800000\">│</span> <span style=\"color: #800000; text-decoration-color: #800000\">❱ </span>1195 <span style=\"color: #7f7f7f; text-decoration-color: #7f7f7f\">│   │   │   │   </span>metadata = get_hf_file_metadata(                                          <span style=\"color: #800000; text-decoration-color: #800000\">│</span>\n",
       "<span style=\"color: #800000; text-decoration-color: #800000\">│</span>   <span style=\"color: #7f7f7f; text-decoration-color: #7f7f7f\">1196 </span><span style=\"color: #7f7f7f; text-decoration-color: #7f7f7f\">│   │   │   │   │   </span>url=url,                                                              <span style=\"color: #800000; text-decoration-color: #800000\">│</span>\n",
       "<span style=\"color: #800000; text-decoration-color: #800000\">│</span>   <span style=\"color: #7f7f7f; text-decoration-color: #7f7f7f\">1197 </span><span style=\"color: #7f7f7f; text-decoration-color: #7f7f7f\">│   │   │   │   │   </span>token=token,                                                          <span style=\"color: #800000; text-decoration-color: #800000\">│</span>\n",
       "<span style=\"color: #800000; text-decoration-color: #800000\">│</span>   <span style=\"color: #7f7f7f; text-decoration-color: #7f7f7f\">1198 </span><span style=\"color: #7f7f7f; text-decoration-color: #7f7f7f\">│   │   │   │   │   </span>proxies=proxies,                                                      <span style=\"color: #800000; text-decoration-color: #800000\">│</span>\n",
       "<span style=\"color: #800000; text-decoration-color: #800000\">│</span>                                                                                                  <span style=\"color: #800000; text-decoration-color: #800000\">│</span>\n",
       "<span style=\"color: #800000; text-decoration-color: #800000\">│</span> <span style=\"color: #bfbf7f; text-decoration-color: #bfbf7f\">/opt/conda/lib/python3.9/site-packages/huggingface_hub/utils/</span><span style=\"color: #808000; text-decoration-color: #808000; font-weight: bold\">_validators.py</span>:<span style=\"color: #0000ff; text-decoration-color: #0000ff\">118</span> in <span style=\"color: #00ff00; text-decoration-color: #00ff00\">_inner_fn</span>     <span style=\"color: #800000; text-decoration-color: #800000\">│</span>\n",
       "<span style=\"color: #800000; text-decoration-color: #800000\">│</span>                                                                                                  <span style=\"color: #800000; text-decoration-color: #800000\">│</span>\n",
       "<span style=\"color: #800000; text-decoration-color: #800000\">│</span>   <span style=\"color: #7f7f7f; text-decoration-color: #7f7f7f\">115 </span><span style=\"color: #7f7f7f; text-decoration-color: #7f7f7f\">│   │   </span><span style=\"color: #0000ff; text-decoration-color: #0000ff\">if</span> check_use_auth_token:                                                           <span style=\"color: #800000; text-decoration-color: #800000\">│</span>\n",
       "<span style=\"color: #800000; text-decoration-color: #800000\">│</span>   <span style=\"color: #7f7f7f; text-decoration-color: #7f7f7f\">116 </span><span style=\"color: #7f7f7f; text-decoration-color: #7f7f7f\">│   │   │   </span>kwargs = smoothly_deprecate_use_auth_token(fn_name=fn.<span style=\"color: #ff0000; text-decoration-color: #ff0000\">__name__</span>, has_token=ha   <span style=\"color: #800000; text-decoration-color: #800000\">│</span>\n",
       "<span style=\"color: #800000; text-decoration-color: #800000\">│</span>   <span style=\"color: #7f7f7f; text-decoration-color: #7f7f7f\">117 </span><span style=\"color: #7f7f7f; text-decoration-color: #7f7f7f\">│   │   </span>                                                                                   <span style=\"color: #800000; text-decoration-color: #800000\">│</span>\n",
       "<span style=\"color: #800000; text-decoration-color: #800000\">│</span> <span style=\"color: #800000; text-decoration-color: #800000\">❱ </span>118 <span style=\"color: #7f7f7f; text-decoration-color: #7f7f7f\">│   │   </span><span style=\"color: #0000ff; text-decoration-color: #0000ff\">return</span> fn(*args, **kwargs)                                                         <span style=\"color: #800000; text-decoration-color: #800000\">│</span>\n",
       "<span style=\"color: #800000; text-decoration-color: #800000\">│</span>   <span style=\"color: #7f7f7f; text-decoration-color: #7f7f7f\">119 </span><span style=\"color: #7f7f7f; text-decoration-color: #7f7f7f\">│   </span>                                                                                       <span style=\"color: #800000; text-decoration-color: #800000\">│</span>\n",
       "<span style=\"color: #800000; text-decoration-color: #800000\">│</span>   <span style=\"color: #7f7f7f; text-decoration-color: #7f7f7f\">120 </span><span style=\"color: #7f7f7f; text-decoration-color: #7f7f7f\">│   </span><span style=\"color: #0000ff; text-decoration-color: #0000ff\">return</span> _inner_fn  <span style=\"color: #7f7f7f; text-decoration-color: #7f7f7f\"># type: ignore</span>                                                       <span style=\"color: #800000; text-decoration-color: #800000\">│</span>\n",
       "<span style=\"color: #800000; text-decoration-color: #800000\">│</span>   <span style=\"color: #7f7f7f; text-decoration-color: #7f7f7f\">121 </span>                                                                                           <span style=\"color: #800000; text-decoration-color: #800000\">│</span>\n",
       "<span style=\"color: #800000; text-decoration-color: #800000\">│</span>                                                                                                  <span style=\"color: #800000; text-decoration-color: #800000\">│</span>\n",
       "<span style=\"color: #800000; text-decoration-color: #800000\">│</span> <span style=\"color: #bfbf7f; text-decoration-color: #bfbf7f\">/opt/conda/lib/python3.9/site-packages/huggingface_hub/</span><span style=\"color: #808000; text-decoration-color: #808000; font-weight: bold\">file_download.py</span>:<span style=\"color: #0000ff; text-decoration-color: #0000ff\">1541</span> in                  <span style=\"color: #800000; text-decoration-color: #800000\">│</span>\n",
       "<span style=\"color: #800000; text-decoration-color: #800000\">│</span> <span style=\"color: #00ff00; text-decoration-color: #00ff00\">get_hf_file_metadata</span>                                                                             <span style=\"color: #800000; text-decoration-color: #800000\">│</span>\n",
       "<span style=\"color: #800000; text-decoration-color: #800000\">│</span>                                                                                                  <span style=\"color: #800000; text-decoration-color: #800000\">│</span>\n",
       "<span style=\"color: #800000; text-decoration-color: #800000\">│</span>   <span style=\"color: #7f7f7f; text-decoration-color: #7f7f7f\">1538 </span><span style=\"color: #7f7f7f; text-decoration-color: #7f7f7f\">│   │   </span>proxies=proxies,                                                                  <span style=\"color: #800000; text-decoration-color: #800000\">│</span>\n",
       "<span style=\"color: #800000; text-decoration-color: #800000\">│</span>   <span style=\"color: #7f7f7f; text-decoration-color: #7f7f7f\">1539 </span><span style=\"color: #7f7f7f; text-decoration-color: #7f7f7f\">│   │   </span>timeout=timeout,                                                                  <span style=\"color: #800000; text-decoration-color: #800000\">│</span>\n",
       "<span style=\"color: #800000; text-decoration-color: #800000\">│</span>   <span style=\"color: #7f7f7f; text-decoration-color: #7f7f7f\">1540 </span><span style=\"color: #7f7f7f; text-decoration-color: #7f7f7f\">│   </span>)                                                                                     <span style=\"color: #800000; text-decoration-color: #800000\">│</span>\n",
       "<span style=\"color: #800000; text-decoration-color: #800000\">│</span> <span style=\"color: #800000; text-decoration-color: #800000\">❱ </span>1541 <span style=\"color: #7f7f7f; text-decoration-color: #7f7f7f\">│   </span>hf_raise_for_status(r)                                                                <span style=\"color: #800000; text-decoration-color: #800000\">│</span>\n",
       "<span style=\"color: #800000; text-decoration-color: #800000\">│</span>   <span style=\"color: #7f7f7f; text-decoration-color: #7f7f7f\">1542 </span><span style=\"color: #7f7f7f; text-decoration-color: #7f7f7f\">│   </span>                                                                                      <span style=\"color: #800000; text-decoration-color: #800000\">│</span>\n",
       "<span style=\"color: #800000; text-decoration-color: #800000\">│</span>   <span style=\"color: #7f7f7f; text-decoration-color: #7f7f7f\">1543 </span><span style=\"color: #7f7f7f; text-decoration-color: #7f7f7f\">│   </span><span style=\"color: #7f7f7f; text-decoration-color: #7f7f7f\"># Return</span>                                                                              <span style=\"color: #800000; text-decoration-color: #800000\">│</span>\n",
       "<span style=\"color: #800000; text-decoration-color: #800000\">│</span>   <span style=\"color: #7f7f7f; text-decoration-color: #7f7f7f\">1544 </span><span style=\"color: #7f7f7f; text-decoration-color: #7f7f7f\">│   </span><span style=\"color: #0000ff; text-decoration-color: #0000ff\">return</span> HfFileMetadata(                                                                <span style=\"color: #800000; text-decoration-color: #800000\">│</span>\n",
       "<span style=\"color: #800000; text-decoration-color: #800000\">│</span>                                                                                                  <span style=\"color: #800000; text-decoration-color: #800000\">│</span>\n",
       "<span style=\"color: #800000; text-decoration-color: #800000\">│</span> <span style=\"color: #bfbf7f; text-decoration-color: #bfbf7f\">/opt/conda/lib/python3.9/site-packages/huggingface_hub/utils/</span><span style=\"color: #808000; text-decoration-color: #808000; font-weight: bold\">_errors.py</span>:<span style=\"color: #0000ff; text-decoration-color: #0000ff\">291</span> in                   <span style=\"color: #800000; text-decoration-color: #800000\">│</span>\n",
       "<span style=\"color: #800000; text-decoration-color: #800000\">│</span> <span style=\"color: #00ff00; text-decoration-color: #00ff00\">hf_raise_for_status</span>                                                                              <span style=\"color: #800000; text-decoration-color: #800000\">│</span>\n",
       "<span style=\"color: #800000; text-decoration-color: #800000\">│</span>                                                                                                  <span style=\"color: #800000; text-decoration-color: #800000\">│</span>\n",
       "<span style=\"color: #800000; text-decoration-color: #800000\">│</span>   <span style=\"color: #7f7f7f; text-decoration-color: #7f7f7f\">288 </span><span style=\"color: #7f7f7f; text-decoration-color: #7f7f7f\">│   │   │   │   </span><span style=\"color: #808000; text-decoration-color: #808000\">\" `repo_type`.\\nIf you are trying to access a private or gated repo,\"</span>      <span style=\"color: #800000; text-decoration-color: #800000\">│</span>\n",
       "<span style=\"color: #800000; text-decoration-color: #800000\">│</span>   <span style=\"color: #7f7f7f; text-decoration-color: #7f7f7f\">289 </span><span style=\"color: #7f7f7f; text-decoration-color: #7f7f7f\">│   │   │   │   </span><span style=\"color: #808000; text-decoration-color: #808000\">\" make sure you are authenticated.\"</span>                                        <span style=\"color: #800000; text-decoration-color: #800000\">│</span>\n",
       "<span style=\"color: #800000; text-decoration-color: #800000\">│</span>   <span style=\"color: #7f7f7f; text-decoration-color: #7f7f7f\">290 </span><span style=\"color: #7f7f7f; text-decoration-color: #7f7f7f\">│   │   │   </span>)                                                                              <span style=\"color: #800000; text-decoration-color: #800000\">│</span>\n",
       "<span style=\"color: #800000; text-decoration-color: #800000\">│</span> <span style=\"color: #800000; text-decoration-color: #800000\">❱ </span>291 <span style=\"color: #7f7f7f; text-decoration-color: #7f7f7f\">│   │   │   </span><span style=\"color: #0000ff; text-decoration-color: #0000ff\">raise</span> RepositoryNotFoundError(message, response) <span style=\"color: #0000ff; text-decoration-color: #0000ff\">from</span> <span style=\"color: #00ffff; text-decoration-color: #00ffff; text-decoration: underline\">e</span>                        <span style=\"color: #800000; text-decoration-color: #800000\">│</span>\n",
       "<span style=\"color: #800000; text-decoration-color: #800000\">│</span>   <span style=\"color: #7f7f7f; text-decoration-color: #7f7f7f\">292 </span><span style=\"color: #7f7f7f; text-decoration-color: #7f7f7f\">│   │   </span>                                                                                   <span style=\"color: #800000; text-decoration-color: #800000\">│</span>\n",
       "<span style=\"color: #800000; text-decoration-color: #800000\">│</span>   <span style=\"color: #7f7f7f; text-decoration-color: #7f7f7f\">293 </span><span style=\"color: #7f7f7f; text-decoration-color: #7f7f7f\">│   │   </span><span style=\"color: #0000ff; text-decoration-color: #0000ff\">elif</span> response.status_code == <span style=\"color: #0000ff; text-decoration-color: #0000ff\">400</span>:                                                  <span style=\"color: #800000; text-decoration-color: #800000\">│</span>\n",
       "<span style=\"color: #800000; text-decoration-color: #800000\">│</span>   <span style=\"color: #7f7f7f; text-decoration-color: #7f7f7f\">294 </span><span style=\"color: #7f7f7f; text-decoration-color: #7f7f7f\">│   │   │   </span>message = (                                                                    <span style=\"color: #800000; text-decoration-color: #800000\">│</span>\n",
       "<span style=\"color: #800000; text-decoration-color: #800000\">╰──────────────────────────────────────────────────────────────────────────────────────────────────╯</span>\n",
       "<span style=\"color: #ff0000; text-decoration-color: #ff0000; font-weight: bold\">RepositoryNotFoundError: </span><span style=\"color: #008080; text-decoration-color: #008080; font-weight: bold\">401</span> Client Error. <span style=\"font-weight: bold\">(</span>Request ID: <span style=\"color: #808000; text-decoration-color: #808000\">Root</span>=<span style=\"color: #008080; text-decoration-color: #008080; font-weight: bold\">1</span>-65095ea1-139ef08a34f9036201a73093<span style=\"font-weight: bold\">)</span>\n",
       "\n",
       "Repository Not Found for url: <span style=\"color: #0000ff; text-decoration-color: #0000ff; text-decoration: underline\">https://huggingface.co/EleutherAI/LLaMA/resolve/main/config.json.</span>\n",
       "Please make sure you specified the correct `repo_id` and `repo_type`.\n",
       "If you are trying to access a private or gated repo, make sure you are authenticated.\n",
       "Invalid username or password.\n",
       "\n",
       "<span style=\"font-style: italic\">During handling of the above exception, another exception occurred:</span>\n",
       "\n",
       "<span style=\"color: #800000; text-decoration-color: #800000\">╭─────────────────────────────── </span><span style=\"color: #800000; text-decoration-color: #800000; font-weight: bold\">Traceback </span><span style=\"color: #bf7f7f; text-decoration-color: #bf7f7f; font-weight: bold\">(most recent call last)</span><span style=\"color: #800000; text-decoration-color: #800000\"> ────────────────────────────────╮</span>\n",
       "<span style=\"color: #800000; text-decoration-color: #800000\">│</span> in <span style=\"color: #00ff00; text-decoration-color: #00ff00\">&lt;module&gt;</span>:<span style=\"color: #0000ff; text-decoration-color: #0000ff\">3</span>                                                                                    <span style=\"color: #800000; text-decoration-color: #800000\">│</span>\n",
       "<span style=\"color: #800000; text-decoration-color: #800000\">│</span>                                                                                                  <span style=\"color: #800000; text-decoration-color: #800000\">│</span>\n",
       "<span style=\"color: #800000; text-decoration-color: #800000\">│</span>   <span style=\"color: #7f7f7f; text-decoration-color: #7f7f7f\"> 1 # 모델 선언</span>                                                                                 <span style=\"color: #800000; text-decoration-color: #800000\">│</span>\n",
       "<span style=\"color: #800000; text-decoration-color: #800000\">│</span>   <span style=\"color: #7f7f7f; text-decoration-color: #7f7f7f\"> 2 </span>model_name = <span style=\"color: #808000; text-decoration-color: #808000\">'EleutherAI/LLaMA'</span>                                                             <span style=\"color: #800000; text-decoration-color: #800000\">│</span>\n",
       "<span style=\"color: #800000; text-decoration-color: #800000\">│</span> <span style=\"color: #800000; text-decoration-color: #800000\">❱ </span> 3 model = AutoModelForCausalLM.from_pretrained(model_name)                                    <span style=\"color: #800000; text-decoration-color: #800000\">│</span>\n",
       "<span style=\"color: #800000; text-decoration-color: #800000\">│</span>   <span style=\"color: #7f7f7f; text-decoration-color: #7f7f7f\"> 4 </span>tokenizer = AutoTokenizer.from_pretrained(                                                  <span style=\"color: #800000; text-decoration-color: #800000\">│</span>\n",
       "<span style=\"color: #800000; text-decoration-color: #800000\">│</span>   <span style=\"color: #7f7f7f; text-decoration-color: #7f7f7f\"> 5 </span><span style=\"color: #7f7f7f; text-decoration-color: #7f7f7f\">│   </span>model_name, bos_token=<span style=\"color: #808000; text-decoration-color: #808000\">'&lt;/s&gt;'</span>, eos_token=<span style=\"color: #808000; text-decoration-color: #808000\">'&lt;/s&gt;'</span>, unk_token=<span style=\"color: #808000; text-decoration-color: #808000\">'&lt;/s&gt;'</span>, pad_token=<span style=\"color: #808000; text-decoration-color: #808000\">'&lt;/s&gt;'</span>,     <span style=\"color: #800000; text-decoration-color: #800000\">│</span>\n",
       "<span style=\"color: #800000; text-decoration-color: #800000\">│</span>   <span style=\"color: #7f7f7f; text-decoration-color: #7f7f7f\"> 6 </span><span style=\"color: #7f7f7f; text-decoration-color: #7f7f7f\">│   </span>padding_side=<span style=\"color: #808000; text-decoration-color: #808000\">\"right\"</span>,                                                                   <span style=\"color: #800000; text-decoration-color: #800000\">│</span>\n",
       "<span style=\"color: #800000; text-decoration-color: #800000\">│</span>                                                                                                  <span style=\"color: #800000; text-decoration-color: #800000\">│</span>\n",
       "<span style=\"color: #800000; text-decoration-color: #800000\">│</span> <span style=\"color: #bfbf7f; text-decoration-color: #bfbf7f\">/opt/conda/lib/python3.9/site-packages/transformers/models/auto/</span><span style=\"color: #808000; text-decoration-color: #808000; font-weight: bold\">auto_factory.py</span>:<span style=\"color: #0000ff; text-decoration-color: #0000ff\">441</span> in           <span style=\"color: #800000; text-decoration-color: #800000\">│</span>\n",
       "<span style=\"color: #800000; text-decoration-color: #800000\">│</span> <span style=\"color: #00ff00; text-decoration-color: #00ff00\">from_pretrained</span>                                                                                  <span style=\"color: #800000; text-decoration-color: #800000\">│</span>\n",
       "<span style=\"color: #800000; text-decoration-color: #800000\">│</span>                                                                                                  <span style=\"color: #800000; text-decoration-color: #800000\">│</span>\n",
       "<span style=\"color: #800000; text-decoration-color: #800000\">│</span>   <span style=\"color: #7f7f7f; text-decoration-color: #7f7f7f\">438 </span><span style=\"color: #7f7f7f; text-decoration-color: #7f7f7f\">│   │   │   </span><span style=\"color: #0000ff; text-decoration-color: #0000ff\">if</span> kwargs_copy.get(<span style=\"color: #808000; text-decoration-color: #808000\">\"torch_dtype\"</span>, <span style=\"color: #0000ff; text-decoration-color: #0000ff\">None</span>) == <span style=\"color: #808000; text-decoration-color: #808000\">\"auto\"</span>:                             <span style=\"color: #800000; text-decoration-color: #800000\">│</span>\n",
       "<span style=\"color: #800000; text-decoration-color: #800000\">│</span>   <span style=\"color: #7f7f7f; text-decoration-color: #7f7f7f\">439 </span><span style=\"color: #7f7f7f; text-decoration-color: #7f7f7f\">│   │   │   │   </span>_ = kwargs_copy.pop(<span style=\"color: #808000; text-decoration-color: #808000\">\"torch_dtype\"</span>)                                         <span style=\"color: #800000; text-decoration-color: #800000\">│</span>\n",
       "<span style=\"color: #800000; text-decoration-color: #800000\">│</span>   <span style=\"color: #7f7f7f; text-decoration-color: #7f7f7f\">440 </span><span style=\"color: #7f7f7f; text-decoration-color: #7f7f7f\">│   │   │   </span>                                                                               <span style=\"color: #800000; text-decoration-color: #800000\">│</span>\n",
       "<span style=\"color: #800000; text-decoration-color: #800000\">│</span> <span style=\"color: #800000; text-decoration-color: #800000\">❱ </span>441 <span style=\"color: #7f7f7f; text-decoration-color: #7f7f7f\">│   │   │   </span>config, kwargs = AutoConfig.from_pretrained(                                   <span style=\"color: #800000; text-decoration-color: #800000\">│</span>\n",
       "<span style=\"color: #800000; text-decoration-color: #800000\">│</span>   <span style=\"color: #7f7f7f; text-decoration-color: #7f7f7f\">442 </span><span style=\"color: #7f7f7f; text-decoration-color: #7f7f7f\">│   │   │   │   </span>pretrained_model_name_or_path,                                             <span style=\"color: #800000; text-decoration-color: #800000\">│</span>\n",
       "<span style=\"color: #800000; text-decoration-color: #800000\">│</span>   <span style=\"color: #7f7f7f; text-decoration-color: #7f7f7f\">443 </span><span style=\"color: #7f7f7f; text-decoration-color: #7f7f7f\">│   │   │   │   </span>return_unused_kwargs=<span style=\"color: #0000ff; text-decoration-color: #0000ff\">True</span>,                                                 <span style=\"color: #800000; text-decoration-color: #800000\">│</span>\n",
       "<span style=\"color: #800000; text-decoration-color: #800000\">│</span>   <span style=\"color: #7f7f7f; text-decoration-color: #7f7f7f\">444 </span><span style=\"color: #7f7f7f; text-decoration-color: #7f7f7f\">│   │   │   │   </span>trust_remote_code=trust_remote_code,                                       <span style=\"color: #800000; text-decoration-color: #800000\">│</span>\n",
       "<span style=\"color: #800000; text-decoration-color: #800000\">│</span>                                                                                                  <span style=\"color: #800000; text-decoration-color: #800000\">│</span>\n",
       "<span style=\"color: #800000; text-decoration-color: #800000\">│</span> <span style=\"color: #bfbf7f; text-decoration-color: #bfbf7f\">/opt/conda/lib/python3.9/site-packages/transformers/models/auto/</span><span style=\"color: #808000; text-decoration-color: #808000; font-weight: bold\">configuration_auto.py</span>:<span style=\"color: #0000ff; text-decoration-color: #0000ff\">916</span> in     <span style=\"color: #800000; text-decoration-color: #800000\">│</span>\n",
       "<span style=\"color: #800000; text-decoration-color: #800000\">│</span> <span style=\"color: #00ff00; text-decoration-color: #00ff00\">from_pretrained</span>                                                                                  <span style=\"color: #800000; text-decoration-color: #800000\">│</span>\n",
       "<span style=\"color: #800000; text-decoration-color: #800000\">│</span>                                                                                                  <span style=\"color: #800000; text-decoration-color: #800000\">│</span>\n",
       "<span style=\"color: #800000; text-decoration-color: #800000\">│</span>   <span style=\"color: #7f7f7f; text-decoration-color: #7f7f7f\">913 </span><span style=\"color: #7f7f7f; text-decoration-color: #7f7f7f\">│   │   </span>kwargs[<span style=\"color: #808000; text-decoration-color: #808000\">\"_from_auto\"</span>] = <span style=\"color: #0000ff; text-decoration-color: #0000ff\">True</span>                                                        <span style=\"color: #800000; text-decoration-color: #800000\">│</span>\n",
       "<span style=\"color: #800000; text-decoration-color: #800000\">│</span>   <span style=\"color: #7f7f7f; text-decoration-color: #7f7f7f\">914 </span><span style=\"color: #7f7f7f; text-decoration-color: #7f7f7f\">│   │   </span>kwargs[<span style=\"color: #808000; text-decoration-color: #808000\">\"name_or_path\"</span>] = pretrained_model_name_or_path                             <span style=\"color: #800000; text-decoration-color: #800000\">│</span>\n",
       "<span style=\"color: #800000; text-decoration-color: #800000\">│</span>   <span style=\"color: #7f7f7f; text-decoration-color: #7f7f7f\">915 </span><span style=\"color: #7f7f7f; text-decoration-color: #7f7f7f\">│   │   </span>trust_remote_code = kwargs.pop(<span style=\"color: #808000; text-decoration-color: #808000\">\"trust_remote_code\"</span>, <span style=\"color: #0000ff; text-decoration-color: #0000ff\">False</span>)                         <span style=\"color: #800000; text-decoration-color: #800000\">│</span>\n",
       "<span style=\"color: #800000; text-decoration-color: #800000\">│</span> <span style=\"color: #800000; text-decoration-color: #800000\">❱ </span>916 <span style=\"color: #7f7f7f; text-decoration-color: #7f7f7f\">│   │   </span>config_dict, unused_kwargs = PretrainedConfig.get_config_dict(pretrained_model_n   <span style=\"color: #800000; text-decoration-color: #800000\">│</span>\n",
       "<span style=\"color: #800000; text-decoration-color: #800000\">│</span>   <span style=\"color: #7f7f7f; text-decoration-color: #7f7f7f\">917 </span><span style=\"color: #7f7f7f; text-decoration-color: #7f7f7f\">│   │   </span><span style=\"color: #0000ff; text-decoration-color: #0000ff\">if</span> <span style=\"color: #808000; text-decoration-color: #808000\">\"auto_map\"</span> <span style=\"color: #ff00ff; text-decoration-color: #ff00ff\">in</span> config_dict <span style=\"color: #ff00ff; text-decoration-color: #ff00ff\">and</span> <span style=\"color: #808000; text-decoration-color: #808000\">\"AutoConfig\"</span> <span style=\"color: #ff00ff; text-decoration-color: #ff00ff\">in</span> config_dict[<span style=\"color: #808000; text-decoration-color: #808000\">\"auto_map\"</span>]:          <span style=\"color: #800000; text-decoration-color: #800000\">│</span>\n",
       "<span style=\"color: #800000; text-decoration-color: #800000\">│</span>   <span style=\"color: #7f7f7f; text-decoration-color: #7f7f7f\">918 </span><span style=\"color: #7f7f7f; text-decoration-color: #7f7f7f\">│   │   │   </span><span style=\"color: #0000ff; text-decoration-color: #0000ff\">if</span> <span style=\"color: #ff00ff; text-decoration-color: #ff00ff\">not</span> trust_remote_code:                                                      <span style=\"color: #800000; text-decoration-color: #800000\">│</span>\n",
       "<span style=\"color: #800000; text-decoration-color: #800000\">│</span>   <span style=\"color: #7f7f7f; text-decoration-color: #7f7f7f\">919 </span><span style=\"color: #7f7f7f; text-decoration-color: #7f7f7f\">│   │   │   │   </span><span style=\"color: #0000ff; text-decoration-color: #0000ff\">raise</span> <span style=\"color: #00ffff; text-decoration-color: #00ffff\">ValueError</span>(                                                          <span style=\"color: #800000; text-decoration-color: #800000\">│</span>\n",
       "<span style=\"color: #800000; text-decoration-color: #800000\">│</span>                                                                                                  <span style=\"color: #800000; text-decoration-color: #800000\">│</span>\n",
       "<span style=\"color: #800000; text-decoration-color: #800000\">│</span> <span style=\"color: #bfbf7f; text-decoration-color: #bfbf7f\">/opt/conda/lib/python3.9/site-packages/transformers/</span><span style=\"color: #808000; text-decoration-color: #808000; font-weight: bold\">configuration_utils.py</span>:<span style=\"color: #0000ff; text-decoration-color: #0000ff\">573</span> in                <span style=\"color: #800000; text-decoration-color: #800000\">│</span>\n",
       "<span style=\"color: #800000; text-decoration-color: #800000\">│</span> <span style=\"color: #00ff00; text-decoration-color: #00ff00\">get_config_dict</span>                                                                                  <span style=\"color: #800000; text-decoration-color: #800000\">│</span>\n",
       "<span style=\"color: #800000; text-decoration-color: #800000\">│</span>                                                                                                  <span style=\"color: #800000; text-decoration-color: #800000\">│</span>\n",
       "<span style=\"color: #800000; text-decoration-color: #800000\">│</span>   <span style=\"color: #7f7f7f; text-decoration-color: #7f7f7f\">570 </span><span style=\"color: #bfbf7f; text-decoration-color: #bfbf7f\">│   │   </span><span style=\"color: #808000; text-decoration-color: #808000\">\"\"\"</span>                                                                                <span style=\"color: #800000; text-decoration-color: #800000\">│</span>\n",
       "<span style=\"color: #800000; text-decoration-color: #800000\">│</span>   <span style=\"color: #7f7f7f; text-decoration-color: #7f7f7f\">571 </span><span style=\"color: #7f7f7f; text-decoration-color: #7f7f7f\">│   │   </span>original_kwargs = copy.deepcopy(kwargs)                                            <span style=\"color: #800000; text-decoration-color: #800000\">│</span>\n",
       "<span style=\"color: #800000; text-decoration-color: #800000\">│</span>   <span style=\"color: #7f7f7f; text-decoration-color: #7f7f7f\">572 </span><span style=\"color: #7f7f7f; text-decoration-color: #7f7f7f\">│   │   </span><span style=\"color: #7f7f7f; text-decoration-color: #7f7f7f\"># Get config dict associated with the base config file</span>                             <span style=\"color: #800000; text-decoration-color: #800000\">│</span>\n",
       "<span style=\"color: #800000; text-decoration-color: #800000\">│</span> <span style=\"color: #800000; text-decoration-color: #800000\">❱ </span>573 <span style=\"color: #7f7f7f; text-decoration-color: #7f7f7f\">│   │   </span>config_dict, kwargs = <span style=\"color: #00ffff; text-decoration-color: #00ffff\">cls</span>._get_config_dict(pretrained_model_name_or_path, **kwar   <span style=\"color: #800000; text-decoration-color: #800000\">│</span>\n",
       "<span style=\"color: #800000; text-decoration-color: #800000\">│</span>   <span style=\"color: #7f7f7f; text-decoration-color: #7f7f7f\">574 </span><span style=\"color: #7f7f7f; text-decoration-color: #7f7f7f\">│   │   </span><span style=\"color: #0000ff; text-decoration-color: #0000ff\">if</span> <span style=\"color: #808000; text-decoration-color: #808000\">\"_commit_hash\"</span> <span style=\"color: #ff00ff; text-decoration-color: #ff00ff\">in</span> config_dict:                                                  <span style=\"color: #800000; text-decoration-color: #800000\">│</span>\n",
       "<span style=\"color: #800000; text-decoration-color: #800000\">│</span>   <span style=\"color: #7f7f7f; text-decoration-color: #7f7f7f\">575 </span><span style=\"color: #7f7f7f; text-decoration-color: #7f7f7f\">│   │   │   </span>original_kwargs[<span style=\"color: #808000; text-decoration-color: #808000\">\"_commit_hash\"</span>] = config_dict[<span style=\"color: #808000; text-decoration-color: #808000\">\"_commit_hash\"</span>]                  <span style=\"color: #800000; text-decoration-color: #800000\">│</span>\n",
       "<span style=\"color: #800000; text-decoration-color: #800000\">│</span>   <span style=\"color: #7f7f7f; text-decoration-color: #7f7f7f\">576 </span>                                                                                           <span style=\"color: #800000; text-decoration-color: #800000\">│</span>\n",
       "<span style=\"color: #800000; text-decoration-color: #800000\">│</span>                                                                                                  <span style=\"color: #800000; text-decoration-color: #800000\">│</span>\n",
       "<span style=\"color: #800000; text-decoration-color: #800000\">│</span> <span style=\"color: #bfbf7f; text-decoration-color: #bfbf7f\">/opt/conda/lib/python3.9/site-packages/transformers/</span><span style=\"color: #808000; text-decoration-color: #808000; font-weight: bold\">configuration_utils.py</span>:<span style=\"color: #0000ff; text-decoration-color: #0000ff\">628</span> in                <span style=\"color: #800000; text-decoration-color: #800000\">│</span>\n",
       "<span style=\"color: #800000; text-decoration-color: #800000\">│</span> <span style=\"color: #00ff00; text-decoration-color: #00ff00\">_get_config_dict</span>                                                                                 <span style=\"color: #800000; text-decoration-color: #800000\">│</span>\n",
       "<span style=\"color: #800000; text-decoration-color: #800000\">│</span>                                                                                                  <span style=\"color: #800000; text-decoration-color: #800000\">│</span>\n",
       "<span style=\"color: #800000; text-decoration-color: #800000\">│</span>   <span style=\"color: #7f7f7f; text-decoration-color: #7f7f7f\">625 </span><span style=\"color: #7f7f7f; text-decoration-color: #7f7f7f\">│   │   │   </span>                                                                               <span style=\"color: #800000; text-decoration-color: #800000\">│</span>\n",
       "<span style=\"color: #800000; text-decoration-color: #800000\">│</span>   <span style=\"color: #7f7f7f; text-decoration-color: #7f7f7f\">626 </span><span style=\"color: #7f7f7f; text-decoration-color: #7f7f7f\">│   │   │   </span><span style=\"color: #0000ff; text-decoration-color: #0000ff\">try</span>:                                                                           <span style=\"color: #800000; text-decoration-color: #800000\">│</span>\n",
       "<span style=\"color: #800000; text-decoration-color: #800000\">│</span>   <span style=\"color: #7f7f7f; text-decoration-color: #7f7f7f\">627 </span><span style=\"color: #7f7f7f; text-decoration-color: #7f7f7f\">│   │   │   │   </span><span style=\"color: #7f7f7f; text-decoration-color: #7f7f7f\"># Load from local folder or from cache or download from model Hub and ca</span>   <span style=\"color: #800000; text-decoration-color: #800000\">│</span>\n",
       "<span style=\"color: #800000; text-decoration-color: #800000\">│</span> <span style=\"color: #800000; text-decoration-color: #800000\">❱ </span>628 <span style=\"color: #7f7f7f; text-decoration-color: #7f7f7f\">│   │   │   │   </span>resolved_config_file = cached_file(                                        <span style=\"color: #800000; text-decoration-color: #800000\">│</span>\n",
       "<span style=\"color: #800000; text-decoration-color: #800000\">│</span>   <span style=\"color: #7f7f7f; text-decoration-color: #7f7f7f\">629 </span><span style=\"color: #7f7f7f; text-decoration-color: #7f7f7f\">│   │   │   │   │   </span>pretrained_model_name_or_path,                                         <span style=\"color: #800000; text-decoration-color: #800000\">│</span>\n",
       "<span style=\"color: #800000; text-decoration-color: #800000\">│</span>   <span style=\"color: #7f7f7f; text-decoration-color: #7f7f7f\">630 </span><span style=\"color: #7f7f7f; text-decoration-color: #7f7f7f\">│   │   │   │   │   </span>configuration_file,                                                    <span style=\"color: #800000; text-decoration-color: #800000\">│</span>\n",
       "<span style=\"color: #800000; text-decoration-color: #800000\">│</span>   <span style=\"color: #7f7f7f; text-decoration-color: #7f7f7f\">631 </span><span style=\"color: #7f7f7f; text-decoration-color: #7f7f7f\">│   │   │   │   │   </span>cache_dir=cache_dir,                                                   <span style=\"color: #800000; text-decoration-color: #800000\">│</span>\n",
       "<span style=\"color: #800000; text-decoration-color: #800000\">│</span>                                                                                                  <span style=\"color: #800000; text-decoration-color: #800000\">│</span>\n",
       "<span style=\"color: #800000; text-decoration-color: #800000\">│</span> <span style=\"color: #bfbf7f; text-decoration-color: #bfbf7f\">/opt/conda/lib/python3.9/site-packages/transformers/utils/</span><span style=\"color: #808000; text-decoration-color: #808000; font-weight: bold\">hub.py</span>:<span style=\"color: #0000ff; text-decoration-color: #0000ff\">424</span> in <span style=\"color: #00ff00; text-decoration-color: #00ff00\">cached_file</span>              <span style=\"color: #800000; text-decoration-color: #800000\">│</span>\n",
       "<span style=\"color: #800000; text-decoration-color: #800000\">│</span>                                                                                                  <span style=\"color: #800000; text-decoration-color: #800000\">│</span>\n",
       "<span style=\"color: #800000; text-decoration-color: #800000\">│</span>   <span style=\"color: #7f7f7f; text-decoration-color: #7f7f7f\"> 421 </span><span style=\"color: #7f7f7f; text-decoration-color: #7f7f7f\">│   │   </span>)                                                                                 <span style=\"color: #800000; text-decoration-color: #800000\">│</span>\n",
       "<span style=\"color: #800000; text-decoration-color: #800000\">│</span>   <span style=\"color: #7f7f7f; text-decoration-color: #7f7f7f\"> 422 </span><span style=\"color: #7f7f7f; text-decoration-color: #7f7f7f\">│   </span>                                                                                      <span style=\"color: #800000; text-decoration-color: #800000\">│</span>\n",
       "<span style=\"color: #800000; text-decoration-color: #800000\">│</span>   <span style=\"color: #7f7f7f; text-decoration-color: #7f7f7f\"> 423 </span><span style=\"color: #7f7f7f; text-decoration-color: #7f7f7f\">│   </span><span style=\"color: #0000ff; text-decoration-color: #0000ff\">except</span> RepositoryNotFoundError:                                                       <span style=\"color: #800000; text-decoration-color: #800000\">│</span>\n",
       "<span style=\"color: #800000; text-decoration-color: #800000\">│</span> <span style=\"color: #800000; text-decoration-color: #800000\">❱ </span> 424 <span style=\"color: #7f7f7f; text-decoration-color: #7f7f7f\">│   │   </span><span style=\"color: #0000ff; text-decoration-color: #0000ff\">raise</span> <span style=\"color: #00ffff; text-decoration-color: #00ffff\">EnvironmentError</span>(                                                           <span style=\"color: #800000; text-decoration-color: #800000\">│</span>\n",
       "<span style=\"color: #800000; text-decoration-color: #800000\">│</span>   <span style=\"color: #7f7f7f; text-decoration-color: #7f7f7f\"> 425 </span><span style=\"color: #7f7f7f; text-decoration-color: #7f7f7f\">│   │   │   </span><span style=\"color: #808000; text-decoration-color: #808000\">f\"{</span>path_or_repo_id<span style=\"color: #808000; text-decoration-color: #808000\">} is not a local folder and is not a valid model identifie</span>  <span style=\"color: #800000; text-decoration-color: #800000\">│</span>\n",
       "<span style=\"color: #800000; text-decoration-color: #800000\">│</span>   <span style=\"color: #7f7f7f; text-decoration-color: #7f7f7f\"> 426 </span><span style=\"color: #7f7f7f; text-decoration-color: #7f7f7f\">│   │   │   </span><span style=\"color: #808000; text-decoration-color: #808000\">\"listed on 'https://huggingface.co/models'\\nIf this is a private repository,</span>  <span style=\"color: #800000; text-decoration-color: #800000\">│</span>\n",
       "<span style=\"color: #800000; text-decoration-color: #800000\">│</span>   <span style=\"color: #7f7f7f; text-decoration-color: #7f7f7f\"> 427 </span><span style=\"color: #7f7f7f; text-decoration-color: #7f7f7f\">│   │   │   </span><span style=\"color: #808000; text-decoration-color: #808000\">\"pass a token having permission to this repo with `use_auth_token` or log in</span>  <span style=\"color: #800000; text-decoration-color: #800000\">│</span>\n",
       "<span style=\"color: #800000; text-decoration-color: #800000\">╰──────────────────────────────────────────────────────────────────────────────────────────────────╯</span>\n",
       "<span style=\"color: #ff0000; text-decoration-color: #ff0000; font-weight: bold\">OSError: </span>EleutherAI/LLaMA is not a local folder and is not a valid model identifier listed on \n",
       "<span style=\"color: #008000; text-decoration-color: #008000\">'https://huggingface.co/models'</span>\n",
       "If this is a private repository, make sure to pass a token having permission to this repo with `use_auth_token` or \n",
       "log in with `huggingface-cli login` and pass `<span style=\"color: #808000; text-decoration-color: #808000\">use_auth_token</span>=<span style=\"color: #00ff00; text-decoration-color: #00ff00; font-style: italic\">True</span>`.\n",
       "</pre>\n"
      ],
      "text/plain": [
       "\u001b[31m╭─\u001b[0m\u001b[31m──────────────────────────────\u001b[0m\u001b[31m \u001b[0m\u001b[1;31mTraceback \u001b[0m\u001b[1;2;31m(most recent call last)\u001b[0m\u001b[31m \u001b[0m\u001b[31m───────────────────────────────\u001b[0m\u001b[31m─╮\u001b[0m\n",
       "\u001b[31m│\u001b[0m \u001b[2;33m/opt/conda/lib/python3.9/site-packages/huggingface_hub/utils/\u001b[0m\u001b[1;33m_errors.py\u001b[0m:\u001b[94m259\u001b[0m in                   \u001b[31m│\u001b[0m\n",
       "\u001b[31m│\u001b[0m \u001b[92mhf_raise_for_status\u001b[0m                                                                              \u001b[31m│\u001b[0m\n",
       "\u001b[31m│\u001b[0m                                                                                                  \u001b[31m│\u001b[0m\n",
       "\u001b[31m│\u001b[0m   \u001b[2m256 \u001b[0m\u001b[2;33m│   \u001b[0m\u001b[33m</Tip>\u001b[0m                                                                                 \u001b[31m│\u001b[0m\n",
       "\u001b[31m│\u001b[0m   \u001b[2m257 \u001b[0m\u001b[2;33m│   \u001b[0m\u001b[33m\"\"\"\u001b[0m                                                                                    \u001b[31m│\u001b[0m\n",
       "\u001b[31m│\u001b[0m   \u001b[2m258 \u001b[0m\u001b[2m│   \u001b[0m\u001b[94mtry\u001b[0m:                                                                                   \u001b[31m│\u001b[0m\n",
       "\u001b[31m│\u001b[0m \u001b[31m❱ \u001b[0m259 \u001b[2m│   │   \u001b[0mresponse.raise_for_status()                                                        \u001b[31m│\u001b[0m\n",
       "\u001b[31m│\u001b[0m   \u001b[2m260 \u001b[0m\u001b[2m│   \u001b[0m\u001b[94mexcept\u001b[0m HTTPError \u001b[94mas\u001b[0m e:                                                                 \u001b[31m│\u001b[0m\n",
       "\u001b[31m│\u001b[0m   \u001b[2m261 \u001b[0m\u001b[2m│   │   \u001b[0merror_code = response.headers.get(\u001b[33m\"\u001b[0m\u001b[33mX-Error-Code\u001b[0m\u001b[33m\"\u001b[0m)                                  \u001b[31m│\u001b[0m\n",
       "\u001b[31m│\u001b[0m   \u001b[2m262 \u001b[0m                                                                                           \u001b[31m│\u001b[0m\n",
       "\u001b[31m│\u001b[0m                                                                                                  \u001b[31m│\u001b[0m\n",
       "\u001b[31m│\u001b[0m \u001b[2;33m/opt/conda/lib/python3.9/site-packages/requests/\u001b[0m\u001b[1;33mmodels.py\u001b[0m:\u001b[94m953\u001b[0m in \u001b[92mraise_for_status\u001b[0m                \u001b[31m│\u001b[0m\n",
       "\u001b[31m│\u001b[0m                                                                                                  \u001b[31m│\u001b[0m\n",
       "\u001b[31m│\u001b[0m   \u001b[2m950 \u001b[0m\u001b[2m│   │   │   \u001b[0mhttp_error_msg = \u001b[33mu\u001b[0m\u001b[33m'\u001b[0m\u001b[33m%s\u001b[0m\u001b[33m Server Error: \u001b[0m\u001b[33m%s\u001b[0m\u001b[33m for url: \u001b[0m\u001b[33m%s\u001b[0m\u001b[33m'\u001b[0m % (\u001b[96mself\u001b[0m.status_code, rea   \u001b[31m│\u001b[0m\n",
       "\u001b[31m│\u001b[0m   \u001b[2m951 \u001b[0m\u001b[2m│   │   \u001b[0m                                                                                   \u001b[31m│\u001b[0m\n",
       "\u001b[31m│\u001b[0m   \u001b[2m952 \u001b[0m\u001b[2m│   │   \u001b[0m\u001b[94mif\u001b[0m http_error_msg:                                                                 \u001b[31m│\u001b[0m\n",
       "\u001b[31m│\u001b[0m \u001b[31m❱ \u001b[0m953 \u001b[2m│   │   │   \u001b[0m\u001b[94mraise\u001b[0m HTTPError(http_error_msg, response=\u001b[96mself\u001b[0m)                                 \u001b[31m│\u001b[0m\n",
       "\u001b[31m│\u001b[0m   \u001b[2m954 \u001b[0m\u001b[2m│   \u001b[0m                                                                                       \u001b[31m│\u001b[0m\n",
       "\u001b[31m│\u001b[0m   \u001b[2m955 \u001b[0m\u001b[2m│   \u001b[0m\u001b[94mdef\u001b[0m \u001b[92mclose\u001b[0m(\u001b[96mself\u001b[0m):                                                                       \u001b[31m│\u001b[0m\n",
       "\u001b[31m│\u001b[0m   \u001b[2m956 \u001b[0m\u001b[2;90m│   │   \u001b[0m\u001b[33m\"\"\"Releases the connection back to the pool. Once this method has been\u001b[0m             \u001b[31m│\u001b[0m\n",
       "\u001b[31m╰──────────────────────────────────────────────────────────────────────────────────────────────────╯\u001b[0m\n",
       "\u001b[1;91mHTTPError: \u001b[0m\u001b[1;36m401\u001b[0m Client Error: Unauthorized for url: \u001b[4;94mhttps://huggingface.co/EleutherAI/LLaMA/resolve/main/config.json\u001b[0m\n",
       "\n",
       "\u001b[3mThe above exception was the direct cause of the following exception:\u001b[0m\n",
       "\n",
       "\u001b[31m╭─\u001b[0m\u001b[31m──────────────────────────────\u001b[0m\u001b[31m \u001b[0m\u001b[1;31mTraceback \u001b[0m\u001b[1;2;31m(most recent call last)\u001b[0m\u001b[31m \u001b[0m\u001b[31m───────────────────────────────\u001b[0m\u001b[31m─╮\u001b[0m\n",
       "\u001b[31m│\u001b[0m \u001b[2;33m/opt/conda/lib/python3.9/site-packages/transformers/utils/\u001b[0m\u001b[1;33mhub.py\u001b[0m:\u001b[94m409\u001b[0m in \u001b[92mcached_file\u001b[0m              \u001b[31m│\u001b[0m\n",
       "\u001b[31m│\u001b[0m                                                                                                  \u001b[31m│\u001b[0m\n",
       "\u001b[31m│\u001b[0m   \u001b[2m 406 \u001b[0m\u001b[2m│   \u001b[0muser_agent = http_user_agent(user_agent)                                              \u001b[31m│\u001b[0m\n",
       "\u001b[31m│\u001b[0m   \u001b[2m 407 \u001b[0m\u001b[2m│   \u001b[0m\u001b[94mtry\u001b[0m:                                                                                  \u001b[31m│\u001b[0m\n",
       "\u001b[31m│\u001b[0m   \u001b[2m 408 \u001b[0m\u001b[2m│   │   \u001b[0m\u001b[2m# Load from URL or cache if already cached\u001b[0m                                        \u001b[31m│\u001b[0m\n",
       "\u001b[31m│\u001b[0m \u001b[31m❱ \u001b[0m 409 \u001b[2m│   │   \u001b[0mresolved_file = hf_hub_download(                                                  \u001b[31m│\u001b[0m\n",
       "\u001b[31m│\u001b[0m   \u001b[2m 410 \u001b[0m\u001b[2m│   │   │   \u001b[0mpath_or_repo_id,                                                              \u001b[31m│\u001b[0m\n",
       "\u001b[31m│\u001b[0m   \u001b[2m 411 \u001b[0m\u001b[2m│   │   │   \u001b[0mfilename,                                                                     \u001b[31m│\u001b[0m\n",
       "\u001b[31m│\u001b[0m   \u001b[2m 412 \u001b[0m\u001b[2m│   │   │   \u001b[0msubfolder=\u001b[94mNone\u001b[0m \u001b[94mif\u001b[0m \u001b[96mlen\u001b[0m(subfolder) == \u001b[94m0\u001b[0m \u001b[94melse\u001b[0m subfolder,                         \u001b[31m│\u001b[0m\n",
       "\u001b[31m│\u001b[0m                                                                                                  \u001b[31m│\u001b[0m\n",
       "\u001b[31m│\u001b[0m \u001b[2;33m/opt/conda/lib/python3.9/site-packages/huggingface_hub/utils/\u001b[0m\u001b[1;33m_validators.py\u001b[0m:\u001b[94m118\u001b[0m in \u001b[92m_inner_fn\u001b[0m     \u001b[31m│\u001b[0m\n",
       "\u001b[31m│\u001b[0m                                                                                                  \u001b[31m│\u001b[0m\n",
       "\u001b[31m│\u001b[0m   \u001b[2m115 \u001b[0m\u001b[2m│   │   \u001b[0m\u001b[94mif\u001b[0m check_use_auth_token:                                                           \u001b[31m│\u001b[0m\n",
       "\u001b[31m│\u001b[0m   \u001b[2m116 \u001b[0m\u001b[2m│   │   │   \u001b[0mkwargs = smoothly_deprecate_use_auth_token(fn_name=fn.\u001b[91m__name__\u001b[0m, has_token=ha   \u001b[31m│\u001b[0m\n",
       "\u001b[31m│\u001b[0m   \u001b[2m117 \u001b[0m\u001b[2m│   │   \u001b[0m                                                                                   \u001b[31m│\u001b[0m\n",
       "\u001b[31m│\u001b[0m \u001b[31m❱ \u001b[0m118 \u001b[2m│   │   \u001b[0m\u001b[94mreturn\u001b[0m fn(*args, **kwargs)                                                         \u001b[31m│\u001b[0m\n",
       "\u001b[31m│\u001b[0m   \u001b[2m119 \u001b[0m\u001b[2m│   \u001b[0m                                                                                       \u001b[31m│\u001b[0m\n",
       "\u001b[31m│\u001b[0m   \u001b[2m120 \u001b[0m\u001b[2m│   \u001b[0m\u001b[94mreturn\u001b[0m _inner_fn  \u001b[2m# type: ignore\u001b[0m                                                       \u001b[31m│\u001b[0m\n",
       "\u001b[31m│\u001b[0m   \u001b[2m121 \u001b[0m                                                                                           \u001b[31m│\u001b[0m\n",
       "\u001b[31m│\u001b[0m                                                                                                  \u001b[31m│\u001b[0m\n",
       "\u001b[31m│\u001b[0m \u001b[2;33m/opt/conda/lib/python3.9/site-packages/huggingface_hub/\u001b[0m\u001b[1;33mfile_download.py\u001b[0m:\u001b[94m1195\u001b[0m in \u001b[92mhf_hub_download\u001b[0m  \u001b[31m│\u001b[0m\n",
       "\u001b[31m│\u001b[0m                                                                                                  \u001b[31m│\u001b[0m\n",
       "\u001b[31m│\u001b[0m   \u001b[2m1192 \u001b[0m\u001b[2m│   \u001b[0m\u001b[94mif\u001b[0m \u001b[95mnot\u001b[0m local_files_only:                                                              \u001b[31m│\u001b[0m\n",
       "\u001b[31m│\u001b[0m   \u001b[2m1193 \u001b[0m\u001b[2m│   │   \u001b[0m\u001b[94mtry\u001b[0m:                                                                              \u001b[31m│\u001b[0m\n",
       "\u001b[31m│\u001b[0m   \u001b[2m1194 \u001b[0m\u001b[2m│   │   │   \u001b[0m\u001b[94mtry\u001b[0m:                                                                          \u001b[31m│\u001b[0m\n",
       "\u001b[31m│\u001b[0m \u001b[31m❱ \u001b[0m1195 \u001b[2m│   │   │   │   \u001b[0mmetadata = get_hf_file_metadata(                                          \u001b[31m│\u001b[0m\n",
       "\u001b[31m│\u001b[0m   \u001b[2m1196 \u001b[0m\u001b[2m│   │   │   │   │   \u001b[0murl=url,                                                              \u001b[31m│\u001b[0m\n",
       "\u001b[31m│\u001b[0m   \u001b[2m1197 \u001b[0m\u001b[2m│   │   │   │   │   \u001b[0mtoken=token,                                                          \u001b[31m│\u001b[0m\n",
       "\u001b[31m│\u001b[0m   \u001b[2m1198 \u001b[0m\u001b[2m│   │   │   │   │   \u001b[0mproxies=proxies,                                                      \u001b[31m│\u001b[0m\n",
       "\u001b[31m│\u001b[0m                                                                                                  \u001b[31m│\u001b[0m\n",
       "\u001b[31m│\u001b[0m \u001b[2;33m/opt/conda/lib/python3.9/site-packages/huggingface_hub/utils/\u001b[0m\u001b[1;33m_validators.py\u001b[0m:\u001b[94m118\u001b[0m in \u001b[92m_inner_fn\u001b[0m     \u001b[31m│\u001b[0m\n",
       "\u001b[31m│\u001b[0m                                                                                                  \u001b[31m│\u001b[0m\n",
       "\u001b[31m│\u001b[0m   \u001b[2m115 \u001b[0m\u001b[2m│   │   \u001b[0m\u001b[94mif\u001b[0m check_use_auth_token:                                                           \u001b[31m│\u001b[0m\n",
       "\u001b[31m│\u001b[0m   \u001b[2m116 \u001b[0m\u001b[2m│   │   │   \u001b[0mkwargs = smoothly_deprecate_use_auth_token(fn_name=fn.\u001b[91m__name__\u001b[0m, has_token=ha   \u001b[31m│\u001b[0m\n",
       "\u001b[31m│\u001b[0m   \u001b[2m117 \u001b[0m\u001b[2m│   │   \u001b[0m                                                                                   \u001b[31m│\u001b[0m\n",
       "\u001b[31m│\u001b[0m \u001b[31m❱ \u001b[0m118 \u001b[2m│   │   \u001b[0m\u001b[94mreturn\u001b[0m fn(*args, **kwargs)                                                         \u001b[31m│\u001b[0m\n",
       "\u001b[31m│\u001b[0m   \u001b[2m119 \u001b[0m\u001b[2m│   \u001b[0m                                                                                       \u001b[31m│\u001b[0m\n",
       "\u001b[31m│\u001b[0m   \u001b[2m120 \u001b[0m\u001b[2m│   \u001b[0m\u001b[94mreturn\u001b[0m _inner_fn  \u001b[2m# type: ignore\u001b[0m                                                       \u001b[31m│\u001b[0m\n",
       "\u001b[31m│\u001b[0m   \u001b[2m121 \u001b[0m                                                                                           \u001b[31m│\u001b[0m\n",
       "\u001b[31m│\u001b[0m                                                                                                  \u001b[31m│\u001b[0m\n",
       "\u001b[31m│\u001b[0m \u001b[2;33m/opt/conda/lib/python3.9/site-packages/huggingface_hub/\u001b[0m\u001b[1;33mfile_download.py\u001b[0m:\u001b[94m1541\u001b[0m in                  \u001b[31m│\u001b[0m\n",
       "\u001b[31m│\u001b[0m \u001b[92mget_hf_file_metadata\u001b[0m                                                                             \u001b[31m│\u001b[0m\n",
       "\u001b[31m│\u001b[0m                                                                                                  \u001b[31m│\u001b[0m\n",
       "\u001b[31m│\u001b[0m   \u001b[2m1538 \u001b[0m\u001b[2m│   │   \u001b[0mproxies=proxies,                                                                  \u001b[31m│\u001b[0m\n",
       "\u001b[31m│\u001b[0m   \u001b[2m1539 \u001b[0m\u001b[2m│   │   \u001b[0mtimeout=timeout,                                                                  \u001b[31m│\u001b[0m\n",
       "\u001b[31m│\u001b[0m   \u001b[2m1540 \u001b[0m\u001b[2m│   \u001b[0m)                                                                                     \u001b[31m│\u001b[0m\n",
       "\u001b[31m│\u001b[0m \u001b[31m❱ \u001b[0m1541 \u001b[2m│   \u001b[0mhf_raise_for_status(r)                                                                \u001b[31m│\u001b[0m\n",
       "\u001b[31m│\u001b[0m   \u001b[2m1542 \u001b[0m\u001b[2m│   \u001b[0m                                                                                      \u001b[31m│\u001b[0m\n",
       "\u001b[31m│\u001b[0m   \u001b[2m1543 \u001b[0m\u001b[2m│   \u001b[0m\u001b[2m# Return\u001b[0m                                                                              \u001b[31m│\u001b[0m\n",
       "\u001b[31m│\u001b[0m   \u001b[2m1544 \u001b[0m\u001b[2m│   \u001b[0m\u001b[94mreturn\u001b[0m HfFileMetadata(                                                                \u001b[31m│\u001b[0m\n",
       "\u001b[31m│\u001b[0m                                                                                                  \u001b[31m│\u001b[0m\n",
       "\u001b[31m│\u001b[0m \u001b[2;33m/opt/conda/lib/python3.9/site-packages/huggingface_hub/utils/\u001b[0m\u001b[1;33m_errors.py\u001b[0m:\u001b[94m291\u001b[0m in                   \u001b[31m│\u001b[0m\n",
       "\u001b[31m│\u001b[0m \u001b[92mhf_raise_for_status\u001b[0m                                                                              \u001b[31m│\u001b[0m\n",
       "\u001b[31m│\u001b[0m                                                                                                  \u001b[31m│\u001b[0m\n",
       "\u001b[31m│\u001b[0m   \u001b[2m288 \u001b[0m\u001b[2m│   │   │   │   \u001b[0m\u001b[33m\"\u001b[0m\u001b[33m `repo_type`.\u001b[0m\u001b[33m\\n\u001b[0m\u001b[33mIf you are trying to access a private or gated repo,\u001b[0m\u001b[33m\"\u001b[0m      \u001b[31m│\u001b[0m\n",
       "\u001b[31m│\u001b[0m   \u001b[2m289 \u001b[0m\u001b[2m│   │   │   │   \u001b[0m\u001b[33m\"\u001b[0m\u001b[33m make sure you are authenticated.\u001b[0m\u001b[33m\"\u001b[0m                                        \u001b[31m│\u001b[0m\n",
       "\u001b[31m│\u001b[0m   \u001b[2m290 \u001b[0m\u001b[2m│   │   │   \u001b[0m)                                                                              \u001b[31m│\u001b[0m\n",
       "\u001b[31m│\u001b[0m \u001b[31m❱ \u001b[0m291 \u001b[2m│   │   │   \u001b[0m\u001b[94mraise\u001b[0m RepositoryNotFoundError(message, response) \u001b[94mfrom\u001b[0m \u001b[4;96me\u001b[0m                        \u001b[31m│\u001b[0m\n",
       "\u001b[31m│\u001b[0m   \u001b[2m292 \u001b[0m\u001b[2m│   │   \u001b[0m                                                                                   \u001b[31m│\u001b[0m\n",
       "\u001b[31m│\u001b[0m   \u001b[2m293 \u001b[0m\u001b[2m│   │   \u001b[0m\u001b[94melif\u001b[0m response.status_code == \u001b[94m400\u001b[0m:                                                  \u001b[31m│\u001b[0m\n",
       "\u001b[31m│\u001b[0m   \u001b[2m294 \u001b[0m\u001b[2m│   │   │   \u001b[0mmessage = (                                                                    \u001b[31m│\u001b[0m\n",
       "\u001b[31m╰──────────────────────────────────────────────────────────────────────────────────────────────────╯\u001b[0m\n",
       "\u001b[1;91mRepositoryNotFoundError: \u001b[0m\u001b[1;36m401\u001b[0m Client Error. \u001b[1m(\u001b[0mRequest ID: \u001b[33mRoot\u001b[0m=\u001b[1;36m1\u001b[0m-65095ea1-139ef08a34f9036201a73093\u001b[1m)\u001b[0m\n",
       "\n",
       "Repository Not Found for url: \u001b[4;94mhttps://huggingface.co/EleutherAI/LLaMA/resolve/main/config.json.\u001b[0m\n",
       "Please make sure you specified the correct `repo_id` and `repo_type`.\n",
       "If you are trying to access a private or gated repo, make sure you are authenticated.\n",
       "Invalid username or password.\n",
       "\n",
       "\u001b[3mDuring handling of the above exception, another exception occurred:\u001b[0m\n",
       "\n",
       "\u001b[31m╭─\u001b[0m\u001b[31m──────────────────────────────\u001b[0m\u001b[31m \u001b[0m\u001b[1;31mTraceback \u001b[0m\u001b[1;2;31m(most recent call last)\u001b[0m\u001b[31m \u001b[0m\u001b[31m───────────────────────────────\u001b[0m\u001b[31m─╮\u001b[0m\n",
       "\u001b[31m│\u001b[0m in \u001b[92m<module>\u001b[0m:\u001b[94m3\u001b[0m                                                                                    \u001b[31m│\u001b[0m\n",
       "\u001b[31m│\u001b[0m                                                                                                  \u001b[31m│\u001b[0m\n",
       "\u001b[31m│\u001b[0m   \u001b[2m 1 \u001b[0m\u001b[2m# 모델 선언\u001b[0m                                                                                 \u001b[31m│\u001b[0m\n",
       "\u001b[31m│\u001b[0m   \u001b[2m 2 \u001b[0mmodel_name = \u001b[33m'\u001b[0m\u001b[33mEleutherAI/LLaMA\u001b[0m\u001b[33m'\u001b[0m                                                             \u001b[31m│\u001b[0m\n",
       "\u001b[31m│\u001b[0m \u001b[31m❱ \u001b[0m 3 model = AutoModelForCausalLM.from_pretrained(model_name)                                    \u001b[31m│\u001b[0m\n",
       "\u001b[31m│\u001b[0m   \u001b[2m 4 \u001b[0mtokenizer = AutoTokenizer.from_pretrained(                                                  \u001b[31m│\u001b[0m\n",
       "\u001b[31m│\u001b[0m   \u001b[2m 5 \u001b[0m\u001b[2m│   \u001b[0mmodel_name, bos_token=\u001b[33m'\u001b[0m\u001b[33m</s>\u001b[0m\u001b[33m'\u001b[0m, eos_token=\u001b[33m'\u001b[0m\u001b[33m</s>\u001b[0m\u001b[33m'\u001b[0m, unk_token=\u001b[33m'\u001b[0m\u001b[33m</s>\u001b[0m\u001b[33m'\u001b[0m, pad_token=\u001b[33m'\u001b[0m\u001b[33m</s>\u001b[0m\u001b[33m'\u001b[0m,     \u001b[31m│\u001b[0m\n",
       "\u001b[31m│\u001b[0m   \u001b[2m 6 \u001b[0m\u001b[2m│   \u001b[0mpadding_side=\u001b[33m\"\u001b[0m\u001b[33mright\u001b[0m\u001b[33m\"\u001b[0m,                                                                   \u001b[31m│\u001b[0m\n",
       "\u001b[31m│\u001b[0m                                                                                                  \u001b[31m│\u001b[0m\n",
       "\u001b[31m│\u001b[0m \u001b[2;33m/opt/conda/lib/python3.9/site-packages/transformers/models/auto/\u001b[0m\u001b[1;33mauto_factory.py\u001b[0m:\u001b[94m441\u001b[0m in           \u001b[31m│\u001b[0m\n",
       "\u001b[31m│\u001b[0m \u001b[92mfrom_pretrained\u001b[0m                                                                                  \u001b[31m│\u001b[0m\n",
       "\u001b[31m│\u001b[0m                                                                                                  \u001b[31m│\u001b[0m\n",
       "\u001b[31m│\u001b[0m   \u001b[2m438 \u001b[0m\u001b[2m│   │   │   \u001b[0m\u001b[94mif\u001b[0m kwargs_copy.get(\u001b[33m\"\u001b[0m\u001b[33mtorch_dtype\u001b[0m\u001b[33m\"\u001b[0m, \u001b[94mNone\u001b[0m) == \u001b[33m\"\u001b[0m\u001b[33mauto\u001b[0m\u001b[33m\"\u001b[0m:                             \u001b[31m│\u001b[0m\n",
       "\u001b[31m│\u001b[0m   \u001b[2m439 \u001b[0m\u001b[2m│   │   │   │   \u001b[0m_ = kwargs_copy.pop(\u001b[33m\"\u001b[0m\u001b[33mtorch_dtype\u001b[0m\u001b[33m\"\u001b[0m)                                         \u001b[31m│\u001b[0m\n",
       "\u001b[31m│\u001b[0m   \u001b[2m440 \u001b[0m\u001b[2m│   │   │   \u001b[0m                                                                               \u001b[31m│\u001b[0m\n",
       "\u001b[31m│\u001b[0m \u001b[31m❱ \u001b[0m441 \u001b[2m│   │   │   \u001b[0mconfig, kwargs = AutoConfig.from_pretrained(                                   \u001b[31m│\u001b[0m\n",
       "\u001b[31m│\u001b[0m   \u001b[2m442 \u001b[0m\u001b[2m│   │   │   │   \u001b[0mpretrained_model_name_or_path,                                             \u001b[31m│\u001b[0m\n",
       "\u001b[31m│\u001b[0m   \u001b[2m443 \u001b[0m\u001b[2m│   │   │   │   \u001b[0mreturn_unused_kwargs=\u001b[94mTrue\u001b[0m,                                                 \u001b[31m│\u001b[0m\n",
       "\u001b[31m│\u001b[0m   \u001b[2m444 \u001b[0m\u001b[2m│   │   │   │   \u001b[0mtrust_remote_code=trust_remote_code,                                       \u001b[31m│\u001b[0m\n",
       "\u001b[31m│\u001b[0m                                                                                                  \u001b[31m│\u001b[0m\n",
       "\u001b[31m│\u001b[0m \u001b[2;33m/opt/conda/lib/python3.9/site-packages/transformers/models/auto/\u001b[0m\u001b[1;33mconfiguration_auto.py\u001b[0m:\u001b[94m916\u001b[0m in     \u001b[31m│\u001b[0m\n",
       "\u001b[31m│\u001b[0m \u001b[92mfrom_pretrained\u001b[0m                                                                                  \u001b[31m│\u001b[0m\n",
       "\u001b[31m│\u001b[0m                                                                                                  \u001b[31m│\u001b[0m\n",
       "\u001b[31m│\u001b[0m   \u001b[2m913 \u001b[0m\u001b[2m│   │   \u001b[0mkwargs[\u001b[33m\"\u001b[0m\u001b[33m_from_auto\u001b[0m\u001b[33m\"\u001b[0m] = \u001b[94mTrue\u001b[0m                                                        \u001b[31m│\u001b[0m\n",
       "\u001b[31m│\u001b[0m   \u001b[2m914 \u001b[0m\u001b[2m│   │   \u001b[0mkwargs[\u001b[33m\"\u001b[0m\u001b[33mname_or_path\u001b[0m\u001b[33m\"\u001b[0m] = pretrained_model_name_or_path                             \u001b[31m│\u001b[0m\n",
       "\u001b[31m│\u001b[0m   \u001b[2m915 \u001b[0m\u001b[2m│   │   \u001b[0mtrust_remote_code = kwargs.pop(\u001b[33m\"\u001b[0m\u001b[33mtrust_remote_code\u001b[0m\u001b[33m\"\u001b[0m, \u001b[94mFalse\u001b[0m)                         \u001b[31m│\u001b[0m\n",
       "\u001b[31m│\u001b[0m \u001b[31m❱ \u001b[0m916 \u001b[2m│   │   \u001b[0mconfig_dict, unused_kwargs = PretrainedConfig.get_config_dict(pretrained_model_n   \u001b[31m│\u001b[0m\n",
       "\u001b[31m│\u001b[0m   \u001b[2m917 \u001b[0m\u001b[2m│   │   \u001b[0m\u001b[94mif\u001b[0m \u001b[33m\"\u001b[0m\u001b[33mauto_map\u001b[0m\u001b[33m\"\u001b[0m \u001b[95min\u001b[0m config_dict \u001b[95mand\u001b[0m \u001b[33m\"\u001b[0m\u001b[33mAutoConfig\u001b[0m\u001b[33m\"\u001b[0m \u001b[95min\u001b[0m config_dict[\u001b[33m\"\u001b[0m\u001b[33mauto_map\u001b[0m\u001b[33m\"\u001b[0m]:          \u001b[31m│\u001b[0m\n",
       "\u001b[31m│\u001b[0m   \u001b[2m918 \u001b[0m\u001b[2m│   │   │   \u001b[0m\u001b[94mif\u001b[0m \u001b[95mnot\u001b[0m trust_remote_code:                                                      \u001b[31m│\u001b[0m\n",
       "\u001b[31m│\u001b[0m   \u001b[2m919 \u001b[0m\u001b[2m│   │   │   │   \u001b[0m\u001b[94mraise\u001b[0m \u001b[96mValueError\u001b[0m(                                                          \u001b[31m│\u001b[0m\n",
       "\u001b[31m│\u001b[0m                                                                                                  \u001b[31m│\u001b[0m\n",
       "\u001b[31m│\u001b[0m \u001b[2;33m/opt/conda/lib/python3.9/site-packages/transformers/\u001b[0m\u001b[1;33mconfiguration_utils.py\u001b[0m:\u001b[94m573\u001b[0m in                \u001b[31m│\u001b[0m\n",
       "\u001b[31m│\u001b[0m \u001b[92mget_config_dict\u001b[0m                                                                                  \u001b[31m│\u001b[0m\n",
       "\u001b[31m│\u001b[0m                                                                                                  \u001b[31m│\u001b[0m\n",
       "\u001b[31m│\u001b[0m   \u001b[2m570 \u001b[0m\u001b[2;33m│   │   \u001b[0m\u001b[33m\"\"\"\u001b[0m                                                                                \u001b[31m│\u001b[0m\n",
       "\u001b[31m│\u001b[0m   \u001b[2m571 \u001b[0m\u001b[2m│   │   \u001b[0moriginal_kwargs = copy.deepcopy(kwargs)                                            \u001b[31m│\u001b[0m\n",
       "\u001b[31m│\u001b[0m   \u001b[2m572 \u001b[0m\u001b[2m│   │   \u001b[0m\u001b[2m# Get config dict associated with the base config file\u001b[0m                             \u001b[31m│\u001b[0m\n",
       "\u001b[31m│\u001b[0m \u001b[31m❱ \u001b[0m573 \u001b[2m│   │   \u001b[0mconfig_dict, kwargs = \u001b[96mcls\u001b[0m._get_config_dict(pretrained_model_name_or_path, **kwar   \u001b[31m│\u001b[0m\n",
       "\u001b[31m│\u001b[0m   \u001b[2m574 \u001b[0m\u001b[2m│   │   \u001b[0m\u001b[94mif\u001b[0m \u001b[33m\"\u001b[0m\u001b[33m_commit_hash\u001b[0m\u001b[33m\"\u001b[0m \u001b[95min\u001b[0m config_dict:                                                  \u001b[31m│\u001b[0m\n",
       "\u001b[31m│\u001b[0m   \u001b[2m575 \u001b[0m\u001b[2m│   │   │   \u001b[0moriginal_kwargs[\u001b[33m\"\u001b[0m\u001b[33m_commit_hash\u001b[0m\u001b[33m\"\u001b[0m] = config_dict[\u001b[33m\"\u001b[0m\u001b[33m_commit_hash\u001b[0m\u001b[33m\"\u001b[0m]                  \u001b[31m│\u001b[0m\n",
       "\u001b[31m│\u001b[0m   \u001b[2m576 \u001b[0m                                                                                           \u001b[31m│\u001b[0m\n",
       "\u001b[31m│\u001b[0m                                                                                                  \u001b[31m│\u001b[0m\n",
       "\u001b[31m│\u001b[0m \u001b[2;33m/opt/conda/lib/python3.9/site-packages/transformers/\u001b[0m\u001b[1;33mconfiguration_utils.py\u001b[0m:\u001b[94m628\u001b[0m in                \u001b[31m│\u001b[0m\n",
       "\u001b[31m│\u001b[0m \u001b[92m_get_config_dict\u001b[0m                                                                                 \u001b[31m│\u001b[0m\n",
       "\u001b[31m│\u001b[0m                                                                                                  \u001b[31m│\u001b[0m\n",
       "\u001b[31m│\u001b[0m   \u001b[2m625 \u001b[0m\u001b[2m│   │   │   \u001b[0m                                                                               \u001b[31m│\u001b[0m\n",
       "\u001b[31m│\u001b[0m   \u001b[2m626 \u001b[0m\u001b[2m│   │   │   \u001b[0m\u001b[94mtry\u001b[0m:                                                                           \u001b[31m│\u001b[0m\n",
       "\u001b[31m│\u001b[0m   \u001b[2m627 \u001b[0m\u001b[2m│   │   │   │   \u001b[0m\u001b[2m# Load from local folder or from cache or download from model Hub and ca\u001b[0m   \u001b[31m│\u001b[0m\n",
       "\u001b[31m│\u001b[0m \u001b[31m❱ \u001b[0m628 \u001b[2m│   │   │   │   \u001b[0mresolved_config_file = cached_file(                                        \u001b[31m│\u001b[0m\n",
       "\u001b[31m│\u001b[0m   \u001b[2m629 \u001b[0m\u001b[2m│   │   │   │   │   \u001b[0mpretrained_model_name_or_path,                                         \u001b[31m│\u001b[0m\n",
       "\u001b[31m│\u001b[0m   \u001b[2m630 \u001b[0m\u001b[2m│   │   │   │   │   \u001b[0mconfiguration_file,                                                    \u001b[31m│\u001b[0m\n",
       "\u001b[31m│\u001b[0m   \u001b[2m631 \u001b[0m\u001b[2m│   │   │   │   │   \u001b[0mcache_dir=cache_dir,                                                   \u001b[31m│\u001b[0m\n",
       "\u001b[31m│\u001b[0m                                                                                                  \u001b[31m│\u001b[0m\n",
       "\u001b[31m│\u001b[0m \u001b[2;33m/opt/conda/lib/python3.9/site-packages/transformers/utils/\u001b[0m\u001b[1;33mhub.py\u001b[0m:\u001b[94m424\u001b[0m in \u001b[92mcached_file\u001b[0m              \u001b[31m│\u001b[0m\n",
       "\u001b[31m│\u001b[0m                                                                                                  \u001b[31m│\u001b[0m\n",
       "\u001b[31m│\u001b[0m   \u001b[2m 421 \u001b[0m\u001b[2m│   │   \u001b[0m)                                                                                 \u001b[31m│\u001b[0m\n",
       "\u001b[31m│\u001b[0m   \u001b[2m 422 \u001b[0m\u001b[2m│   \u001b[0m                                                                                      \u001b[31m│\u001b[0m\n",
       "\u001b[31m│\u001b[0m   \u001b[2m 423 \u001b[0m\u001b[2m│   \u001b[0m\u001b[94mexcept\u001b[0m RepositoryNotFoundError:                                                       \u001b[31m│\u001b[0m\n",
       "\u001b[31m│\u001b[0m \u001b[31m❱ \u001b[0m 424 \u001b[2m│   │   \u001b[0m\u001b[94mraise\u001b[0m \u001b[96mEnvironmentError\u001b[0m(                                                           \u001b[31m│\u001b[0m\n",
       "\u001b[31m│\u001b[0m   \u001b[2m 425 \u001b[0m\u001b[2m│   │   │   \u001b[0m\u001b[33mf\u001b[0m\u001b[33m\"\u001b[0m\u001b[33m{\u001b[0mpath_or_repo_id\u001b[33m}\u001b[0m\u001b[33m is not a local folder and is not a valid model identifie\u001b[0m  \u001b[31m│\u001b[0m\n",
       "\u001b[31m│\u001b[0m   \u001b[2m 426 \u001b[0m\u001b[2m│   │   │   \u001b[0m\u001b[33m\"\u001b[0m\u001b[33mlisted on \u001b[0m\u001b[33m'\u001b[0m\u001b[33mhttps://huggingface.co/models\u001b[0m\u001b[33m'\u001b[0m\u001b[33m\\n\u001b[0m\u001b[33mIf this is a private repository,\u001b[0m  \u001b[31m│\u001b[0m\n",
       "\u001b[31m│\u001b[0m   \u001b[2m 427 \u001b[0m\u001b[2m│   │   │   \u001b[0m\u001b[33m\"\u001b[0m\u001b[33mpass a token having permission to this repo with `use_auth_token` or log in\u001b[0m  \u001b[31m│\u001b[0m\n",
       "\u001b[31m╰──────────────────────────────────────────────────────────────────────────────────────────────────╯\u001b[0m\n",
       "\u001b[1;91mOSError: \u001b[0mEleutherAI/LLaMA is not a local folder and is not a valid model identifier listed on \n",
       "\u001b[32m'https://huggingface.co/models'\u001b[0m\n",
       "If this is a private repository, make sure to pass a token having permission to this repo with `use_auth_token` or \n",
       "log in with `huggingface-cli login` and pass `\u001b[33muse_auth_token\u001b[0m=\u001b[3;92mTrue\u001b[0m`.\n"
      ]
     },
     "metadata": {},
     "output_type": "display_data"
    }
   ],
   "source": [
    "# 모델 선언\n",
    "model_name = 'EleutherAI/LLaMA'\n",
    "model = AutoModelForCausalLM.from_pretrained(model_name)\n",
    "tokenizer = AutoTokenizer.from_pretrained(\n",
    "    model_name, bos_token='</s>', eos_token='</s>', unk_token='</s>', pad_token='</s>',\n",
    "    padding_side=\"right\",\n",
    "    model_max_length=512,\n",
    ")\n",
    "\n",
    "print(tokenizer)"
   ]
  },
  {
   "cell_type": "markdown",
   "metadata": {},
   "source": [
    "##### **참고**\n",
    "\n",
    "LLM Trend Note2 노드에서 살펴본 KoChatGPT 소스코드는<br>\n",
    "빠르게 baseline모델을 설계해 실습해보기 위해 오리지널 코드를 일부 수정한 버전입니다.<br>\n",
    "프로젝트 진행을 위해 모델을 커스터마이징할 때, 필요시 \"colossalai_ChatGPT_230319\" 폴더 내의 원본 스크립트들을 참고하세요."
   ]
  },
  {
   "cell_type": "markdown",
   "metadata": {},
   "source": [
    "## **27-2. 프로젝트 제출**"
   ]
  },
  {
   "cell_type": "markdown",
   "metadata": {},
   "source": [
    "##### **루브릭**\n",
    "아래의 기준을 바탕으로 프로젝트를 평가합니다."
   ]
  },
  {
   "cell_type": "markdown",
   "metadata": {},
   "source": [
    "|평가문항|상세기준|\n",
    "|--|--|\n",
    "|1. 기존 데이터셋을 추가 정제하고, generation 성능을 끌어올리기 위한 기법들을 실험해 모델 perfomance를 향상시켜보았는가?\t|기존 데이터셋의 문제점을 분석하고 전처리 전략을 수립해 추가 정제를 진행했다. Beam search, Top-k(p) sampling 등 최선의 디코딩 전략을 수립해 향상된 모델 추론 결과를 제시했다. BLEU, ROUGE 등 생성된 텍스트를 평가하기 위한 메트릭을 적용한 정량적인 평가 결과와 주관적인 평가를 비교분석하였다.|\n",
    "|2. 새로운 데이터를 수집해 전처리를 수행하여 모델을 재학습시켜보았는가?|모두의 말뭉치, AI hub 등에 공개된 데이터를 사용해 추가 데이터셋을 구축하기 위한 기준과 근거를 수립했다. ChatGPT API나 다양한 한국어 benchmark 데이터셋을 활용해 Human Feedback 을 대체할 수 있는 아이디어를 구현했다. 위를 바탕으로 SFT, RM, PPO 세 단계에 필요한 각 데이터셋을 적절히 구축하여, 모델 추론 결과와 수립한 가설을 비교해보았다.|\n",
    "|3. 학습 전략 또는 foundation model을 변경해 모델을 재학습시켜보았는가?|더 적절한 Instruction Tuning 기법을 적용해 SFT를 해보거나, Reward Model의 ranking algorithm을 개선해보았다. KoGPT-2가 아닌 다른 모델을 initial model로 사용하여 모델 학습을 성공시켰다. 허깅페이스의 accelerate, bitsandbytes 라이브러리 등을 사용하여 더 큰 스케일의 모델로 ChatGPT를 re-building해 모델 성능을 향상시켰다.|"
   ]
  }
 ],
 "metadata": {
  "kernelspec": {
   "display_name": "Python 3 (ipykernel)",
   "language": "python",
   "name": "python3"
  },
  "language_info": {
   "codemirror_mode": {
    "name": "ipython",
    "version": 3
   },
   "file_extension": ".py",
   "mimetype": "text/x-python",
   "name": "python",
   "nbconvert_exporter": "python",
   "pygments_lexer": "ipython3",
   "version": "3.9.7"
  }
 },
 "nbformat": 4,
 "nbformat_minor": 2
}
